{
 "cells": [
  {
   "cell_type": "markdown",
   "id": "41d3e895",
   "metadata": {},
   "source": [
    "## Appendix"
   ]
  },
  {
   "cell_type": "markdown",
   "id": "ba459f7b",
   "metadata": {},
   "source": [
    "Code accompanying the Appendix for [Eye On Semantics](https://osf.io/wyp7a/).\\\n",
    "The provo corpus can be downloaded from this [repository](https://osf.io/sjefs/).\\\n",
    "Preprocessing of the data used in this analysis can be found on the [Github EOS repository](https://github.com/magna-fede/EOS)."
   ]
  },
  {
   "cell_type": "markdown",
   "id": "1850d798",
   "metadata": {},
   "source": [
    "Import relevanta packages."
   ]
  },
  {
   "cell_type": "code",
   "execution_count": 124,
   "id": "f8530e57",
   "metadata": {},
   "outputs": [],
   "source": [
    "library(readxl)\n",
    "library(lme4)\n",
    "library(lmerTest)\n",
    "library(lattice)\n",
    "require(ggeffects)\n",
    "library(ggplot2)\n",
    "require(easystats)\n",
    "library(\"dplyr\")"
   ]
  },
  {
   "cell_type": "markdown",
   "id": "53fcae87",
   "metadata": {},
   "source": [
    "Exclude NA values and words that were not fixated."
   ]
  },
  {
   "cell_type": "code",
   "execution_count": 125,
   "id": "b63dd979",
   "metadata": {},
   "outputs": [],
   "source": [
    "subset_provo <- read.csv(\"U:/Downloads/provo_normalised_pred.csv\")\n",
    "subset_provo <- na.omit(subset_provo)\n",
    "subset_provo <- subset_provo[subset_provo$IA_FIRST_FIXATION_DURATION != 0, ]"
   ]
  },
  {
   "cell_type": "markdown",
   "id": "39645cda",
   "metadata": {},
   "source": [
    "Rename the variables for easy life when exporting the tables."
   ]
  },
  {
   "cell_type": "code",
   "execution_count": 126,
   "id": "31b3a4c8",
   "metadata": {},
   "outputs": [],
   "source": [
    "data <- subset_provo %>% \n",
    "     rename(\"Item_ID\" = \"Word_Unique_ID\",\n",
    "            \"Length\" = \"Word_Length\",\n",
    "            \"Position\" = \"Word_Number\",\n",
    "            \"Cloze\" = \"OrthographicMatch\",\n",
    "            \"Predictability\" = \"Predictabilty\",\n",
    "            \"Category\" = \"Word_POS\",\n",
    "            \"FFD\" = \"IA_FIRST_FIXATION_DURATION\",\n",
    "            \"GD\" = \"IA_FIRST_RUN_DWELL_TIME\",\n",
    "            \"Concreteness\" = \"Conc.M\")"
   ]
  },
  {
   "cell_type": "markdown",
   "id": "7bade24f",
   "metadata": {},
   "source": [
    "# FFD"
   ]
  },
  {
   "cell_type": "code",
   "execution_count": 127,
   "id": "f6dab5b3",
   "metadata": {},
   "outputs": [],
   "source": [
    "ffd <- lmer(FFD ~ Zipf.value + Length + Position + Cloze*Concreteness*Category +\n",
    "                + (1|Participant_ID) + (1|Item_ID), data = data,\n",
    "            control=lmerControl(optimizer=\"bobyqa\", optCtrl=list(maxfun=50000)))"
   ]
  },
  {
   "cell_type": "markdown",
   "id": "ee906310",
   "metadata": {},
   "source": [
    "Export FFD results."
   ]
  },
  {
   "cell_type": "code",
   "execution_count": 128,
   "id": "2ec49775",
   "metadata": {},
   "outputs": [],
   "source": [
    "sjPlot::tab_model(ffd)"
   ]
  },
  {
   "cell_type": "code",
   "execution_count": 129,
   "id": "fe0166b5",
   "metadata": {},
   "outputs": [],
   "source": [
    "model_a <- lmer(FFD ~ Zipf.value + Length + Position + Cloze*Concreteness*Category +\n",
    "                + (1|Participant_ID) + (1|Item_ID), data = data, REML = FALSE)"
   ]
  },
  {
   "cell_type": "code",
   "execution_count": 130,
   "id": "70b98371",
   "metadata": {},
   "outputs": [],
   "source": [
    "model_b <- lmer(FFD ~ Zipf.value + Length + Position + Cloze*Category +\n",
    "                + (1|Participant_ID) + (1|Item_ID), data = data, REML = FALSE)"
   ]
  },
  {
   "cell_type": "code",
   "execution_count": 131,
   "id": "6e98ba5a",
   "metadata": {},
   "outputs": [
    {
     "data": {
      "text/html": [
       "<table>\n",
       "<thead><tr><th></th><th scope=col>npar</th><th scope=col>AIC</th><th scope=col>BIC</th><th scope=col>logLik</th><th scope=col>deviance</th><th scope=col>Chisq</th><th scope=col>Df</th><th scope=col>Pr(&gt;Chisq)</th></tr></thead>\n",
       "<tbody>\n",
       "\t<tr><th scope=row>model_b</th><td>14        </td><td>653958.0  </td><td>654083.1  </td><td>-326965.0 </td><td>653930.0  </td><td>      NA  </td><td>NA        </td><td>        NA</td></tr>\n",
       "\t<tr><th scope=row>model_a</th><td>22        </td><td>653956.6  </td><td>654153.3  </td><td>-326956.3 </td><td>653912.6  </td><td>17.32809  </td><td> 8        </td><td>0.02686834</td></tr>\n",
       "</tbody>\n",
       "</table>\n"
      ],
      "text/latex": [
       "\\begin{tabular}{r|llllllll}\n",
       "  & npar & AIC & BIC & logLik & deviance & Chisq & Df & Pr(>Chisq)\\\\\n",
       "\\hline\n",
       "\tmodel\\_b & 14         & 653958.0   & 654083.1   & -326965.0  & 653930.0   &       NA   & NA         &         NA\\\\\n",
       "\tmodel\\_a & 22         & 653956.6   & 654153.3   & -326956.3  & 653912.6   & 17.32809   &  8         & 0.02686834\\\\\n",
       "\\end{tabular}\n"
      ],
      "text/markdown": [
       "\n",
       "| <!--/--> | npar | AIC | BIC | logLik | deviance | Chisq | Df | Pr(>Chisq) |\n",
       "|---|---|---|---|---|---|---|---|---|\n",
       "| model_b | 14         | 653958.0   | 654083.1   | -326965.0  | 653930.0   |       NA   | NA         |         NA |\n",
       "| model_a | 22         | 653956.6   | 654153.3   | -326956.3  | 653912.6   | 17.32809   |  8         | 0.02686834 |\n",
       "\n"
      ],
      "text/plain": [
       "        npar AIC      BIC      logLik    deviance Chisq    Df Pr(>Chisq)\n",
       "model_b 14   653958.0 654083.1 -326965.0 653930.0       NA NA         NA\n",
       "model_a 22   653956.6 654153.3 -326956.3 653912.6 17.32809  8 0.02686834"
      ]
     },
     "metadata": {},
     "output_type": "display_data"
    }
   ],
   "source": [
    "anova(model_a, model_b, test=\"LRT\" )"
   ]
  },
  {
   "cell_type": "markdown",
   "id": "b7805ec7",
   "metadata": {},
   "source": [
    "The above test suggests that Concreteness should be included in the full model."
   ]
  },
  {
   "cell_type": "markdown",
   "id": "fe961fac",
   "metadata": {},
   "source": [
    "### Plots"
   ]
  },
  {
   "cell_type": "code",
   "execution_count": 132,
   "id": "433e3a75",
   "metadata": {},
   "outputs": [],
   "source": [
    "dfConcSim <- ggpredict(ffd, terms = c(\"Cloze\", \"Concreteness\", \"Category\"))"
   ]
  },
  {
   "cell_type": "code",
   "execution_count": 133,
   "id": "91181688",
   "metadata": {
    "scrolled": false
   },
   "outputs": [
    {
     "name": "stderr",
     "output_type": "stream",
     "text": [
      "Scale for colour is already present.\n",
      "Adding another scale for colour, which will replace the existing scale."
     ]
    }
   ],
   "source": [
    "ffd_cloze <- plot(dfConcSim, limits = c(110, 250)) +\n",
    "    scale_color_discrete(labels=c(\"Abstract\", \"Mean\", \"Concrete\")) +\n",
    "    scale_fill_discrete(labels=c(\"Abstract\", \"Mean\", \"Concrete\")) \n"
   ]
  },
  {
   "cell_type": "code",
   "execution_count": 134,
   "id": "98711f40",
   "metadata": {
    "scrolled": false
   },
   "outputs": [
    {
     "data": {
      "image/png": "[encoded data removed]",
      "text/plain": [
       "plot without title"
      ]
     },
     "metadata": {},
     "output_type": "display_data"
    }
   ],
   "source": [
    "ffd_cloze"
   ]
  },
  {
   "cell_type": "code",
   "execution_count": 135,
   "id": "60fd720c",
   "metadata": {},
   "outputs": [
    {
     "name": "stderr",
     "output_type": "stream",
     "text": [
      "Saving 6.67 x 6.67 in image"
     ]
    }
   ],
   "source": [
    "ggsave(filename = \"provo_ffd_clozeconc.png\",\n",
    "    path = \"U:/AnEyeOnSemantics/Paper\",\n",
    "       plot = ffd_cloze,\n",
    "       device='png',\n",
    "       dpi=700)"
   ]
  },
  {
   "cell_type": "code",
   "execution_count": 136,
   "id": "1988ba7a",
   "metadata": {},
   "outputs": [],
   "source": [
    "dfFreqSim <- ggpredict(ffd, terms = c(\"Cloze\", \"Zipf.value\", \"Category\"))"
   ]
  },
  {
   "cell_type": "code",
   "execution_count": 137,
   "id": "0cd71afc",
   "metadata": {
    "scrolled": true
   },
   "outputs": [
    {
     "name": "stderr",
     "output_type": "stream",
     "text": [
      "Scale for colour is already present.\n",
      "Adding another scale for colour, which will replace the existing scale."
     ]
    }
   ],
   "source": [
    "ffd_clozefreq <- plot(dfFreqSim, limits = c(110, 250)) +\n",
    " scale_color_discrete(labels=c(\"Low Frequency\", \"Mean\", \"High Frequency\"))  +\n",
    "    scale_fill_discrete(labels=c(\"Low Frequency\", \"Mean\", \"High Frequency\")) \n"
   ]
  },
  {
   "cell_type": "code",
   "execution_count": 138,
   "id": "92f4ca1c",
   "metadata": {
    "scrolled": false
   },
   "outputs": [
    {
     "data": {
      "image/png": "[encoded data removed]",
      "text/plain": [
       "plot without title"
      ]
     },
     "metadata": {},
     "output_type": "display_data"
    }
   ],
   "source": [
    "ffd_clozefreq"
   ]
  },
  {
   "cell_type": "code",
   "execution_count": 139,
   "id": "433c8498",
   "metadata": {},
   "outputs": [
    {
     "name": "stderr",
     "output_type": "stream",
     "text": [
      "Saving 6.67 x 6.67 in image"
     ]
    }
   ],
   "source": [
    "ggsave(filename = \"provo_ffd_clozefreq.png\",\n",
    "    path = \"U:/AnEyeOnSemantics/Paper\",\n",
    "       plot = ffd_clozefreq,\n",
    "       device='png',\n",
    "       dpi=700)"
   ]
  },
  {
   "cell_type": "markdown",
   "id": "e1c9e029",
   "metadata": {},
   "source": [
    "# GD"
   ]
  },
  {
   "cell_type": "code",
   "execution_count": 140,
   "id": "d2476d8b",
   "metadata": {},
   "outputs": [],
   "source": [
    "gd <- lmer(GD ~ Zipf.value + Length + Position + Cloze*Concreteness*Category +\n",
    "                + (1|Participant_ID) + (1|Item_ID), data = data,\n",
    "            control=lmerControl(optimizer=\"bobyqa\", optCtrl=list(maxfun=50000)))"
   ]
  },
  {
   "cell_type": "code",
   "execution_count": 141,
   "id": "dd633908",
   "metadata": {},
   "outputs": [],
   "source": [
    "sjPlot::tab_model(gd)"
   ]
  },
  {
   "cell_type": "code",
   "execution_count": 142,
   "id": "a2580ead",
   "metadata": {},
   "outputs": [],
   "source": [
    "model_a <- lmer(GD ~ Zipf.value + Length + Position + Cloze*Concreteness*Category +\n",
    "                + (1|Participant_ID) + (1|Item_ID), data = data, REML = FALSE)"
   ]
  },
  {
   "cell_type": "code",
   "execution_count": 143,
   "id": "880b7514",
   "metadata": {},
   "outputs": [],
   "source": [
    "model_b <- lmer(GD ~ Zipf.value + Length + Position + Cloze*Category +\n",
    "                + (1|Participant_ID) + (1|Item_ID), data = data, REML = FALSE)"
   ]
  },
  {
   "cell_type": "code",
   "execution_count": 144,
   "id": "e4120639",
   "metadata": {},
   "outputs": [
    {
     "data": {
      "text/html": [
       "<table>\n",
       "<thead><tr><th></th><th scope=col>npar</th><th scope=col>AIC</th><th scope=col>BIC</th><th scope=col>logLik</th><th scope=col>deviance</th><th scope=col>Chisq</th><th scope=col>Df</th><th scope=col>Pr(&gt;Chisq)</th></tr></thead>\n",
       "<tbody>\n",
       "\t<tr><th scope=row>model_b</th><td>14       </td><td>708943.0 </td><td>709068.2 </td><td>-354457.5</td><td>708915.0 </td><td>      NA </td><td>NA       </td><td>       NA</td></tr>\n",
       "\t<tr><th scope=row>model_a</th><td>22       </td><td>708950.2 </td><td>709146.9 </td><td>-354453.1</td><td>708906.2 </td><td>8.734504 </td><td> 8       </td><td>0.3651856</td></tr>\n",
       "</tbody>\n",
       "</table>\n"
      ],
      "text/latex": [
       "\\begin{tabular}{r|llllllll}\n",
       "  & npar & AIC & BIC & logLik & deviance & Chisq & Df & Pr(>Chisq)\\\\\n",
       "\\hline\n",
       "\tmodel\\_b & 14        & 708943.0  & 709068.2  & -354457.5 & 708915.0  &       NA  & NA        &        NA\\\\\n",
       "\tmodel\\_a & 22        & 708950.2  & 709146.9  & -354453.1 & 708906.2  & 8.734504  &  8        & 0.3651856\\\\\n",
       "\\end{tabular}\n"
      ],
      "text/markdown": [
       "\n",
       "| <!--/--> | npar | AIC | BIC | logLik | deviance | Chisq | Df | Pr(>Chisq) |\n",
       "|---|---|---|---|---|---|---|---|---|\n",
       "| model_b | 14        | 708943.0  | 709068.2  | -354457.5 | 708915.0  |       NA  | NA        |        NA |\n",
       "| model_a | 22        | 708950.2  | 709146.9  | -354453.1 | 708906.2  | 8.734504  |  8        | 0.3651856 |\n",
       "\n"
      ],
      "text/plain": [
       "        npar AIC      BIC      logLik    deviance Chisq    Df Pr(>Chisq)\n",
       "model_b 14   708943.0 709068.2 -354457.5 708915.0       NA NA        NA \n",
       "model_a 22   708950.2 709146.9 -354453.1 708906.2 8.734504  8 0.3651856 "
      ]
     },
     "metadata": {},
     "output_type": "display_data"
    }
   ],
   "source": [
    "anova(model_a, model_b, test=\"LRT\" )"
   ]
  },
  {
   "cell_type": "markdown",
   "id": "25736e87",
   "metadata": {},
   "source": [
    "The above test suggests that we don't have evidence in support of including Concreteness in the full model."
   ]
  },
  {
   "cell_type": "markdown",
   "id": "ce39f9a9",
   "metadata": {},
   "source": [
    "### Plots"
   ]
  },
  {
   "cell_type": "code",
   "execution_count": 145,
   "id": "c64cffad",
   "metadata": {},
   "outputs": [
    {
     "name": "stderr",
     "output_type": "stream",
     "text": [
      "Scale for colour is already present.\n",
      "Adding another scale for colour, which will replace the existing scale."
     ]
    }
   ],
   "source": [
    "dfConcSim <- ggpredict(gd, terms = c(\"Cloze\", \"Concreteness\", \"Category\"))\n",
    "\n",
    "gd_cloze <- plot(dfConcSim, limits = c(90, 320)) +\n",
    "    scale_color_discrete(labels=c(\"Abstract\", \"Mean\", \"Concrete\")) +\n",
    "    scale_fill_discrete(labels=c(\"Abstract\", \"Mean\", \"Concrete\")) "
   ]
  },
  {
   "cell_type": "code",
   "execution_count": 146,
   "id": "603609b0",
   "metadata": {
    "scrolled": false
   },
   "outputs": [
    {
     "data": {
      "image/png": "[encoded data removed]",
      "text/plain": [
       "plot without title"
      ]
     },
     "metadata": {},
     "output_type": "display_data"
    }
   ],
   "source": [
    "gd_cloze"
   ]
  },
  {
   "cell_type": "code",
   "execution_count": 147,
   "id": "f3b71236",
   "metadata": {},
   "outputs": [
    {
     "name": "stderr",
     "output_type": "stream",
     "text": [
      "Saving 6.67 x 6.67 in image"
     ]
    }
   ],
   "source": [
    "ggsave(filename = \"provo_gd_clozeconc.png\",\n",
    "    path = \"U:/AnEyeOnSemantics/Paper\",\n",
    "       plot = gd_cloze,\n",
    "       device='png',\n",
    "       dpi=700)"
   ]
  },
  {
   "cell_type": "code",
   "execution_count": 148,
   "id": "bd5cf551",
   "metadata": {},
   "outputs": [],
   "source": [
    "dfFreqSim <- ggpredict(gd, terms = c(\"Cloze\", \"Zipf.value\", \"Category\"))"
   ]
  },
  {
   "cell_type": "code",
   "execution_count": 149,
   "id": "68dbb023",
   "metadata": {
    "scrolled": true
   },
   "outputs": [
    {
     "name": "stderr",
     "output_type": "stream",
     "text": [
      "Scale for colour is already present.\n",
      "Adding another scale for colour, which will replace the existing scale."
     ]
    }
   ],
   "source": [
    "gd_clozefreq <- plot(dfFreqSim, limits = c(90, 320)) +\n",
    " scale_color_discrete(labels=c(\"Low Frequency\", \"Mean\", \"High Frequency\"))  +\n",
    "    scale_fill_discrete(labels=c(\"Low Frequency\", \"Mean\", \"High Frequency\")) "
   ]
  },
  {
   "cell_type": "code",
   "execution_count": 150,
   "id": "59a756de",
   "metadata": {
    "scrolled": false
   },
   "outputs": [
    {
     "data": {
      "image/png": "[encoded data removed]",
      "text/plain": [
       "plot without title"
      ]
     },
     "metadata": {},
     "output_type": "display_data"
    }
   ],
   "source": [
    "gd_clozefreq"
   ]
  },
  {
   "cell_type": "code",
   "execution_count": 151,
   "id": "58597f86",
   "metadata": {},
   "outputs": [
    {
     "name": "stderr",
     "output_type": "stream",
     "text": [
      "Saving 6.67 x 6.67 in image"
     ]
    }
   ],
   "source": [
    "ggsave(filename = \"provo_gd_clozefreq.png\",\n",
    "    path = \"U:/AnEyeOnSemantics/Paper\",\n",
    "       plot = gd_clozefreq,\n",
    "       device='png',\n",
    "       dpi=700)"
   ]
  },
  {
   "cell_type": "markdown",
   "id": "37d31ffe",
   "metadata": {},
   "source": [
    "# FFD Predictability"
   ]
  },
  {
   "cell_type": "code",
   "execution_count": 152,
   "id": "e3fda0c9",
   "metadata": {},
   "outputs": [],
   "source": [
    "ffd_pred <- lmer(FFD ~ Zipf.value + Length + Position + Predictability*Concreteness*Category +\n",
    "                + (1|Participant_ID) + (1|Item_ID), data = data,\n",
    "            control=lmerControl(optimizer=\"bobyqa\", optCtrl=list(maxfun=50000)))"
   ]
  },
  {
   "cell_type": "code",
   "execution_count": 153,
   "id": "7fcdb3fb",
   "metadata": {},
   "outputs": [],
   "source": [
    "sjPlot::tab_model(ffd_pred)"
   ]
  },
  {
   "cell_type": "markdown",
   "id": "b78698a7",
   "metadata": {},
   "source": [
    "### Plots"
   ]
  },
  {
   "cell_type": "code",
   "execution_count": 154,
   "id": "1af5ca2b",
   "metadata": {},
   "outputs": [
    {
     "name": "stderr",
     "output_type": "stream",
     "text": [
      "Scale for colour is already present.\n",
      "Adding another scale for colour, which will replace the existing scale."
     ]
    }
   ],
   "source": [
    "dfConcSim <- ggpredict(ffd_pred, terms = c(\"Predictability\", \"Concreteness\", \"Category\"))\n",
    "\n",
    "ffd_predconc <- plot(dfConcSim, limits = c(120, 270)) +\n",
    "    scale_color_discrete(labels=c(\"Abstract\", \"Mean\", \"Concrete\")) +\n",
    "    scale_fill_discrete(labels=c(\"Abstract\", \"Mean\", \"Concrete\")) "
   ]
  },
  {
   "cell_type": "code",
   "execution_count": 155,
   "id": "b8038866",
   "metadata": {
    "scrolled": true
   },
   "outputs": [
    {
     "data": {
      "image/png": "[encoded data removed]",
      "text/plain": [
       "plot without title"
      ]
     },
     "metadata": {},
     "output_type": "display_data"
    }
   ],
   "source": [
    "ffd_predconc"
   ]
  },
  {
   "cell_type": "code",
   "execution_count": 156,
   "id": "cecb675c",
   "metadata": {},
   "outputs": [
    {
     "name": "stderr",
     "output_type": "stream",
     "text": [
      "Saving 6.67 x 6.67 in image"
     ]
    }
   ],
   "source": [
    "ggsave(filename = \"provo_ffd_predconc.png\",\n",
    "    path = \"U:/AnEyeOnSemantics/Paper\",\n",
    "       plot = ffd_predconc,\n",
    "       device='png',\n",
    "       dpi=700)"
   ]
  },
  {
   "cell_type": "code",
   "execution_count": 157,
   "id": "af79ea70",
   "metadata": {},
   "outputs": [
    {
     "name": "stderr",
     "output_type": "stream",
     "text": [
      "Scale for colour is already present.\n",
      "Adding another scale for colour, which will replace the existing scale."
     ]
    }
   ],
   "source": [
    "dfFreqSim <- ggpredict(ffd_pred, terms = c(\"Predictability\", \"Zipf.value\", \"Category\"))\n",
    "\n",
    "ffd_predfreq <- plot(dfFreqSim, limits = c(120, 270)) +\n",
    " scale_color_discrete(labels=c(\"Low Frequency\", \"Mean\", \"High Frequency\"))  +\n",
    "    scale_fill_discrete(labels=c(\"Low Frequency\", \"Mean\", \"High Frequency\")) "
   ]
  },
  {
   "cell_type": "code",
   "execution_count": 158,
   "id": "c778eddb",
   "metadata": {
    "scrolled": false
   },
   "outputs": [
    {
     "data": {
      "image/png": "[encoded data removed]",
      "text/plain": [
       "plot without title"
      ]
     },
     "metadata": {},
     "output_type": "display_data"
    }
   ],
   "source": [
    "ffd_predfreq"
   ]
  },
  {
   "cell_type": "code",
   "execution_count": 159,
   "id": "caa5e4c9",
   "metadata": {},
   "outputs": [
    {
     "name": "stderr",
     "output_type": "stream",
     "text": [
      "Saving 6.67 x 6.67 in image"
     ]
    }
   ],
   "source": [
    "ggsave(filename = \"provo_ffd_predfreq.png\",\n",
    "    path = \"U:/AnEyeOnSemantics/Paper\",\n",
    "       plot = ffd_predfreq,\n",
    "       device='png',\n",
    "       dpi=700)"
   ]
  },
  {
   "cell_type": "markdown",
   "id": "d2a1fc77",
   "metadata": {},
   "source": [
    "# GD Predictability"
   ]
  },
  {
   "cell_type": "code",
   "execution_count": 160,
   "id": "e16b28eb",
   "metadata": {},
   "outputs": [],
   "source": [
    "gd_pred <- lmer(GD ~ Zipf.value + Length + Position + Predictability*Concreteness*Category +\n",
    "                + (1|Participant_ID) + (1|Item_ID), data = data,\n",
    "            control=lmerControl(optimizer=\"bobyqa\", optCtrl=list(maxfun=50000)))"
   ]
  },
  {
   "cell_type": "code",
   "execution_count": 161,
   "id": "93f6e95e",
   "metadata": {},
   "outputs": [],
   "source": [
    "sjPlot::tab_model(gd_pred)"
   ]
  },
  {
   "cell_type": "code",
   "execution_count": 162,
   "id": "dc55fb09",
   "metadata": {},
   "outputs": [],
   "source": [
    "dfConcSim <- ggpredict(gd_pred, terms = c(\"Predictability\", \"Concreteness\", \"Category\"))"
   ]
  },
  {
   "cell_type": "code",
   "execution_count": 163,
   "id": "f02b7468",
   "metadata": {},
   "outputs": [
    {
     "name": "stderr",
     "output_type": "stream",
     "text": [
      "Scale for colour is already present.\n",
      "Adding another scale for colour, which will replace the existing scale."
     ]
    }
   ],
   "source": [
    "gd_predconc <- plot(dfConcSim, limits = c(110, 335)) +\n",
    "    scale_color_discrete(labels=c(\"Abstract\", \"Mean\", \"Concrete\")) +\n",
    "    scale_fill_discrete(labels=c(\"Abstract\", \"Mean\", \"Concrete\")) \n"
   ]
  },
  {
   "cell_type": "code",
   "execution_count": 164,
   "id": "a6c87873",
   "metadata": {
    "scrolled": false
   },
   "outputs": [
    {
     "data": {
      "image/png": "[encoded data removed]",
      "text/plain": [
       "plot without title"
      ]
     },
     "metadata": {},
     "output_type": "display_data"
    }
   ],
   "source": [
    "gd_predconc"
   ]
  },
  {
   "cell_type": "code",
   "execution_count": 165,
   "id": "dce31896",
   "metadata": {},
   "outputs": [
    {
     "name": "stderr",
     "output_type": "stream",
     "text": [
      "Saving 6.67 x 6.67 in image"
     ]
    }
   ],
   "source": [
    "ggsave(filename = \"provo_gd_predconc.png\",\n",
    "    path = \"U:/AnEyeOnSemantics/Paper\",\n",
    "       plot = gd_predconc,\n",
    "       device='png',\n",
    "       dpi=700)"
   ]
  },
  {
   "cell_type": "code",
   "execution_count": 166,
   "id": "0c97461c",
   "metadata": {},
   "outputs": [
    {
     "name": "stderr",
     "output_type": "stream",
     "text": [
      "Scale for colour is already present.\n",
      "Adding another scale for colour, which will replace the existing scale."
     ]
    }
   ],
   "source": [
    "dfFreqSim <- ggpredict(gd_pred, terms = c(\"Predictability\", \"Zipf.value\", \"Category\"))\n",
    "gd_predfreq <- plot(dfFreqSim, limits = c(110, 335)) +\n",
    "    scale_color_discrete(labels=c(\"Low Frequency\", \"Mean\", \"High Frequency\"))  +\n",
    "    scale_fill_discrete(labels=c(\"Low Frequency\", \"Mean\", \"High Frequency\")) "
   ]
  },
  {
   "cell_type": "code",
   "execution_count": 167,
   "id": "5eb5c6f6",
   "metadata": {},
   "outputs": [
    {
     "data": {
      "image/png": "[encoded data removed]",
      "text/plain": [
       "plot without title"
      ]
     },
     "metadata": {},
     "output_type": "display_data"
    }
   ],
   "source": [
    "gd_predfreq"
   ]
  },
  {
   "cell_type": "code",
   "execution_count": 168,
   "id": "0280ca79",
   "metadata": {},
   "outputs": [
    {
     "name": "stderr",
     "output_type": "stream",
     "text": [
      "Saving 6.67 x 6.67 in image"
     ]
    }
   ],
   "source": [
    "ggsave(filename = \"provo_gd_predfreq.png\",\n",
    "    path = \"U:/AnEyeOnSemantics/Paper\",\n",
    "       plot = gd_predfreq,\n",
    "       device='png',\n",
    "       dpi=700)"
   ]
  },
  {
   "cell_type": "code",
   "execution_count": null,
   "id": "d9df6000",
   "metadata": {},
   "outputs": [],
   "source": []
  }
 ],
 "metadata": {
  "kernelspec": {
   "display_name": "R",
   "language": "R",
   "name": "ir"
  },
  "language_info": {
   "codemirror_mode": "r",
   "file_extension": ".r",
   "mimetype": "text/x-r-source",
   "name": "R",
   "pygments_lexer": "r",
   "version": "3.6.1"
  }
 },
 "nbformat": 4,
 "nbformat_minor": 5
}
