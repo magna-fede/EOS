{
 "cells": [
  {
   "cell_type": "markdown",
   "id": "24a4dd31",
   "metadata": {},
   "source": [
    "In this notebook are described the steps to analyse data in the <strong>An Eye on Semantics</strong> paper."
   ]
  },
  {
   "cell_type": "markdown",
   "id": "d5e6b631",
   "metadata": {},
   "source": [
    "Let's start by importing the packages we will need."
   ]
  },
  {
   "cell_type": "code",
   "execution_count": 1,
   "id": "2700c370",
   "metadata": {},
   "outputs": [
    {
     "name": "stderr",
     "output_type": "stream",
     "text": [
      "Warning message:\n",
      "\"package 'readxl' was built under R version 3.6.3\"Warning message:\n",
      "\"package 'lme4' was built under R version 3.6.2\"Loading required package: Matrix\n",
      "Warning message:\n",
      "\"package 'lmerTest' was built under R version 3.6.3\"\n",
      "Attaching package: 'lmerTest'\n",
      "\n",
      "The following object is masked from 'package:lme4':\n",
      "\n",
      "    lmer\n",
      "\n",
      "The following object is masked from 'package:stats':\n",
      "\n",
      "    step\n",
      "\n",
      "Warning message:\n",
      "\"package 'languageR' was built under R version 3.6.3\"Warning message:\n",
      "\"package 'BayesFactor' was built under R version 3.6.3\"Loading required package: coda\n",
      "Warning message:\n",
      "\"package 'coda' was built under R version 3.6.3\"************\n",
      "Welcome to BayesFactor 0.9.12-4.2. If you have questions, please contact Richard Morey (richarddmorey@gmail.com).\n",
      "\n",
      "Type BFManual() to open the manual.\n",
      "************\n",
      "Warning message:\n",
      "\"package 'ggeffects' was built under R version 3.6.2\"Warning message:\n",
      "\"package 'ggplot2' was built under R version 3.6.2\"Warning message:\n",
      "\"package 'performance' was built under R version 3.6.2\""
     ]
    }
   ],
   "source": [
    "library(readxl)\n",
    "library(lme4)\n",
    "library(lmerTest)\n",
    "library(languageR)\n",
    "library(lattice)\n",
    "library(BayesFactor)\n",
    "library(ggeffects)\n",
    "library(ggplot2)\n",
    "library(performance)"
   ]
  },
  {
   "cell_type": "code",
   "execution_count": 2,
   "id": "383e59e9",
   "metadata": {
    "scrolled": true
   },
   "outputs": [
    {
     "data": {
      "text/plain": [
       "               _                           \n",
       "platform       x86_64-w64-mingw32          \n",
       "arch           x86_64                      \n",
       "os             mingw32                     \n",
       "system         x86_64, mingw32             \n",
       "status                                     \n",
       "major          3                           \n",
       "minor          6.1                         \n",
       "year           2019                        \n",
       "month          07                          \n",
       "day            05                          \n",
       "svn rev        76782                       \n",
       "language       R                           \n",
       "version.string R version 3.6.1 (2019-07-05)\n",
       "nickname       Action of the Toes          "
      ]
     },
     "metadata": {},
     "output_type": "display_data"
    }
   ],
   "source": [
    "R.version"
   ]
  },
  {
   "cell_type": "code",
   "execution_count": 3,
   "id": "7a09d7ee",
   "metadata": {
    "scrolled": true
   },
   "outputs": [
    {
     "data": {
      "text/plain": [
       "\n",
       "Lüdecke D (2021). _sjPlot: Data Visualization for Statistics in Social\n",
       "Science_. R package version 2.8.10, <URL:\n",
       "https://CRAN.R-project.org/package=sjPlot>.\n",
       "\n",
       "A BibTeX entry for LaTeX users is\n",
       "\n",
       "  @Manual{,\n",
       "    title = {sjPlot: Data Visualization for Statistics in Social Science},\n",
       "    author = {Daniel Lüdecke},\n",
       "    year = {2021},\n",
       "    note = {R package version 2.8.10},\n",
       "    url = {https://CRAN.R-project.org/package=sjPlot},\n",
       "  }\n"
      ]
     },
     "metadata": {},
     "output_type": "display_data"
    }
   ],
   "source": [
    "citation('sjPlot')"
   ]
  },
  {
   "cell_type": "markdown",
   "id": "f2a1a38d",
   "metadata": {},
   "source": [
    "# First Fixation Duration\n",
    "\n",
    "## Basic Model"
   ]
  },
  {
   "cell_type": "markdown",
   "id": "cd2dc0cb",
   "metadata": {},
   "source": [
    "Import the dataset"
   ]
  },
  {
   "cell_type": "code",
   "execution_count": 4,
   "id": "3b3d3cf1",
   "metadata": {},
   "outputs": [],
   "source": [
    "FFD <- read.csv('C:/Users/fm02/OwnCloud/EOS_EyeTrackingDataCollection/Data_Results/data_forR/norm_ffd_41_final.csv')"
   ]
  },
  {
   "cell_type": "markdown",
   "id": "30639086",
   "metadata": {},
   "source": [
    "Consider only values greater than 0, already selected during preprocessing fixations 80-600ms long."
   ]
  },
  {
   "cell_type": "code",
   "execution_count": 5,
   "id": "94968737",
   "metadata": {},
   "outputs": [],
   "source": [
    "FFD <- FFD[FFD$ms != 0, ]"
   ]
  },
  {
   "cell_type": "code",
   "execution_count": 6,
   "id": "43c50cb0",
   "metadata": {},
   "outputs": [
    {
     "data": {
      "text/html": [
       "<ol class=list-inline>\n",
       "\t<li>'ms'</li>\n",
       "\t<li>'trialnr'</li>\n",
       "\t<li>'time_before_ff'</li>\n",
       "\t<li>'regressed'</li>\n",
       "\t<li>'n_tot_fix'</li>\n",
       "\t<li>'n_prior_fix'</li>\n",
       "\t<li>'fixated'</li>\n",
       "\t<li>'Word'</li>\n",
       "\t<li>'ID'</li>\n",
       "\t<li>'ConcM'</li>\n",
       "\t<li>'LEN'</li>\n",
       "\t<li>'UN2_F'</li>\n",
       "\t<li>'UN3_F'</li>\n",
       "\t<li>'Orth'</li>\n",
       "\t<li>'OLD20'</li>\n",
       "\t<li>'FreqCount'</li>\n",
       "\t<li>'LogFreqZipf'</li>\n",
       "\t<li>'V_MeanSum'</li>\n",
       "\t<li>'A_MeanSum'</li>\n",
       "\t<li>'mink3_SM'</li>\n",
       "\t<li>'BLP_rt'</li>\n",
       "\t<li>'BLP_accuracy'</li>\n",
       "\t<li>'similarity'</li>\n",
       "\t<li>'Position'</li>\n",
       "\t<li>'PRECEDING_Frequency'</li>\n",
       "\t<li>'PRECEDING_LogFreqZipf'</li>\n",
       "\t<li>'LENprec'</li>\n",
       "\t<li>'Predictability'</li>\n",
       "\t<li>'cloze'</li>\n",
       "\t<li>'plausibility'</li>\n",
       "\t<li>'Sim'</li>\n",
       "\t<li>'Subject'</li>\n",
       "\t<li>'Gender'</li>\n",
       "\t<li>'Age'</li>\n",
       "</ol>\n"
      ],
      "text/latex": [
       "\\begin{enumerate*}\n",
       "\\item 'ms'\n",
       "\\item 'trialnr'\n",
       "\\item 'time\\_before\\_ff'\n",
       "\\item 'regressed'\n",
       "\\item 'n\\_tot\\_fix'\n",
       "\\item 'n\\_prior\\_fix'\n",
       "\\item 'fixated'\n",
       "\\item 'Word'\n",
       "\\item 'ID'\n",
       "\\item 'ConcM'\n",
       "\\item 'LEN'\n",
       "\\item 'UN2\\_F'\n",
       "\\item 'UN3\\_F'\n",
       "\\item 'Orth'\n",
       "\\item 'OLD20'\n",
       "\\item 'FreqCount'\n",
       "\\item 'LogFreqZipf'\n",
       "\\item 'V\\_MeanSum'\n",
       "\\item 'A\\_MeanSum'\n",
       "\\item 'mink3\\_SM'\n",
       "\\item 'BLP\\_rt'\n",
       "\\item 'BLP\\_accuracy'\n",
       "\\item 'similarity'\n",
       "\\item 'Position'\n",
       "\\item 'PRECEDING\\_Frequency'\n",
       "\\item 'PRECEDING\\_LogFreqZipf'\n",
       "\\item 'LENprec'\n",
       "\\item 'Predictability'\n",
       "\\item 'cloze'\n",
       "\\item 'plausibility'\n",
       "\\item 'Sim'\n",
       "\\item 'Subject'\n",
       "\\item 'Gender'\n",
       "\\item 'Age'\n",
       "\\end{enumerate*}\n"
      ],
      "text/markdown": [
       "1. 'ms'\n",
       "2. 'trialnr'\n",
       "3. 'time_before_ff'\n",
       "4. 'regressed'\n",
       "5. 'n_tot_fix'\n",
       "6. 'n_prior_fix'\n",
       "7. 'fixated'\n",
       "8. 'Word'\n",
       "9. 'ID'\n",
       "10. 'ConcM'\n",
       "11. 'LEN'\n",
       "12. 'UN2_F'\n",
       "13. 'UN3_F'\n",
       "14. 'Orth'\n",
       "15. 'OLD20'\n",
       "16. 'FreqCount'\n",
       "17. 'LogFreqZipf'\n",
       "18. 'V_MeanSum'\n",
       "19. 'A_MeanSum'\n",
       "20. 'mink3_SM'\n",
       "21. 'BLP_rt'\n",
       "22. 'BLP_accuracy'\n",
       "23. 'similarity'\n",
       "24. 'Position'\n",
       "25. 'PRECEDING_Frequency'\n",
       "26. 'PRECEDING_LogFreqZipf'\n",
       "27. 'LENprec'\n",
       "28. 'Predictability'\n",
       "29. 'cloze'\n",
       "30. 'plausibility'\n",
       "31. 'Sim'\n",
       "32. 'Subject'\n",
       "33. 'Gender'\n",
       "34. 'Age'\n",
       "\n",
       "\n"
      ],
      "text/plain": [
       " [1] \"ms\"                    \"trialnr\"               \"time_before_ff\"       \n",
       " [4] \"regressed\"             \"n_tot_fix\"             \"n_prior_fix\"          \n",
       " [7] \"fixated\"               \"Word\"                  \"ID\"                   \n",
       "[10] \"ConcM\"                 \"LEN\"                   \"UN2_F\"                \n",
       "[13] \"UN3_F\"                 \"Orth\"                  \"OLD20\"                \n",
       "[16] \"FreqCount\"             \"LogFreqZipf\"           \"V_MeanSum\"            \n",
       "[19] \"A_MeanSum\"             \"mink3_SM\"              \"BLP_rt\"               \n",
       "[22] \"BLP_accuracy\"          \"similarity\"            \"Position\"             \n",
       "[25] \"PRECEDING_Frequency\"   \"PRECEDING_LogFreqZipf\" \"LENprec\"              \n",
       "[28] \"Predictability\"        \"cloze\"                 \"plausibility\"         \n",
       "[31] \"Sim\"                   \"Subject\"               \"Gender\"               \n",
       "[34] \"Age\"                  "
      ]
     },
     "metadata": {},
     "output_type": "display_data"
    }
   ],
   "source": [
    "colnames(FFD)"
   ]
  },
  {
   "cell_type": "markdown",
   "id": "d1f2f933",
   "metadata": {},
   "source": [
    "Check which factors affect fixation durations, among those that are already established in the literature (excluding effects of interest).\n"
   ]
  },
  {
   "cell_type": "code",
   "execution_count": 7,
   "id": "e9555c5f",
   "metadata": {},
   "outputs": [
    {
     "data": {
      "text/plain": [
       "Linear mixed model fit by REML. t-tests use Satterthwaite's method [\n",
       "lmerModLmerTest]\n",
       "Formula: ms ~ trialnr + (1 | ID) + (1 | Subject)\n",
       "   Data: FFD\n",
       "\n",
       "REML criterion at convergence: 123159.5\n",
       "\n",
       "Scaled residuals: \n",
       "    Min      1Q  Median      3Q     Max \n",
       "-2.7101 -0.6535 -0.1552  0.4681  5.5307 \n",
       "\n",
       "Random effects:\n",
       " Groups   Name        Variance Std.Dev.\n",
       " ID       (Intercept)  191.9   13.85   \n",
       " Subject  (Intercept)  589.7   24.28   \n",
       " Residual             4232.0   65.05   \n",
       "Number of obs: 10966, groups:  ID, 400; Subject, 40\n",
       "\n",
       "Fixed effects:\n",
       "             Estimate Std. Error        df t value Pr(>|t|)    \n",
       "(Intercept) 2.198e+02  4.100e+00 4.791e+01  53.623   <2e-16 ***\n",
       "trialnr     4.262e-03  5.446e-03 1.079e+04   0.783    0.434    \n",
       "---\n",
       "Signif. codes:  0 '***' 0.001 '**' 0.01 '*' 0.05 '.' 0.1 ' ' 1\n",
       "\n",
       "Correlation of Fixed Effects:\n",
       "        (Intr)\n",
       "trialnr -0.264"
      ]
     },
     "metadata": {},
     "output_type": "display_data"
    }
   ],
   "source": [
    "summary(lmer(ms ~ trialnr + (1|ID) + (1|Subject), data = FFD))\n",
    "# trial order does not influence FFD"
   ]
  },
  {
   "cell_type": "code",
   "execution_count": 8,
   "id": "77bfcf27",
   "metadata": {},
   "outputs": [
    {
     "data": {
      "text/plain": [
       "Linear mixed model fit by REML. t-tests use Satterthwaite's method [\n",
       "lmerModLmerTest]\n",
       "Formula: ms ~ LogFreqZipf + (1 | ID) + (1 | Subject)\n",
       "   Data: FFD\n",
       "\n",
       "REML criterion at convergence: 123138.5\n",
       "\n",
       "Scaled residuals: \n",
       "    Min      1Q  Median      3Q     Max \n",
       "-2.6646 -0.6547 -0.1581  0.4670  5.4828 \n",
       "\n",
       "Random effects:\n",
       " Groups   Name        Variance Std.Dev.\n",
       " ID       (Intercept)  183.5   13.55   \n",
       " Subject  (Intercept)  589.9   24.29   \n",
       " Residual             4231.6   65.05   \n",
       "Number of obs: 10966, groups:  ID, 400; Subject, 40\n",
       "\n",
       "Fixed effects:\n",
       "            Estimate Std. Error       df t value Pr(>|t|)    \n",
       "(Intercept) 220.6507     3.9523  41.3582  55.828  < 2e-16 ***\n",
       "LogFreqZipf  -3.1182     0.9196 392.2594  -3.391 0.000768 ***\n",
       "---\n",
       "Signif. codes:  0 '***' 0.001 '**' 0.01 '*' 0.05 '.' 0.1 ' ' 1\n",
       "\n",
       "Correlation of Fixed Effects:\n",
       "            (Intr)\n",
       "LogFreqZipf 0.003 "
      ]
     },
     "metadata": {},
     "output_type": "display_data"
    }
   ],
   "source": [
    "summary(lmer(ms ~ LogFreqZipf + (1|ID) + (1|Subject), data = FFD))\n",
    "# Zipf does influence FFD"
   ]
  },
  {
   "cell_type": "code",
   "execution_count": 9,
   "id": "7262bed4",
   "metadata": {},
   "outputs": [
    {
     "data": {
      "text/plain": [
       "Linear mixed model fit by REML. t-tests use Satterthwaite's method [\n",
       "lmerModLmerTest]\n",
       "Formula: ms ~ LEN + (1 | ID) + (1 | Subject)\n",
       "   Data: FFD\n",
       "\n",
       "REML criterion at convergence: 123148.8\n",
       "\n",
       "Scaled residuals: \n",
       "    Min      1Q  Median      3Q     Max \n",
       "-2.6963 -0.6528 -0.1549  0.4677  5.5385 \n",
       "\n",
       "Random effects:\n",
       " Groups   Name        Variance Std.Dev.\n",
       " ID       (Intercept)  191.9   13.85   \n",
       " Subject  (Intercept)  589.6   24.28   \n",
       " Residual             4231.8   65.05   \n",
       "Number of obs: 10966, groups:  ID, 400; Subject, 40\n",
       "\n",
       "Fixed effects:\n",
       "            Estimate Std. Error       df t value Pr(>|t|)    \n",
       "(Intercept) 220.6371     3.9544  41.4754  55.795   <2e-16 ***\n",
       "LEN           0.9759     0.9404 406.9997   1.038      0.3    \n",
       "---\n",
       "Signif. codes:  0 '***' 0.001 '**' 0.01 '*' 0.05 '.' 0.1 ' ' 1\n",
       "\n",
       "Correlation of Fixed Effects:\n",
       "    (Intr)\n",
       "LEN -0.010"
      ]
     },
     "metadata": {},
     "output_type": "display_data"
    }
   ],
   "source": [
    "summary(lmer(ms ~ LEN + (1|ID) + (1|Subject), data = FFD))\n",
    "# length does not influence FFD"
   ]
  },
  {
   "cell_type": "code",
   "execution_count": 10,
   "id": "ded0d2ad",
   "metadata": {},
   "outputs": [
    {
     "data": {
      "text/plain": [
       "Linear mixed model fit by REML. t-tests use Satterthwaite's method [\n",
       "lmerModLmerTest]\n",
       "Formula: ms ~ PRECEDING_LogFreqZipf + (1 | ID) + (1 | Subject)\n",
       "   Data: FFD\n",
       "\n",
       "REML criterion at convergence: 123143.6\n",
       "\n",
       "Scaled residuals: \n",
       "    Min      1Q  Median      3Q     Max \n",
       "-2.6810 -0.6548 -0.1528  0.4681  5.5097 \n",
       "\n",
       "Random effects:\n",
       " Groups   Name        Variance Std.Dev.\n",
       " ID       (Intercept)  187.6   13.70   \n",
       " Subject  (Intercept)  590.0   24.29   \n",
       " Residual             4231.7   65.05   \n",
       "Number of obs: 10966, groups:  ID, 400; Subject, 40\n",
       "\n",
       "Fixed effects:\n",
       "                      Estimate Std. Error       df t value Pr(>|t|)    \n",
       "(Intercept)           220.6791     3.9540  41.4077  55.811   <2e-16 ***\n",
       "PRECEDING_LogFreqZipf  -2.3384     0.9288 398.3154  -2.518   0.0122 *  \n",
       "---\n",
       "Signif. codes:  0 '***' 0.001 '**' 0.01 '*' 0.05 '.' 0.1 ' ' 1\n",
       "\n",
       "Correlation of Fixed Effects:\n",
       "            (Intr)\n",
       "PRECEDING_L 0.000 "
      ]
     },
     "metadata": {},
     "output_type": "display_data"
    }
   ],
   "source": [
    "summary(lmer(ms ~ PRECEDING_LogFreqZipf + (1|ID) + (1|Subject), data = FFD))\n",
    "# Zipf of the preceding word does influence FFD"
   ]
  },
  {
   "cell_type": "code",
   "execution_count": 11,
   "id": "e4a2cd0a",
   "metadata": {},
   "outputs": [
    {
     "data": {
      "text/plain": [
       "Linear mixed model fit by REML. t-tests use Satterthwaite's method [\n",
       "lmerModLmerTest]\n",
       "Formula: ms ~ Position + (1 | ID) + (1 | Subject)\n",
       "   Data: FFD\n",
       "\n",
       "REML criterion at convergence: 123144.3\n",
       "\n",
       "Scaled residuals: \n",
       "    Min      1Q  Median      3Q     Max \n",
       "-2.7246 -0.6551 -0.1553  0.4659  5.5544 \n",
       "\n",
       "Random effects:\n",
       " Groups   Name        Variance Std.Dev.\n",
       " ID       (Intercept)  188.1   13.71   \n",
       " Subject  (Intercept)  589.7   24.28   \n",
       " Residual             4231.8   65.05   \n",
       "Number of obs: 10966, groups:  ID, 400; Subject, 40\n",
       "\n",
       "Fixed effects:\n",
       "            Estimate Std. Error       df t value Pr(>|t|)    \n",
       "(Intercept) 220.6930     3.9531  41.4168  55.827   <2e-16 ***\n",
       "Position      2.2157     0.9326 402.9945   2.376    0.018 *  \n",
       "---\n",
       "Signif. codes:  0 '***' 0.001 '**' 0.01 '*' 0.05 '.' 0.1 ' ' 1\n",
       "\n",
       "Correlation of Fixed Effects:\n",
       "         (Intr)\n",
       "Position 0.001 "
      ]
     },
     "metadata": {},
     "output_type": "display_data"
    }
   ],
   "source": [
    "summary(lmer(ms ~  Position + (1|ID) + (1|Subject), data = FFD))\n",
    "# position in the sentece does influence FFD"
   ]
  },
  {
   "cell_type": "code",
   "execution_count": 12,
   "id": "0cbed62b",
   "metadata": {},
   "outputs": [
    {
     "data": {
      "text/plain": [
       "Linear mixed model fit by REML. t-tests use Satterthwaite's method [\n",
       "lmerModLmerTest]\n",
       "Formula: ms ~ time_before_ff + (1 | ID) + (1 | Subject)\n",
       "   Data: FFD\n",
       "\n",
       "REML criterion at convergence: 123147.3\n",
       "\n",
       "Scaled residuals: \n",
       "    Min      1Q  Median      3Q     Max \n",
       "-2.6938 -0.6544 -0.1564  0.4654  5.5219 \n",
       "\n",
       "Random effects:\n",
       " Groups   Name        Variance Std.Dev.\n",
       " ID       (Intercept)  187.6   13.70   \n",
       " Subject  (Intercept)  589.8   24.29   \n",
       " Residual             4232.9   65.06   \n",
       "Number of obs: 10966, groups:  ID, 400; Subject, 40\n",
       "\n",
       "Fixed effects:\n",
       "                Estimate Std. Error        df t value Pr(>|t|)    \n",
       "(Intercept)     220.6859     3.9535   41.4120  55.821   <2e-16 ***\n",
       "time_before_ff    1.2105     0.6706 8804.2172   1.805   0.0711 .  \n",
       "---\n",
       "Signif. codes:  0 '***' 0.001 '**' 0.01 '*' 0.05 '.' 0.1 ' ' 1\n",
       "\n",
       "Correlation of Fixed Effects:\n",
       "            (Intr)\n",
       "time_bfr_ff 0.001 "
      ]
     },
     "metadata": {},
     "output_type": "display_data"
    }
   ],
   "source": [
    "summary(lmer(ms ~  time_before_ff + (1|ID) + (1|Subject), data = FFD))"
   ]
  },
  {
   "cell_type": "markdown",
   "id": "06007840",
   "metadata": {},
   "source": [
    "This is our <strong> basic model </strong> which will be used for model comparison, i.e., to check the influence of our predictors of interest <strong> concreteness </strong> and <strong> predictability </strong>"
   ]
  },
  {
   "cell_type": "code",
   "execution_count": 13,
   "id": "f6503d01",
   "metadata": {},
   "outputs": [
    {
     "data": {
      "text/plain": [
       "Linear mixed model fit by REML. t-tests use Satterthwaite's method [\n",
       "lmerModLmerTest]\n",
       "Formula: ms ~ LogFreqZipf + PRECEDING_LogFreqZipf + Position + (1 | ID) +  \n",
       "    (1 | Subject)\n",
       "   Data: FFD\n",
       "\n",
       "REML criterion at convergence: 123123.6\n",
       "\n",
       "Scaled residuals: \n",
       "    Min      1Q  Median      3Q     Max \n",
       "-2.6734 -0.6545 -0.1567  0.4712  5.4921 \n",
       "\n",
       "Random effects:\n",
       " Groups   Name        Variance Std.Dev.\n",
       " ID       (Intercept)  175.3   13.24   \n",
       " Subject  (Intercept)  589.8   24.29   \n",
       " Residual             4231.7   65.05   \n",
       "Number of obs: 10966, groups:  ID, 400; Subject, 40\n",
       "\n",
       "Fixed effects:\n",
       "                      Estimate Std. Error       df t value Pr(>|t|)    \n",
       "(Intercept)           220.6675     3.9495  41.2505  55.872  < 2e-16 ***\n",
       "LogFreqZipf            -2.9641     0.9109 389.9325  -3.254  0.00124 ** \n",
       "PRECEDING_LogFreqZipf  -2.1980     0.9152 396.6044  -2.402  0.01678 *  \n",
       "Position                2.3147     0.9158 401.8951   2.528  0.01187 *  \n",
       "---\n",
       "Signif. codes:  0 '***' 0.001 '**' 0.01 '*' 0.05 '.' 0.1 ' ' 1\n",
       "\n",
       "Correlation of Fixed Effects:\n",
       "            (Intr) LgFrqZ PRECED\n",
       "LogFreqZipf  0.003              \n",
       "PRECEDING_L  0.000 -0.075       \n",
       "Position     0.001 -0.003 -0.037"
      ]
     },
     "metadata": {},
     "output_type": "display_data"
    }
   ],
   "source": [
    "lmeBasicFFD = lmer(ms ~ LogFreqZipf + PRECEDING_LogFreqZipf + Position + (1|ID) + (1|Subject), data = FFD)\n",
    "summary(lmeBasicFFD)"
   ]
  },
  {
   "cell_type": "markdown",
   "id": "6d095656",
   "metadata": {},
   "source": [
    "## Predictability and Concreteness\n",
    "Let's test predictability influence."
   ]
  },
  {
   "cell_type": "code",
   "execution_count": 14,
   "id": "ebc3eb7b",
   "metadata": {
    "scrolled": true
   },
   "outputs": [
    {
     "name": "stderr",
     "output_type": "stream",
     "text": [
      "refitting model(s) with ML (instead of REML)\n"
     ]
    },
    {
     "data": {
      "text/html": [
       "<table>\n",
       "<thead><tr><th></th><th scope=col>npar</th><th scope=col>AIC</th><th scope=col>BIC</th><th scope=col>logLik</th><th scope=col>deviance</th><th scope=col>Chisq</th><th scope=col>Df</th><th scope=col>Pr(&gt;Chisq)</th></tr></thead>\n",
       "<tbody>\n",
       "\t<tr><th scope=row>lmeBasicFFD</th><td>7           </td><td>123147.1    </td><td>123198.3    </td><td>-61566.57   </td><td>123133.1    </td><td>      NA    </td><td>NA          </td><td>          NA</td></tr>\n",
       "\t<tr><th scope=row>lmePredFFD</th><td>8           </td><td>123107.8    </td><td>123166.2    </td><td>-61545.89   </td><td>123091.8    </td><td>41.35329    </td><td> 1          </td><td>1.270576e-10</td></tr>\n",
       "</tbody>\n",
       "</table>\n"
      ],
      "text/latex": [
       "\\begin{tabular}{r|llllllll}\n",
       "  & npar & AIC & BIC & logLik & deviance & Chisq & Df & Pr(>Chisq)\\\\\n",
       "\\hline\n",
       "\tlmeBasicFFD & 7            & 123147.1     & 123198.3     & -61566.57    & 123133.1     &       NA     & NA           &           NA\\\\\n",
       "\tlmePredFFD & 8            & 123107.8     & 123166.2     & -61545.89    & 123091.8     & 41.35329     &  1           & 1.270576e-10\\\\\n",
       "\\end{tabular}\n"
      ],
      "text/markdown": [
       "\n",
       "| <!--/--> | npar | AIC | BIC | logLik | deviance | Chisq | Df | Pr(>Chisq) |\n",
       "|---|---|---|---|---|---|---|---|---|\n",
       "| lmeBasicFFD | 7            | 123147.1     | 123198.3     | -61566.57    | 123133.1     |       NA     | NA           |           NA |\n",
       "| lmePredFFD | 8            | 123107.8     | 123166.2     | -61545.89    | 123091.8     | 41.35329     |  1           | 1.270576e-10 |\n",
       "\n"
      ],
      "text/plain": [
       "            npar AIC      BIC      logLik    deviance Chisq    Df Pr(>Chisq)  \n",
       "lmeBasicFFD 7    123147.1 123198.3 -61566.57 123133.1       NA NA           NA\n",
       "lmePredFFD  8    123107.8 123166.2 -61545.89 123091.8 41.35329  1 1.270576e-10"
      ]
     },
     "metadata": {},
     "output_type": "display_data"
    }
   ],
   "source": [
    "lmePredFFD = lmer(ms ~ LogFreqZipf + PRECEDING_LogFreqZipf + Position +  Sim +\n",
    "                       + (1|ID) + (1|Subject), data = FFD)\n",
    "anova(lmeBasicFFD, lmePredFFD)"
   ]
  },
  {
   "cell_type": "markdown",
   "id": "61dc0335",
   "metadata": {},
   "source": [
    "Predictability has a significant influence on FFD."
   ]
  },
  {
   "cell_type": "markdown",
   "id": "15845289",
   "metadata": {},
   "source": [
    "Now we test whether concreteness influence FFD. "
   ]
  },
  {
   "cell_type": "code",
   "execution_count": 16,
   "id": "0563336b",
   "metadata": {},
   "outputs": [
    {
     "name": "stderr",
     "output_type": "stream",
     "text": [
      "refitting model(s) with ML (instead of REML)\n"
     ]
    },
    {
     "data": {
      "text/html": [
       "<table>\n",
       "<thead><tr><th></th><th scope=col>npar</th><th scope=col>AIC</th><th scope=col>BIC</th><th scope=col>logLik</th><th scope=col>deviance</th><th scope=col>Chisq</th><th scope=col>Df</th><th scope=col>Pr(&gt;Chisq)</th></tr></thead>\n",
       "<tbody>\n",
       "\t<tr><th scope=row>lmeBasicFFD</th><td>7          </td><td>123147.1   </td><td>123198.3   </td><td>-61566.57  </td><td>123133.1   </td><td>      NA   </td><td>NA         </td><td>         NA</td></tr>\n",
       "\t<tr><th scope=row>lmeConcFFD</th><td>8          </td><td>123138.9   </td><td>123197.3   </td><td>-61561.44  </td><td>123122.9   </td><td>10.26058   </td><td> 1         </td><td>0.001359027</td></tr>\n",
       "</tbody>\n",
       "</table>\n"
      ],
      "text/latex": [
       "\\begin{tabular}{r|llllllll}\n",
       "  & npar & AIC & BIC & logLik & deviance & Chisq & Df & Pr(>Chisq)\\\\\n",
       "\\hline\n",
       "\tlmeBasicFFD & 7           & 123147.1    & 123198.3    & -61566.57   & 123133.1    &       NA    & NA          &          NA\\\\\n",
       "\tlmeConcFFD & 8           & 123138.9    & 123197.3    & -61561.44   & 123122.9    & 10.26058    &  1          & 0.001359027\\\\\n",
       "\\end{tabular}\n"
      ],
      "text/markdown": [
       "\n",
       "| <!--/--> | npar | AIC | BIC | logLik | deviance | Chisq | Df | Pr(>Chisq) |\n",
       "|---|---|---|---|---|---|---|---|---|\n",
       "| lmeBasicFFD | 7           | 123147.1    | 123198.3    | -61566.57   | 123133.1    |       NA    | NA          |          NA |\n",
       "| lmeConcFFD | 8           | 123138.9    | 123197.3    | -61561.44   | 123122.9    | 10.26058    |  1          | 0.001359027 |\n",
       "\n"
      ],
      "text/plain": [
       "            npar AIC      BIC      logLik    deviance Chisq    Df Pr(>Chisq) \n",
       "lmeBasicFFD 7    123147.1 123198.3 -61566.57 123133.1       NA NA          NA\n",
       "lmeConcFFD  8    123138.9 123197.3 -61561.44 123122.9 10.26058  1 0.001359027"
      ]
     },
     "metadata": {},
     "output_type": "display_data"
    }
   ],
   "source": [
    "lmeConcFFD = lmer(ms ~ LogFreqZipf + PRECEDING_LogFreqZipf + Position + ConcM + (1|ID) + (1|Subject), data = FFD)\n",
    "anova(lmeBasicFFD, lmeConcFFD)"
   ]
  },
  {
   "cell_type": "markdown",
   "id": "0b7efb37",
   "metadata": {},
   "source": [
    "Concreteness has a significant influence on FFD."
   ]
  },
  {
   "cell_type": "markdown",
   "id": "963c450a",
   "metadata": {},
   "source": [
    "Let's now check the joint influence of concreteness and predictability and test whether their effect is additive or interactive."
   ]
  },
  {
   "cell_type": "code",
   "execution_count": 17,
   "id": "3396a4b6",
   "metadata": {},
   "outputs": [],
   "source": [
    "interaction_FFD = lmer(ms ~ LogFreqZipf + PRECEDING_LogFreqZipf + Position + Sim*ConcM + (1|ID) + (1|Subject), data = FFD)\n",
    "additive_FFD = lmer(ms ~ LogFreqZipf + PRECEDING_LogFreqZipf + Position + Sim + ConcM + (1|ID) + (1|Subject), data = FFD)"
   ]
  },
  {
   "cell_type": "code",
   "execution_count": 18,
   "id": "a87731e0",
   "metadata": {},
   "outputs": [
    {
     "data": {
      "text/plain": [
       "Linear mixed model fit by REML. t-tests use Satterthwaite's method [\n",
       "lmerModLmerTest]\n",
       "Formula: ms ~ LogFreqZipf + PRECEDING_LogFreqZipf + Position + Sim + ConcM +  \n",
       "    (1 | ID) + (1 | Subject)\n",
       "   Data: FFD\n",
       "\n",
       "REML criterion at convergence: 123074\n",
       "\n",
       "Scaled residuals: \n",
       "    Min      1Q  Median      3Q     Max \n",
       "-2.7211 -0.6523 -0.1532  0.4674  5.4547 \n",
       "\n",
       "Random effects:\n",
       " Groups   Name        Variance Std.Dev.\n",
       " ID       (Intercept)  140.0   11.83   \n",
       " Subject  (Intercept)  588.8   24.27   \n",
       " Residual             4231.8   65.05   \n",
       "Number of obs: 10966, groups:  ID, 400; Subject, 40\n",
       "\n",
       "Fixed effects:\n",
       "                      Estimate Std. Error       df t value Pr(>|t|)    \n",
       "(Intercept)           220.6139     3.9350  40.7916  56.064  < 2e-16 ***\n",
       "LogFreqZipf            -1.8559     0.8758 385.8517  -2.119   0.0347 *  \n",
       "PRECEDING_LogFreqZipf  -2.1898     0.8701 393.2857  -2.517   0.0122 *  \n",
       "Position                2.1452     0.8662 399.9178   2.477   0.0137 *  \n",
       "Sim                    -5.4925     0.8940 399.3760  -6.144 1.95e-09 ***\n",
       "ConcM                  -2.0380     0.8797 392.9229  -2.317   0.0210 *  \n",
       "---\n",
       "Signif. codes:  0 '***' 0.001 '**' 0.01 '*' 0.05 '.' 0.1 ' ' 1"
      ]
     },
     "metadata": {},
     "output_type": "display_data"
    }
   ],
   "source": [
    "summary(additive_FFD, corr=F)"
   ]
  },
  {
   "cell_type": "code",
   "execution_count": 19,
   "id": "41c5c947",
   "metadata": {},
   "outputs": [
    {
     "data": {
      "text/plain": [
       "Linear mixed model fit by REML. t-tests use Satterthwaite's method [\n",
       "lmerModLmerTest]\n",
       "Formula: ms ~ LogFreqZipf + PRECEDING_LogFreqZipf + Position + Sim * ConcM +  \n",
       "    (1 | ID) + (1 | Subject)\n",
       "   Data: FFD\n",
       "\n",
       "REML criterion at convergence: 123072.2\n",
       "\n",
       "Scaled residuals: \n",
       "    Min      1Q  Median      3Q     Max \n",
       "-2.7199 -0.6525 -0.1518  0.4675  5.4544 \n",
       "\n",
       "Random effects:\n",
       " Groups   Name        Variance Std.Dev.\n",
       " ID       (Intercept)  140.7   11.86   \n",
       " Subject  (Intercept)  588.9   24.27   \n",
       " Residual             4231.7   65.05   \n",
       "Number of obs: 10966, groups:  ID, 400; Subject, 40\n",
       "\n",
       "Fixed effects:\n",
       "                      Estimate Std. Error       df t value Pr(>|t|)    \n",
       "(Intercept)           220.6810     3.9382  40.9156  56.036  < 2e-16 ***\n",
       "LogFreqZipf            -1.8787     0.8782 385.2791  -2.139   0.0330 *  \n",
       "PRECEDING_LogFreqZipf  -2.1323     0.8801 393.3182  -2.423   0.0159 *  \n",
       "Position                2.0990     0.8731 399.3809   2.404   0.0167 *  \n",
       "Sim                    -5.4243     0.9073 393.1576  -5.978 5.06e-09 ***\n",
       "ConcM                  -2.0324     0.8808 391.8138  -2.308   0.0215 *  \n",
       "Sim:ConcM              -0.4102     0.8989 398.6744  -0.456   0.6484    \n",
       "---\n",
       "Signif. codes:  0 '***' 0.001 '**' 0.01 '*' 0.05 '.' 0.1 ' ' 1"
      ]
     },
     "metadata": {},
     "output_type": "display_data"
    }
   ],
   "source": [
    "summary(interaction_FFD, corr=F) "
   ]
  },
  {
   "cell_type": "code",
   "execution_count": 20,
   "id": "63cc615b",
   "metadata": {
    "scrolled": true
   },
   "outputs": [
    {
     "name": "stderr",
     "output_type": "stream",
     "text": [
      "refitting model(s) with ML (instead of REML)\n"
     ]
    },
    {
     "data": {
      "text/html": [
       "<table>\n",
       "<thead><tr><th></th><th scope=col>npar</th><th scope=col>AIC</th><th scope=col>BIC</th><th scope=col>logLik</th><th scope=col>deviance</th><th scope=col>Chisq</th><th scope=col>Df</th><th scope=col>Pr(&gt;Chisq)</th></tr></thead>\n",
       "<tbody>\n",
       "\t<tr><th scope=row>additive_FFD</th><td> 9       </td><td>123104.4 </td><td>123170.1 </td><td>-61543.19</td><td>123086.4 </td><td>       NA</td><td>NA       </td><td>       NA</td></tr>\n",
       "\t<tr><th scope=row>interaction_FFD</th><td>10       </td><td>123106.2 </td><td>123179.2 </td><td>-61543.08</td><td>123086.2 </td><td>0.2094683</td><td> 1       </td><td>0.6471845</td></tr>\n",
       "</tbody>\n",
       "</table>\n"
      ],
      "text/latex": [
       "\\begin{tabular}{r|llllllll}\n",
       "  & npar & AIC & BIC & logLik & deviance & Chisq & Df & Pr(>Chisq)\\\\\n",
       "\\hline\n",
       "\tadditive\\_FFD &  9        & 123104.4  & 123170.1  & -61543.19 & 123086.4  &        NA & NA        &        NA\\\\\n",
       "\tinteraction\\_FFD & 10        & 123106.2  & 123179.2  & -61543.08 & 123086.2  & 0.2094683 &  1        & 0.6471845\\\\\n",
       "\\end{tabular}\n"
      ],
      "text/markdown": [
       "\n",
       "| <!--/--> | npar | AIC | BIC | logLik | deviance | Chisq | Df | Pr(>Chisq) |\n",
       "|---|---|---|---|---|---|---|---|---|\n",
       "| additive_FFD |  9        | 123104.4  | 123170.1  | -61543.19 | 123086.4  |        NA | NA        |        NA |\n",
       "| interaction_FFD | 10        | 123106.2  | 123179.2  | -61543.08 | 123086.2  | 0.2094683 |  1        | 0.6471845 |\n",
       "\n"
      ],
      "text/plain": [
       "                npar AIC      BIC      logLik    deviance Chisq     Df\n",
       "additive_FFD     9   123104.4 123170.1 -61543.19 123086.4        NA NA\n",
       "interaction_FFD 10   123106.2 123179.2 -61543.08 123086.2 0.2094683  1\n",
       "                Pr(>Chisq)\n",
       "additive_FFD           NA \n",
       "interaction_FFD 0.6471845 "
      ]
     },
     "metadata": {},
     "output_type": "display_data"
    }
   ],
   "source": [
    "anova(interaction_FFD,additive_FFD)"
   ]
  },
  {
   "cell_type": "markdown",
   "id": "9a990f9e",
   "metadata": {},
   "source": [
    "We don't have evidence in support of an interactive influence of predictability and concreteness on FFD.\n",
    "Let's visualize the confidence intervals of the estimates."
   ]
  },
  {
   "cell_type": "code",
   "execution_count": 21,
   "id": "d4f48097",
   "metadata": {},
   "outputs": [
    {
     "data": {
      "image/png": "[encoded data removed]",
      "text/plain": [
       "plot without title"
      ]
     },
     "metadata": {},
     "output_type": "display_data"
    }
   ],
   "source": [
    "p <- sjPlot::plot_model(interaction_FFD, , title = \"FFD\",\n",
    "                       axis.labels = c(\"Predictability*Concreteness\",\n",
    "                                       \"Concreteness\",\n",
    "                                       \"Predictability\",\n",
    "                                       \"Position\",\n",
    "                                       \"Preceding Frequency (Zipf)\",\n",
    "                                       \"Frequency (Zipf)\",\n",
    "                                       \"Intercept\"))\n",
    "p + sjPlot::font_size(labels.y = 15)"
   ]
  },
  {
   "cell_type": "code",
   "execution_count": 22,
   "id": "e0baa48a",
   "metadata": {},
   "outputs": [],
   "source": [
    "# options(repr.plot.width  = 6,\n",
    "#        repr.plot.height = 6)"
   ]
  },
  {
   "cell_type": "markdown",
   "id": "6094a96e",
   "metadata": {},
   "source": [
    "In order to better characterise the relationship between predictability and concreteness, and to compare it with the established additive influence of predictability and frequency, let's plot the predicted values for the response."
   ]
  },
  {
   "cell_type": "code",
   "execution_count": 23,
   "id": "72de9950",
   "metadata": {},
   "outputs": [
    {
     "name": "stderr",
     "output_type": "stream",
     "text": [
      "Scale for 'colour' is already present. Adding another scale for 'colour',\n",
      "which will replace the existing scale.\n"
     ]
    },
    {
     "data": {
      "image/png": "[encoded data removed]",
      "text/plain": [
       "plot without title"
      ]
     },
     "metadata": {},
     "output_type": "display_data"
    }
   ],
   "source": [
    "dfConcSim <- ggeffect(interaction_FFD, terms = c(\"Sim\", \"ConcM\"))\n",
    "\n",
    "p <- plot(dfConcSim) +\n",
    "  labs(x=\"Predictability\", colour=\"Concreteness\", title = \"FFD\") +\n",
    "  scale_color_discrete(labels = c(\"-1 SD\", \"Mean\", \"+1 SD\"))\n",
    "  \n",
    "p + sjPlot::font_size(labels.y = 15) + theme(text=element_text(size=20))"
   ]
  },
  {
   "cell_type": "code",
   "execution_count": 24,
   "id": "a7ee320c",
   "metadata": {},
   "outputs": [
    {
     "name": "stderr",
     "output_type": "stream",
     "text": [
      "Scale for 'colour' is already present. Adding another scale for 'colour',\n",
      "which will replace the existing scale.\n"
     ]
    },
    {
     "data": {
      "image/png": "[encoded data removed]",
      "text/plain": [
       "plot without title"
      ]
     },
     "metadata": {},
     "output_type": "display_data"
    }
   ],
   "source": [
    "dfFreqSim <- ggeffect(interaction_FFD, terms = c(\"Sim\", \"LogFreqZipf\"))\n",
    "\n",
    "p <- plot(dfFreqSim) +\n",
    "  labs(x=\"Predictability\", colour=\"Frequency\", title = \"FFD\") +\n",
    "  scale_color_discrete(labels = c(\"-1 SD\", \"Mean\", \"+1 SD\"))\n",
    "  \n",
    "p + sjPlot::font_size(labels.y = 15) + theme(text=element_text(size=20))"
   ]
  },
  {
   "cell_type": "markdown",
   "id": "1f5c0877",
   "metadata": {},
   "source": [
    "# Gaze Duration\n",
    "\n",
    "## Basic Model"
   ]
  },
  {
   "cell_type": "code",
   "execution_count": 26,
   "id": "0d7050c3",
   "metadata": {},
   "outputs": [],
   "source": [
    "GD <- read.csv('C:/Users/fm02/OwnCloud/EOS_EyeTrackingDataCollection/Data_Results/data_forR/norm_gd_41_final.csv')\n",
    "GD <- GD[GD$ms > 80, ]"
   ]
  },
  {
   "cell_type": "code",
   "execution_count": 27,
   "id": "f39a6117",
   "metadata": {},
   "outputs": [
    {
     "data": {
      "text/plain": [
       "Linear mixed model fit by REML. t-tests use Satterthwaite's method [\n",
       "lmerModLmerTest]\n",
       "Formula: ms ~ trialnr + (1 | ID) + (1 | Subject)\n",
       "   Data: GD\n",
       "\n",
       "REML criterion at convergence: 129079.8\n",
       "\n",
       "Scaled residuals: \n",
       "    Min      1Q  Median      3Q     Max \n",
       "-2.5805 -0.6137 -0.1769  0.4040  9.8155 \n",
       "\n",
       "Random effects:\n",
       " Groups   Name        Variance Std.Dev.\n",
       " ID       (Intercept)  482.7   21.97   \n",
       " Subject  (Intercept)  969.4   31.13   \n",
       " Residual             7201.3   84.86   \n",
       "Number of obs: 10966, groups:  ID, 400; Subject, 40\n",
       "\n",
       "Fixed effects:\n",
       "             Estimate Std. Error        df t value Pr(>|t|)    \n",
       "(Intercept) 2.345e+02  5.305e+00 4.971e+01  44.200   <2e-16 ***\n",
       "trialnr     2.830e-03  7.116e-03 1.075e+04   0.398    0.691    \n",
       "---\n",
       "Signif. codes:  0 '***' 0.001 '**' 0.01 '*' 0.05 '.' 0.1 ' ' 1\n",
       "\n",
       "Correlation of Fixed Effects:\n",
       "        (Intr)\n",
       "trialnr -0.266"
      ]
     },
     "metadata": {},
     "output_type": "display_data"
    }
   ],
   "source": [
    "summary(lmer(ms ~ trialnr + (1|ID) + (1|Subject), data = GD))\n",
    "# The order of the trials does not influence GD"
   ]
  },
  {
   "cell_type": "code",
   "execution_count": 28,
   "id": "b340db17",
   "metadata": {},
   "outputs": [
    {
     "data": {
      "text/plain": [
       "Linear mixed model fit by REML. t-tests use Satterthwaite's method [\n",
       "lmerModLmerTest]\n",
       "Formula: ms ~ LogFreqZipf + (1 | ID) + (1 | Subject)\n",
       "   Data: GD\n",
       "\n",
       "REML criterion at convergence: 129054.3\n",
       "\n",
       "Scaled residuals: \n",
       "    Min      1Q  Median      3Q     Max \n",
       "-2.5577 -0.6133 -0.1769  0.4035  9.7869 \n",
       "\n",
       "Random effects:\n",
       " Groups   Name        Variance Std.Dev.\n",
       " ID       (Intercept)  457.1   21.38   \n",
       " Subject  (Intercept)  969.7   31.14   \n",
       " Residual             7200.5   84.86   \n",
       "Number of obs: 10966, groups:  ID, 400; Subject, 40\n",
       "\n",
       "Fixed effects:\n",
       "            Estimate Std. Error      df t value Pr(>|t|)    \n",
       "(Intercept)  235.025      5.108  42.688  46.010  < 2e-16 ***\n",
       "LogFreqZipf   -5.286      1.343 398.320  -3.936 9.76e-05 ***\n",
       "---\n",
       "Signif. codes:  0 '***' 0.001 '**' 0.01 '*' 0.05 '.' 0.1 ' ' 1\n",
       "\n",
       "Correlation of Fixed Effects:\n",
       "            (Intr)\n",
       "LogFreqZipf 0.002 "
      ]
     },
     "metadata": {},
     "output_type": "display_data"
    }
   ],
   "source": [
    "summary(lmer(ms ~ LogFreqZipf + (1|ID) + (1|Subject), data = GD))\n",
    "# LogFreqZipf influences GD"
   ]
  },
  {
   "cell_type": "code",
   "execution_count": 29,
   "id": "0e648cc0",
   "metadata": {},
   "outputs": [
    {
     "data": {
      "text/plain": [
       "Linear mixed model fit by REML. t-tests use Satterthwaite's method [\n",
       "lmerModLmerTest]\n",
       "Formula: ms ~ LEN + (1 | ID) + (1 | Subject)\n",
       "   Data: GD\n",
       "\n",
       "REML criterion at convergence: 129050.5\n",
       "\n",
       "Scaled residuals: \n",
       "    Min      1Q  Median      3Q     Max \n",
       "-2.5859 -0.6162 -0.1768  0.4079  9.8240 \n",
       "\n",
       "Random effects:\n",
       " Groups   Name        Variance Std.Dev.\n",
       " ID       (Intercept)  449.8   21.21   \n",
       " Subject  (Intercept)  969.5   31.14   \n",
       " Residual             7200.7   84.86   \n",
       "Number of obs: 10966, groups:  ID, 400; Subject, 40\n",
       "\n",
       "Fixed effects:\n",
       "            Estimate Std. Error      df t value Pr(>|t|)    \n",
       "(Intercept)  234.865      5.106  42.640  45.998  < 2e-16 ***\n",
       "LEN            5.940      1.347 410.805   4.409 1.33e-05 ***\n",
       "---\n",
       "Signif. codes:  0 '***' 0.001 '**' 0.01 '*' 0.05 '.' 0.1 ' ' 1\n",
       "\n",
       "Correlation of Fixed Effects:\n",
       "    (Intr)\n",
       "LEN -0.009"
      ]
     },
     "metadata": {},
     "output_type": "display_data"
    }
   ],
   "source": [
    "summary(lmer(ms ~ LEN + (1|ID) + (1|Subject), data = GD))\n",
    "# length influences GD"
   ]
  },
  {
   "cell_type": "code",
   "execution_count": 30,
   "id": "52473c2d",
   "metadata": {},
   "outputs": [
    {
     "data": {
      "text/plain": [
       "Linear mixed model fit by REML. t-tests use Satterthwaite's method [\n",
       "lmerModLmerTest]\n",
       "Formula: ms ~ PRECEDING_LogFreqZipf + (1 | ID) + (1 | Subject)\n",
       "   Data: GD\n",
       "\n",
       "REML criterion at convergence: 129061.3\n",
       "\n",
       "Scaled residuals: \n",
       "    Min      1Q  Median      3Q     Max \n",
       "-2.5885 -0.6144 -0.1748  0.4057  9.8286 \n",
       "\n",
       "Random effects:\n",
       " Groups   Name        Variance Std.Dev.\n",
       " ID       (Intercept)  470.0   21.68   \n",
       " Subject  (Intercept)  969.5   31.14   \n",
       " Residual             7200.5   84.86   \n",
       "Number of obs: 10966, groups:  ID, 400; Subject, 40\n",
       "\n",
       "Fixed effects:\n",
       "                      Estimate Std. Error      df t value Pr(>|t|)    \n",
       "(Intercept)            235.059      5.111  42.795  45.992  < 2e-16 ***\n",
       "PRECEDING_LogFreqZipf   -3.908      1.359 403.668  -2.875  0.00425 ** \n",
       "---\n",
       "Signif. codes:  0 '***' 0.001 '**' 0.01 '*' 0.05 '.' 0.1 ' ' 1\n",
       "\n",
       "Correlation of Fixed Effects:\n",
       "            (Intr)\n",
       "PRECEDING_L 0.000 "
      ]
     },
     "metadata": {},
     "output_type": "display_data"
    }
   ],
   "source": [
    "summary(lmer(ms ~ PRECEDING_LogFreqZipf + (1|ID) + (1|Subject), data = GD))\n",
    "# preceding word logFreq influences GD"
   ]
  },
  {
   "cell_type": "code",
   "execution_count": 31,
   "id": "dec71ad4",
   "metadata": {},
   "outputs": [
    {
     "data": {
      "text/plain": [
       "Linear mixed model fit by REML. t-tests use Satterthwaite's method [\n",
       "lmerModLmerTest]\n",
       "Formula: ms ~ Position + (1 | ID) + (1 | Subject)\n",
       "   Data: GD\n",
       "\n",
       "REML criterion at convergence: 129065.6\n",
       "\n",
       "Scaled residuals: \n",
       "    Min      1Q  Median      3Q     Max \n",
       "-2.5913 -0.6142 -0.1771  0.4059  9.8218 \n",
       "\n",
       "Random effects:\n",
       " Groups   Name        Variance Std.Dev.\n",
       " ID       (Intercept)  477.6   21.85   \n",
       " Subject  (Intercept)  969.2   31.13   \n",
       " Residual             7200.7   84.86   \n",
       "Number of obs: 10966, groups:  ID, 400; Subject, 40\n",
       "\n",
       "Fixed effects:\n",
       "            Estimate Std. Error      df t value Pr(>|t|)    \n",
       "(Intercept)  235.069      5.112  42.859   45.98   <2e-16 ***\n",
       "Position       2.684      1.370 407.168    1.96   0.0507 .  \n",
       "---\n",
       "Signif. codes:  0 '***' 0.001 '**' 0.01 '*' 0.05 '.' 0.1 ' ' 1\n",
       "\n",
       "Correlation of Fixed Effects:\n",
       "         (Intr)\n",
       "Position 0.001 "
      ]
     },
     "metadata": {},
     "output_type": "display_data"
    }
   ],
   "source": [
    "summary(lmer(ms ~ Position + (1|ID) + (1|Subject), data = GD))\n",
    "# Position marginally influences GD"
   ]
  },
  {
   "cell_type": "markdown",
   "id": "6cde9a17",
   "metadata": {},
   "source": [
    "This is our <strong> basic model </strong> which will be used for model comparison, i.e., to check the influence of our predictors of interest <strong> concreteness </strong> and <strong> predictability </strong>"
   ]
  },
  {
   "cell_type": "code",
   "execution_count": 32,
   "id": "1f23bc91",
   "metadata": {},
   "outputs": [
    {
     "data": {
      "text/plain": [
       "Linear mixed model fit by REML. t-tests use Satterthwaite's method [\n",
       "lmerModLmerTest]\n",
       "Formula: ms ~ LogFreqZipf + LEN + PRECEDING_LogFreqZipf + Position + (1 |  \n",
       "    ID) + (1 | Subject)\n",
       "   Data: GD\n",
       "\n",
       "REML criterion at convergence: 129020.4\n",
       "\n",
       "Scaled residuals: \n",
       "    Min      1Q  Median      3Q     Max \n",
       "-2.5753 -0.6134 -0.1761  0.4068  9.8276 \n",
       "\n",
       "Random effects:\n",
       " Groups   Name        Variance Std.Dev.\n",
       " ID       (Intercept)  415.2   20.38   \n",
       " Subject  (Intercept)  969.0   31.13   \n",
       " Residual             7200.6   84.86   \n",
       "Number of obs: 10966, groups:  ID, 400; Subject, 40\n",
       "\n",
       "Fixed effects:\n",
       "                      Estimate Std. Error      df t value Pr(>|t|)    \n",
       "(Intercept)            234.872      5.096  42.361  46.086  < 2e-16 ***\n",
       "LogFreqZipf             -4.758      1.309 394.942  -3.636 0.000313 ***\n",
       "LEN                      5.243      1.329 408.162   3.944 9.41e-05 ***\n",
       "PRECEDING_LogFreqZipf   -2.915      1.324 399.824  -2.201 0.028280 *  \n",
       "Position                 2.823      1.312 404.922   2.151 0.032055 *  \n",
       "---\n",
       "Signif. codes:  0 '***' 0.001 '**' 0.01 '*' 0.05 '.' 0.1 ' ' 1\n",
       "\n",
       "Correlation of Fixed Effects:\n",
       "            (Intr) LgFrqZ LEN    PRECED\n",
       "LogFreqZipf  0.002                     \n",
       "LEN         -0.010  0.051              \n",
       "PRECEDING_L -0.001 -0.068  0.136       \n",
       "Position     0.001 -0.002 -0.004 -0.036"
      ]
     },
     "metadata": {},
     "output_type": "display_data"
    }
   ],
   "source": [
    "lmeBasicGD = lmer(ms ~ LogFreqZipf + LEN + PRECEDING_LogFreqZipf + Position + (1|ID) + (1|Subject), data = GD)\n",
    "summary(lmeBasicGD)"
   ]
  },
  {
   "cell_type": "markdown",
   "id": "8a4ae58c",
   "metadata": {},
   "source": [
    "## Predictability and Concreteness\n",
    "\n",
    "Let's test predictability influence on GD."
   ]
  },
  {
   "cell_type": "code",
   "execution_count": 34,
   "id": "bfd297f2",
   "metadata": {},
   "outputs": [
    {
     "name": "stderr",
     "output_type": "stream",
     "text": [
      "refitting model(s) with ML (instead of REML)\n"
     ]
    },
    {
     "data": {
      "text/html": [
       "<table>\n",
       "<thead><tr><th></th><th scope=col>npar</th><th scope=col>AIC</th><th scope=col>BIC</th><th scope=col>logLik</th><th scope=col>deviance</th><th scope=col>Chisq</th><th scope=col>Df</th><th scope=col>Pr(&gt;Chisq)</th></tr></thead>\n",
       "<tbody>\n",
       "\t<tr><th scope=row>lmeBasicGD</th><td>8           </td><td>129051.0    </td><td>129109.4    </td><td>-64517.48   </td><td>129035.0    </td><td>      NA    </td><td>NA          </td><td>          NA</td></tr>\n",
       "\t<tr><th scope=row>lmePredGD</th><td>9           </td><td>129001.7    </td><td>129067.4    </td><td>-64491.83   </td><td>128983.7    </td><td>51.31418    </td><td> 1          </td><td>7.870502e-13</td></tr>\n",
       "</tbody>\n",
       "</table>\n"
      ],
      "text/latex": [
       "\\begin{tabular}{r|llllllll}\n",
       "  & npar & AIC & BIC & logLik & deviance & Chisq & Df & Pr(>Chisq)\\\\\n",
       "\\hline\n",
       "\tlmeBasicGD & 8            & 129051.0     & 129109.4     & -64517.48    & 129035.0     &       NA     & NA           &           NA\\\\\n",
       "\tlmePredGD & 9            & 129001.7     & 129067.4     & -64491.83    & 128983.7     & 51.31418     &  1           & 7.870502e-13\\\\\n",
       "\\end{tabular}\n"
      ],
      "text/markdown": [
       "\n",
       "| <!--/--> | npar | AIC | BIC | logLik | deviance | Chisq | Df | Pr(>Chisq) |\n",
       "|---|---|---|---|---|---|---|---|---|\n",
       "| lmeBasicGD | 8            | 129051.0     | 129109.4     | -64517.48    | 129035.0     |       NA     | NA           |           NA |\n",
       "| lmePredGD | 9            | 129001.7     | 129067.4     | -64491.83    | 128983.7     | 51.31418     |  1           | 7.870502e-13 |\n",
       "\n"
      ],
      "text/plain": [
       "           npar AIC      BIC      logLik    deviance Chisq    Df Pr(>Chisq)  \n",
       "lmeBasicGD 8    129051.0 129109.4 -64517.48 129035.0       NA NA           NA\n",
       "lmePredGD  9    129001.7 129067.4 -64491.83 128983.7 51.31418  1 7.870502e-13"
      ]
     },
     "metadata": {},
     "output_type": "display_data"
    }
   ],
   "source": [
    "lmePredGD = lmer(ms ~ LogFreqZipf + LEN + PRECEDING_LogFreqZipf +  Position + Sim +\n",
    "                       + (1|ID) + (1|Subject), data = GD)\n",
    "anova(lmeBasicGD, lmePredGD)"
   ]
  },
  {
   "cell_type": "markdown",
   "id": "239c2128",
   "metadata": {},
   "source": [
    "Predictability has a significant influence on GD."
   ]
  },
  {
   "cell_type": "markdown",
   "id": "a4133b6e",
   "metadata": {},
   "source": [
    "Now, let's test concreteness influence on GD"
   ]
  },
  {
   "cell_type": "code",
   "execution_count": 35,
   "id": "e0b42164",
   "metadata": {
    "scrolled": true
   },
   "outputs": [
    {
     "name": "stderr",
     "output_type": "stream",
     "text": [
      "refitting model(s) with ML (instead of REML)\n"
     ]
    },
    {
     "data": {
      "text/html": [
       "<table>\n",
       "<thead><tr><th></th><th scope=col>npar</th><th scope=col>AIC</th><th scope=col>BIC</th><th scope=col>logLik</th><th scope=col>deviance</th><th scope=col>Chisq</th><th scope=col>Df</th><th scope=col>Pr(&gt;Chisq)</th></tr></thead>\n",
       "<tbody>\n",
       "\t<tr><th scope=row>lmeBasicGD</th><td>8         </td><td>129051.0  </td><td>129109.4  </td><td>-64517.48 </td><td>129035.0  </td><td>      NA  </td><td>NA        </td><td>        NA</td></tr>\n",
       "\t<tr><th scope=row>lmeConcGD</th><td>9         </td><td>129048.9  </td><td>129114.6  </td><td>-64515.44 </td><td>129030.9  </td><td>4.087823  </td><td> 1        </td><td>0.04319325</td></tr>\n",
       "</tbody>\n",
       "</table>\n"
      ],
      "text/latex": [
       "\\begin{tabular}{r|llllllll}\n",
       "  & npar & AIC & BIC & logLik & deviance & Chisq & Df & Pr(>Chisq)\\\\\n",
       "\\hline\n",
       "\tlmeBasicGD & 8          & 129051.0   & 129109.4   & -64517.48  & 129035.0   &       NA   & NA         &         NA\\\\\n",
       "\tlmeConcGD & 9          & 129048.9   & 129114.6   & -64515.44  & 129030.9   & 4.087823   &  1         & 0.04319325\\\\\n",
       "\\end{tabular}\n"
      ],
      "text/markdown": [
       "\n",
       "| <!--/--> | npar | AIC | BIC | logLik | deviance | Chisq | Df | Pr(>Chisq) |\n",
       "|---|---|---|---|---|---|---|---|---|\n",
       "| lmeBasicGD | 8          | 129051.0   | 129109.4   | -64517.48  | 129035.0   |       NA   | NA         |         NA |\n",
       "| lmeConcGD | 9          | 129048.9   | 129114.6   | -64515.44  | 129030.9   | 4.087823   |  1         | 0.04319325 |\n",
       "\n"
      ],
      "text/plain": [
       "           npar AIC      BIC      logLik    deviance Chisq    Df Pr(>Chisq)\n",
       "lmeBasicGD 8    129051.0 129109.4 -64517.48 129035.0       NA NA         NA\n",
       "lmeConcGD  9    129048.9 129114.6 -64515.44 129030.9 4.087823  1 0.04319325"
      ]
     },
     "metadata": {},
     "output_type": "display_data"
    }
   ],
   "source": [
    "lmeConcGD = lmer(ms ~ LogFreqZipf + LEN  + PRECEDING_LogFreqZipf + Position +  ConcM + (1|ID) + (1|Subject), data = GD)\n",
    "anova(lmeBasicGD,lmeConcGD)"
   ]
  },
  {
   "cell_type": "markdown",
   "id": "45329054",
   "metadata": {},
   "source": [
    "Concreteness has a significant influence on GD."
   ]
  },
  {
   "cell_type": "markdown",
   "id": "8f85e0f0",
   "metadata": {},
   "source": [
    "Let's now check the joint influence of concreteness and predictability and test whether their effect is additive or interactive."
   ]
  },
  {
   "cell_type": "code",
   "execution_count": 36,
   "id": "6f2fee5a",
   "metadata": {},
   "outputs": [],
   "source": [
    "additive_GD = lmer(ms ~ LogFreqZipf + LEN + PRECEDING_LogFreqZipf + Position + Sim + ConcM +\n",
    "                   + (1|ID) + (1|Subject), data = GD)\n",
    "interaction_GD = lmer(ms ~ LogFreqZipf + LEN + PRECEDING_LogFreqZipf + Position + Sim * ConcM \n",
    "                      + (1|ID) + (1|Subject), data = GD)"
   ]
  },
  {
   "cell_type": "code",
   "execution_count": 37,
   "id": "9e1f22f9",
   "metadata": {},
   "outputs": [
    {
     "data": {
      "text/plain": [
       "Linear mixed model fit by REML. t-tests use Satterthwaite's method [\n",
       "lmerModLmerTest]\n",
       "Formula: ms ~ LogFreqZipf + LEN + PRECEDING_LogFreqZipf + Position + Sim +  \n",
       "    ConcM + +(1 | ID) + (1 | Subject)\n",
       "   Data: GD\n",
       "\n",
       "REML criterion at convergence: 128964.1\n",
       "\n",
       "Scaled residuals: \n",
       "    Min      1Q  Median      3Q     Max \n",
       "-2.5848 -0.6157 -0.1749  0.4016  9.9264 \n",
       "\n",
       "Random effects:\n",
       " Groups   Name        Variance Std.Dev.\n",
       " ID       (Intercept)  334.4   18.29   \n",
       " Subject  (Intercept)  967.6   31.11   \n",
       " Residual             7200.7   84.86   \n",
       "Number of obs: 10966, groups:  ID, 400; Subject, 40\n",
       "\n",
       "Fixed effects:\n",
       "                      Estimate Std. Error      df t value Pr(>|t|)    \n",
       "(Intercept)            234.834      5.073  41.715  46.291  < 2e-16 ***\n",
       "LogFreqZipf             -3.044      1.250 390.984  -2.436 0.015285 *  \n",
       "LEN                      5.007      1.281 405.488   3.910 0.000108 ***\n",
       "PRECEDING_LogFreqZipf   -3.139      1.247 396.846  -2.517 0.012240 *  \n",
       "Position                 2.560      1.233 402.884   2.076 0.038495 *  \n",
       "Sim                     -9.040      1.273 402.116  -7.100 5.68e-12 ***\n",
       "ConcM                   -1.184      1.285 396.079  -0.921 0.357485    \n",
       "---\n",
       "Signif. codes:  0 '***' 0.001 '**' 0.01 '*' 0.05 '.' 0.1 ' ' 1"
      ]
     },
     "metadata": {},
     "output_type": "display_data"
    }
   ],
   "source": [
    "summary(additive_GD, corr=F) "
   ]
  },
  {
   "cell_type": "code",
   "execution_count": 38,
   "id": "5e43e843",
   "metadata": {},
   "outputs": [
    {
     "data": {
      "text/html": [
       "<table>\n",
       "<thead><tr><th scope=col>Term</th><th scope=col>VIF</th><th scope=col>SE_factor</th></tr></thead>\n",
       "<tbody>\n",
       "\t<tr><td>LogFreqZipf          </td><td>1.044606             </td><td>1.022060             </td></tr>\n",
       "\t<tr><td>LEN                  </td><td>1.075676             </td><td>1.037148             </td></tr>\n",
       "\t<tr><td>PRECEDING_LogFreqZipf</td><td>1.032946             </td><td>1.016340             </td></tr>\n",
       "\t<tr><td>Position             </td><td>1.002286             </td><td>1.001142             </td></tr>\n",
       "\t<tr><td>Sim                  </td><td>1.067014             </td><td>1.032964             </td></tr>\n",
       "\t<tr><td>ConcM                </td><td>1.093819             </td><td>1.045858             </td></tr>\n",
       "</tbody>\n",
       "</table>\n"
      ],
      "text/latex": [
       "\\begin{tabular}{r|lll}\n",
       " Term & VIF & SE\\_factor\\\\\n",
       "\\hline\n",
       "\t LogFreqZipf           & 1.044606              & 1.022060             \\\\\n",
       "\t LEN                   & 1.075676              & 1.037148             \\\\\n",
       "\t PRECEDING\\_LogFreqZipf & 1.032946                & 1.016340               \\\\\n",
       "\t Position              & 1.002286              & 1.001142             \\\\\n",
       "\t Sim                   & 1.067014              & 1.032964             \\\\\n",
       "\t ConcM                 & 1.093819              & 1.045858             \\\\\n",
       "\\end{tabular}\n"
      ],
      "text/markdown": [
       "\n",
       "| Term | VIF | SE_factor |\n",
       "|---|---|---|\n",
       "| LogFreqZipf           | 1.044606              | 1.022060              |\n",
       "| LEN                   | 1.075676              | 1.037148              |\n",
       "| PRECEDING_LogFreqZipf | 1.032946              | 1.016340              |\n",
       "| Position              | 1.002286              | 1.001142              |\n",
       "| Sim                   | 1.067014              | 1.032964              |\n",
       "| ConcM                 | 1.093819              | 1.045858              |\n",
       "\n"
      ],
      "text/plain": [
       "  Term                  VIF      SE_factor\n",
       "1 LogFreqZipf           1.044606 1.022060 \n",
       "2 LEN                   1.075676 1.037148 \n",
       "3 PRECEDING_LogFreqZipf 1.032946 1.016340 \n",
       "4 Position              1.002286 1.001142 \n",
       "5 Sim                   1.067014 1.032964 \n",
       "6 ConcM                 1.093819 1.045858 "
      ]
     },
     "metadata": {},
     "output_type": "display_data"
    }
   ],
   "source": [
    "check_collinearity(additive_GD)"
   ]
  },
  {
   "cell_type": "code",
   "execution_count": 39,
   "id": "0b3e3999",
   "metadata": {},
   "outputs": [
    {
     "data": {
      "text/plain": [
       "Linear mixed model fit by REML. t-tests use Satterthwaite's method [\n",
       "lmerModLmerTest]\n",
       "Formula: ms ~ LogFreqZipf + LEN + PRECEDING_LogFreqZipf + Position + Sim *  \n",
       "    ConcM + (1 | ID) + (1 | Subject)\n",
       "   Data: GD\n",
       "\n",
       "REML criterion at convergence: 128961.8\n",
       "\n",
       "Scaled residuals: \n",
       "    Min      1Q  Median      3Q     Max \n",
       "-2.5844 -0.6161 -0.1747  0.4017  9.9276 \n",
       "\n",
       "Random effects:\n",
       " Groups   Name        Variance Std.Dev.\n",
       " ID       (Intercept)  335.9   18.33   \n",
       " Subject  (Intercept)  967.6   31.11   \n",
       " Residual             7200.7   84.86   \n",
       "Number of obs: 10966, groups:  ID, 400; Subject, 40\n",
       "\n",
       "Fixed effects:\n",
       "                      Estimate Std. Error       df t value Pr(>|t|)    \n",
       "(Intercept)           234.8645     5.0779  41.8726  46.253  < 2e-16 ***\n",
       "LogFreqZipf            -3.0550     1.2533 390.2117  -2.438 0.015229 *  \n",
       "LEN                     5.0029     1.2825 404.4666   3.901 0.000112 ***\n",
       "PRECEDING_LogFreqZipf  -3.1129     1.2612 396.5866  -2.468 0.013998 *  \n",
       "Position                2.5382     1.2426 402.1512   2.043 0.041744 *  \n",
       "Sim                    -9.0077     1.2933 396.3542  -6.965 1.37e-11 ***\n",
       "ConcM                  -1.1815     1.2866 394.8958  -0.918 0.359025    \n",
       "Sim:ConcM              -0.1899     1.2796 401.4892  -0.148 0.882128    \n",
       "---\n",
       "Signif. codes:  0 '***' 0.001 '**' 0.01 '*' 0.05 '.' 0.1 ' ' 1"
      ]
     },
     "metadata": {},
     "output_type": "display_data"
    }
   ],
   "source": [
    "summary(interaction_GD, corr=F)"
   ]
  },
  {
   "cell_type": "code",
   "execution_count": 40,
   "id": "0a001624",
   "metadata": {},
   "outputs": [
    {
     "name": "stderr",
     "output_type": "stream",
     "text": [
      "refitting model(s) with ML (instead of REML)\n"
     ]
    },
    {
     "data": {
      "text/html": [
       "<table>\n",
       "<thead><tr><th></th><th scope=col>npar</th><th scope=col>AIC</th><th scope=col>BIC</th><th scope=col>logLik</th><th scope=col>deviance</th><th scope=col>Chisq</th><th scope=col>Df</th><th scope=col>Pr(&gt;Chisq)</th></tr></thead>\n",
       "<tbody>\n",
       "\t<tr><th scope=row>additive_GD</th><td>10        </td><td>129002.8  </td><td>129075.8  </td><td>-64491.40 </td><td>128982.8  </td><td>        NA</td><td>NA        </td><td>       NA </td></tr>\n",
       "\t<tr><th scope=row>interaction_GD</th><td>11        </td><td>129004.8  </td><td>129085.1  </td><td>-64491.39 </td><td>128982.8  </td><td>0.02173601</td><td> 1        </td><td>0.8827915 </td></tr>\n",
       "</tbody>\n",
       "</table>\n"
      ],
      "text/latex": [
       "\\begin{tabular}{r|llllllll}\n",
       "  & npar & AIC & BIC & logLik & deviance & Chisq & Df & Pr(>Chisq)\\\\\n",
       "\\hline\n",
       "\tadditive\\_GD & 10         & 129002.8   & 129075.8   & -64491.40  & 128982.8   &         NA & NA         &        NA \\\\\n",
       "\tinteraction\\_GD & 11         & 129004.8   & 129085.1   & -64491.39  & 128982.8   & 0.02173601 &  1         & 0.8827915 \\\\\n",
       "\\end{tabular}\n"
      ],
      "text/markdown": [
       "\n",
       "| <!--/--> | npar | AIC | BIC | logLik | deviance | Chisq | Df | Pr(>Chisq) |\n",
       "|---|---|---|---|---|---|---|---|---|\n",
       "| additive_GD | 10         | 129002.8   | 129075.8   | -64491.40  | 128982.8   |         NA | NA         |        NA  |\n",
       "| interaction_GD | 11         | 129004.8   | 129085.1   | -64491.39  | 128982.8   | 0.02173601 |  1         | 0.8827915  |\n",
       "\n"
      ],
      "text/plain": [
       "               npar AIC      BIC      logLik    deviance Chisq      Df\n",
       "additive_GD    10   129002.8 129075.8 -64491.40 128982.8         NA NA\n",
       "interaction_GD 11   129004.8 129085.1 -64491.39 128982.8 0.02173601  1\n",
       "               Pr(>Chisq)\n",
       "additive_GD           NA \n",
       "interaction_GD 0.8827915 "
      ]
     },
     "metadata": {},
     "output_type": "display_data"
    }
   ],
   "source": [
    "anova(interaction_GD, additive_GD)"
   ]
  },
  {
   "cell_type": "markdown",
   "id": "95fda9ed",
   "metadata": {},
   "source": [
    "When including both concreteness and predictaibility in the model, concreteness is no more a significant predictor. However this is not due to collinearity in the model (vif close to 1). We cannot be sure why this is the case.\n",
    "\n",
    "When comparing the additive and interactive model, we don't have evidence in support of an interactive influence of predictability and concreteness on GD."
   ]
  },
  {
   "cell_type": "markdown",
   "id": "38e97682",
   "metadata": {},
   "source": [
    "# Probability of Fixating a Word\n",
    "\n",
    "## Basic Model"
   ]
  },
  {
   "cell_type": "code",
   "execution_count": 41,
   "id": "eec82676",
   "metadata": {},
   "outputs": [],
   "source": [
    "PrF <- read.csv('C:/Users/fm02/OwnCloud/EOS_EyeTrackingDataCollection/Data_Results/data_forR/norm_gd_41_final.csv')"
   ]
  },
  {
   "cell_type": "markdown",
   "id": "1bb8bcff",
   "metadata": {},
   "source": [
    "Note that we are predicting the column 'fixated', where it is stored whether a word was fixated first pass or not (fixations shorte than 80ms conts as skipped, fixated longer than 600ms not entered the analysis)"
   ]
  },
  {
   "cell_type": "code",
   "execution_count": 44,
   "id": "292261c5",
   "metadata": {},
   "outputs": [
    {
     "data": {
      "text/plain": [
       "Linear mixed model fit by REML. t-tests use Satterthwaite's method [\n",
       "lmerModLmerTest]\n",
       "Formula: fixated ~ LogFreqZipf + (1 | ID) + (1 | Subject)\n",
       "   Data: PrF\n",
       "\n",
       "REML criterion at convergence: 18306.2\n",
       "\n",
       "Scaled residuals: \n",
       "    Min      1Q  Median      3Q     Max \n",
       "-2.4300 -1.0205  0.4070  0.6869  1.9456 \n",
       "\n",
       "Random effects:\n",
       " Groups   Name        Variance Std.Dev.\n",
       " ID       (Intercept) 0.005774 0.07599 \n",
       " Subject  (Intercept) 0.022250 0.14916 \n",
       " Residual             0.182441 0.42713 \n",
       "Number of obs: 15676, groups:  ID, 400; Subject, 40\n",
       "\n",
       "Fixed effects:\n",
       "              Estimate Std. Error         df t value Pr(>|t|)    \n",
       "(Intercept)   0.700377   0.024131  41.006782  29.023  < 2e-16 ***\n",
       "LogFreqZipf  -0.016658   0.005114 396.929952  -3.257  0.00122 ** \n",
       "---\n",
       "Signif. codes:  0 '***' 0.001 '**' 0.01 '*' 0.05 '.' 0.1 ' ' 1\n",
       "\n",
       "Correlation of Fixed Effects:\n",
       "            (Intr)\n",
       "LogFreqZipf 0.000 "
      ]
     },
     "metadata": {},
     "output_type": "display_data"
    }
   ],
   "source": [
    "summary(lmer(fixated ~ LogFreqZipf + (1|ID) + (1|Subject), data = PrF))\n",
    "# LogFreqZipf influences p(fixation)"
   ]
  },
  {
   "cell_type": "code",
   "execution_count": 51,
   "id": "bd504705",
   "metadata": {},
   "outputs": [
    {
     "data": {
      "text/plain": [
       "Linear mixed model fit by REML. t-tests use Satterthwaite's method [\n",
       "lmerModLmerTest]\n",
       "Formula: fixated ~ LEN + (1 | ID) + (1 | Subject)\n",
       "   Data: PrF\n",
       "\n",
       "REML criterion at convergence: 18121.9\n",
       "\n",
       "Scaled residuals: \n",
       "    Min      1Q  Median      3Q     Max \n",
       "-2.4460 -1.0194  0.4047  0.6932  1.9432 \n",
       "\n",
       "Random effects:\n",
       " Groups   Name        Variance Std.Dev.\n",
       " ID       (Intercept) 0.001898 0.04357 \n",
       " Subject  (Intercept) 0.022279 0.14926 \n",
       " Residual             0.182448 0.42714 \n",
       "Number of obs: 15676, groups:  ID, 400; Subject, 40\n",
       "\n",
       "Fixed effects:\n",
       "             Estimate Std. Error        df t value Pr(>|t|)    \n",
       "(Intercept) 7.004e-01  2.395e-02 3.966e+01   29.25   <2e-16 ***\n",
       "LEN         6.425e-02  4.052e-03 3.951e+02   15.85   <2e-16 ***\n",
       "---\n",
       "Signif. codes:  0 '***' 0.001 '**' 0.01 '*' 0.05 '.' 0.1 ' ' 1\n",
       "\n",
       "Correlation of Fixed Effects:\n",
       "    (Intr)\n",
       "LEN 0.000 "
      ]
     },
     "metadata": {},
     "output_type": "display_data"
    }
   ],
   "source": [
    "summary(lmer(fixated ~ LEN + (1|ID) + (1|Subject), data = PrF))\n",
    "# length influences p(Fixation)"
   ]
  },
  {
   "cell_type": "code",
   "execution_count": 46,
   "id": "99f98163",
   "metadata": {},
   "outputs": [
    {
     "data": {
      "text/plain": [
       "Linear mixed model fit by REML. t-tests use Satterthwaite's method [\n",
       "lmerModLmerTest]\n",
       "Formula: fixated ~ PRECEDING_LogFreqZipf + (1 | ID) + (1 | Subject)\n",
       "   Data: PrF\n",
       "\n",
       "REML criterion at convergence: 18315.9\n",
       "\n",
       "Scaled residuals: \n",
       "    Min      1Q  Median      3Q     Max \n",
       "-2.4319 -1.0171  0.4057  0.6852  1.9545 \n",
       "\n",
       "Random effects:\n",
       " Groups   Name        Variance Std.Dev.\n",
       " ID       (Intercept) 0.006033 0.07767 \n",
       " Subject  (Intercept) 0.022250 0.14917 \n",
       " Residual             0.182441 0.42713 \n",
       "Number of obs: 15676, groups:  ID, 400; Subject, 40\n",
       "\n",
       "Fixed effects:\n",
       "                        Estimate Std. Error         df t value Pr(>|t|)    \n",
       "(Intercept)             0.700385   0.024145  41.097232  29.007   <2e-16 ***\n",
       "PRECEDING_LogFreqZipf  -0.004339   0.005179 397.471100  -0.838    0.403    \n",
       "---\n",
       "Signif. codes:  0 '***' 0.001 '**' 0.01 '*' 0.05 '.' 0.1 ' ' 1\n",
       "\n",
       "Correlation of Fixed Effects:\n",
       "            (Intr)\n",
       "PRECEDING_L 0.000 "
      ]
     },
     "metadata": {},
     "output_type": "display_data"
    }
   ],
   "source": [
    "summary(lmer(fixated ~ PRECEDING_LogFreqZipf + (1|ID) + (1|Subject), data = PrF))\n",
    "# predecing word freq does not influence p(Fixation)"
   ]
  },
  {
   "cell_type": "code",
   "execution_count": 47,
   "id": "60beef1d",
   "metadata": {
    "scrolled": false
   },
   "outputs": [
    {
     "data": {
      "text/plain": [
       "Linear mixed model fit by REML. t-tests use Satterthwaite's method [\n",
       "lmerModLmerTest]\n",
       "Formula: fixated ~ Position + (1 | ID) + (1 | Subject)\n",
       "   Data: PrF\n",
       "\n",
       "REML criterion at convergence: 18314.9\n",
       "\n",
       "Scaled residuals: \n",
       "    Min      1Q  Median      3Q     Max \n",
       "-2.4382 -1.0204  0.4057  0.6869  1.9652 \n",
       "\n",
       "Random effects:\n",
       " Groups   Name        Variance Std.Dev.\n",
       " ID       (Intercept) 0.006007 0.07751 \n",
       " Subject  (Intercept) 0.022251 0.14917 \n",
       " Residual             0.182441 0.42713 \n",
       "Number of obs: 15676, groups:  ID, 400; Subject, 40\n",
       "\n",
       "Fixed effects:\n",
       "              Estimate Std. Error         df t value Pr(>|t|)    \n",
       "(Intercept)   0.700379   0.024144  41.087996  29.008   <2e-16 ***\n",
       "Position     -0.006753   0.005172 397.353306  -1.306    0.192    \n",
       "---\n",
       "Signif. codes:  0 '***' 0.001 '**' 0.01 '*' 0.05 '.' 0.1 ' ' 1\n",
       "\n",
       "Correlation of Fixed Effects:\n",
       "         (Intr)\n",
       "Position 0.000 "
      ]
     },
     "metadata": {},
     "output_type": "display_data"
    }
   ],
   "source": [
    "summary(lmer(fixated ~  Position + (1|ID) + (1|Subject), data = PrF))\n",
    "# position does not influence p(Fixation)"
   ]
  },
  {
   "cell_type": "markdown",
   "id": "1fdd9996",
   "metadata": {},
   "source": [
    "This is our <strong> basic model </strong> which will be used for model comparison, i.e., to check the influence of our predictors of interest <strong> concreteness </strong> and <strong> predictability </strong>"
   ]
  },
  {
   "cell_type": "code",
   "execution_count": 54,
   "id": "08a8f50f",
   "metadata": {
    "scrolled": false
   },
   "outputs": [
    {
     "data": {
      "text/plain": [
       "Linear mixed model fit by REML. t-tests use Satterthwaite's method [\n",
       "lmerModLmerTest]\n",
       "Formula: fixated ~ LogFreqZipf + LEN + (1 | ID) + (1 | Subject)\n",
       "   Data: PrF\n",
       "\n",
       "REML criterion at convergence: 18121\n",
       "\n",
       "Scaled residuals: \n",
       "    Min      1Q  Median      3Q     Max \n",
       "-2.4208 -1.0256  0.4039  0.6935  1.9325 \n",
       "\n",
       "Random effects:\n",
       " Groups   Name        Variance Std.Dev.\n",
       " ID       (Intercept) 0.001751 0.04185 \n",
       " Subject  (Intercept) 0.022280 0.14927 \n",
       " Residual             0.182447 0.42714 \n",
       "Number of obs: 15676, groups:  ID, 400; Subject, 40\n",
       "\n",
       "Fixed effects:\n",
       "              Estimate Std. Error         df t value Pr(>|t|)    \n",
       "(Intercept)   0.700437   0.023938  39.607180  29.260  < 2e-16 ***\n",
       "LogFreqZipf  -0.012791   0.004016 394.809664  -3.185  0.00156 ** \n",
       "LEN           0.063472   0.004014 394.106917  15.813  < 2e-16 ***\n",
       "---\n",
       "Signif. codes:  0 '***' 0.001 '**' 0.01 '*' 0.05 '.' 0.1 ' ' 1"
      ]
     },
     "metadata": {},
     "output_type": "display_data"
    }
   ],
   "source": [
    "lmeBasicPrF = lmer(fixated ~ LogFreqZipf + LEN + (1|ID) + (1|Subject), data = PrF)\n",
    "summary(lmeBasicPrF, corr=F)"
   ]
  },
  {
   "cell_type": "markdown",
   "id": "31278e69",
   "metadata": {},
   "source": [
    "## Predictability and Concreteness\n",
    "\n",
    "Let's test predictability influence on PrF."
   ]
  },
  {
   "cell_type": "code",
   "execution_count": 55,
   "id": "7ede22f4",
   "metadata": {
    "scrolled": false
   },
   "outputs": [
    {
     "name": "stderr",
     "output_type": "stream",
     "text": [
      "refitting model(s) with ML (instead of REML)\n"
     ]
    },
    {
     "data": {
      "text/html": [
       "<table>\n",
       "<thead><tr><th></th><th scope=col>npar</th><th scope=col>AIC</th><th scope=col>BIC</th><th scope=col>logLik</th><th scope=col>deviance</th><th scope=col>Chisq</th><th scope=col>Df</th><th scope=col>Pr(&gt;Chisq)</th></tr></thead>\n",
       "<tbody>\n",
       "\t<tr><th scope=row>lmeBasicPrF</th><td>6           </td><td>18109.00    </td><td>18154.96    </td><td>-9048.499   </td><td>18097.00    </td><td>      NA    </td><td>NA          </td><td>          NA</td></tr>\n",
       "\t<tr><th scope=row>lmePredPrF</th><td>7           </td><td>18097.06    </td><td>18150.68    </td><td>-9041.530   </td><td>18083.06    </td><td>13.93922    </td><td> 1          </td><td>0.0001888175</td></tr>\n",
       "</tbody>\n",
       "</table>\n"
      ],
      "text/latex": [
       "\\begin{tabular}{r|llllllll}\n",
       "  & npar & AIC & BIC & logLik & deviance & Chisq & Df & Pr(>Chisq)\\\\\n",
       "\\hline\n",
       "\tlmeBasicPrF & 6            & 18109.00     & 18154.96     & -9048.499    & 18097.00     &       NA     & NA           &           NA\\\\\n",
       "\tlmePredPrF & 7            & 18097.06     & 18150.68     & -9041.530    & 18083.06     & 13.93922     &  1           & 0.0001888175\\\\\n",
       "\\end{tabular}\n"
      ],
      "text/markdown": [
       "\n",
       "| <!--/--> | npar | AIC | BIC | logLik | deviance | Chisq | Df | Pr(>Chisq) |\n",
       "|---|---|---|---|---|---|---|---|---|\n",
       "| lmeBasicPrF | 6            | 18109.00     | 18154.96     | -9048.499    | 18097.00     |       NA     | NA           |           NA |\n",
       "| lmePredPrF | 7            | 18097.06     | 18150.68     | -9041.530    | 18083.06     | 13.93922     |  1           | 0.0001888175 |\n",
       "\n"
      ],
      "text/plain": [
       "            npar AIC      BIC      logLik    deviance Chisq    Df Pr(>Chisq)  \n",
       "lmeBasicPrF 6    18109.00 18154.96 -9048.499 18097.00       NA NA           NA\n",
       "lmePredPrF  7    18097.06 18150.68 -9041.530 18083.06 13.93922  1 0.0001888175"
      ]
     },
     "metadata": {},
     "output_type": "display_data"
    }
   ],
   "source": [
    "lmePredPrF = lmer(fixated ~ LogFreqZipf + LEN + Sim +\n",
    "                       (1|ID) + (1|Subject), data = PrF)\n",
    "\n",
    "anova(lmeBasicPrF, lmePredPrF )\n"
   ]
  },
  {
   "cell_type": "markdown",
   "id": "ec5bbb23",
   "metadata": {},
   "source": [
    "Predictability has a significant influence on PrF."
   ]
  },
  {
   "cell_type": "markdown",
   "id": "0ae5cde2",
   "metadata": {},
   "source": [
    "Now, let's test concreteness influence on PrF."
   ]
  },
  {
   "cell_type": "code",
   "execution_count": 56,
   "id": "738282e2",
   "metadata": {
    "scrolled": true
   },
   "outputs": [
    {
     "name": "stderr",
     "output_type": "stream",
     "text": [
      "refitting model(s) with ML (instead of REML)\n"
     ]
    },
    {
     "data": {
      "text/html": [
       "<table>\n",
       "<thead><tr><th></th><th scope=col>npar</th><th scope=col>AIC</th><th scope=col>BIC</th><th scope=col>logLik</th><th scope=col>deviance</th><th scope=col>Chisq</th><th scope=col>Df</th><th scope=col>Pr(&gt;Chisq)</th></tr></thead>\n",
       "<tbody>\n",
       "\t<tr><th scope=row>lmeBasicPrF</th><td>6        </td><td>18109.00 </td><td>18154.96 </td><td>-9048.499</td><td>18097.00 </td><td>      NA </td><td>NA       </td><td>       NA</td></tr>\n",
       "\t<tr><th scope=row>lmeConcPrF</th><td>7        </td><td>18109.41 </td><td>18163.03 </td><td>-9047.703</td><td>18095.41 </td><td>1.592092 </td><td> 1       </td><td>0.2070276</td></tr>\n",
       "</tbody>\n",
       "</table>\n"
      ],
      "text/latex": [
       "\\begin{tabular}{r|llllllll}\n",
       "  & npar & AIC & BIC & logLik & deviance & Chisq & Df & Pr(>Chisq)\\\\\n",
       "\\hline\n",
       "\tlmeBasicPrF & 6         & 18109.00  & 18154.96  & -9048.499 & 18097.00  &       NA  & NA        &        NA\\\\\n",
       "\tlmeConcPrF & 7         & 18109.41  & 18163.03  & -9047.703 & 18095.41  & 1.592092  &  1        & 0.2070276\\\\\n",
       "\\end{tabular}\n"
      ],
      "text/markdown": [
       "\n",
       "| <!--/--> | npar | AIC | BIC | logLik | deviance | Chisq | Df | Pr(>Chisq) |\n",
       "|---|---|---|---|---|---|---|---|---|\n",
       "| lmeBasicPrF | 6         | 18109.00  | 18154.96  | -9048.499 | 18097.00  |       NA  | NA        |        NA |\n",
       "| lmeConcPrF | 7         | 18109.41  | 18163.03  | -9047.703 | 18095.41  | 1.592092  |  1        | 0.2070276 |\n",
       "\n"
      ],
      "text/plain": [
       "            npar AIC      BIC      logLik    deviance Chisq    Df Pr(>Chisq)\n",
       "lmeBasicPrF 6    18109.00 18154.96 -9048.499 18097.00       NA NA        NA \n",
       "lmeConcPrF  7    18109.41 18163.03 -9047.703 18095.41 1.592092  1 0.2070276 "
      ]
     },
     "metadata": {},
     "output_type": "display_data"
    }
   ],
   "source": [
    "lmeConcPrF = lmer(fixated ~ LogFreqZipf + LEN + ConcM + (1|ID) + (1|Subject), data = PrF)\n",
    "anova(lmeBasicPrF, lmeConcPrF)"
   ]
  },
  {
   "cell_type": "markdown",
   "id": "5bbfc448",
   "metadata": {},
   "source": [
    "Concretness has no significant influence on PrF.\n",
    "\n",
    "Let's check whether they have a joint influence on PrF."
   ]
  },
  {
   "cell_type": "code",
   "execution_count": 57,
   "id": "0b70cae6",
   "metadata": {},
   "outputs": [],
   "source": [
    "additive_PrF = lmer(fixated ~ LogFreqZipf + LEN + Sim + ConcM + (1|ID) + (1|Subject), data = PrF)\n",
    "interactive_PrF = lmer(fixated ~ LogFreqZipf + LEN + Sim * ConcM + (1|ID) + (1|Subject), data = PrF)"
   ]
  },
  {
   "cell_type": "code",
   "execution_count": 58,
   "id": "cf38c366",
   "metadata": {},
   "outputs": [
    {
     "data": {
      "text/plain": [
       "Linear mixed model fit by REML. t-tests use Satterthwaite's method [\n",
       "lmerModLmerTest]\n",
       "Formula: fixated ~ LogFreqZipf + LEN + Sim + ConcM + (1 | ID) + (1 | Subject)\n",
       "   Data: PrF\n",
       "\n",
       "REML criterion at convergence: 18125.1\n",
       "\n",
       "Scaled residuals: \n",
       "    Min      1Q  Median      3Q     Max \n",
       "-2.4276 -1.0283  0.4035  0.6939  1.9677 \n",
       "\n",
       "Random effects:\n",
       " Groups   Name        Variance Std.Dev.\n",
       " ID       (Intercept) 0.001556 0.03945 \n",
       " Subject  (Intercept) 0.022285 0.14928 \n",
       " Residual             0.182447 0.42714 \n",
       "Number of obs: 15676, groups:  ID, 400; Subject, 40\n",
       "\n",
       "Fixed effects:\n",
       "              Estimate Std. Error         df t value Pr(>|t|)    \n",
       "(Intercept)   0.700436   0.023930  39.540669  29.270  < 2e-16 ***\n",
       "LogFreqZipf  -0.009945   0.004025 393.027499  -2.471 0.013905 *  \n",
       "LEN           0.063020   0.004069 392.506488  15.488  < 2e-16 ***\n",
       "Sim          -0.014612   0.004076 392.904424  -3.585 0.000379 ***\n",
       "ConcM        -0.002697   0.004124 393.267383  -0.654 0.513520    \n",
       "---\n",
       "Signif. codes:  0 '***' 0.001 '**' 0.01 '*' 0.05 '.' 0.1 ' ' 1"
      ]
     },
     "metadata": {},
     "output_type": "display_data"
    }
   ],
   "source": [
    "summary(additive_PrF, corr=F)"
   ]
  },
  {
   "cell_type": "code",
   "execution_count": 59,
   "id": "6f3e4afc",
   "metadata": {
    "scrolled": false
   },
   "outputs": [
    {
     "data": {
      "text/plain": [
       "Linear mixed model fit by REML. t-tests use Satterthwaite's method [\n",
       "lmerModLmerTest]\n",
       "Formula: fixated ~ LogFreqZipf + LEN + Sim * ConcM + (1 | ID) + (1 | Subject)\n",
       "   Data: PrF\n",
       "\n",
       "REML criterion at convergence: 18134.2\n",
       "\n",
       "Scaled residuals: \n",
       "    Min      1Q  Median      3Q     Max \n",
       "-2.4271 -1.0279  0.4026  0.6940  1.9707 \n",
       "\n",
       "Random effects:\n",
       " Groups   Name        Variance Std.Dev.\n",
       " ID       (Intercept) 0.001572 0.03964 \n",
       " Subject  (Intercept) 0.022285 0.14928 \n",
       " Residual             0.182447 0.42714 \n",
       "Number of obs: 15676, groups:  ID, 400; Subject, 40\n",
       "\n",
       "Fixed effects:\n",
       "              Estimate Std. Error         df t value Pr(>|t|)    \n",
       "(Intercept)  7.006e-01  2.394e-02  3.961e+01  29.263  < 2e-16 ***\n",
       "LogFreqZipf -9.987e-03  4.034e-03  3.922e+02  -2.475 0.013736 *  \n",
       "LEN          6.299e-02  4.076e-03  3.915e+02  15.453  < 2e-16 ***\n",
       "Sim         -1.445e-02  4.150e-03  3.919e+02  -3.482 0.000553 ***\n",
       "ConcM       -2.667e-03  4.131e-03  3.923e+02  -0.646 0.518915    \n",
       "Sim:ConcM   -8.733e-04  4.043e-03  3.929e+02  -0.216 0.829089    \n",
       "---\n",
       "Signif. codes:  0 '***' 0.001 '**' 0.01 '*' 0.05 '.' 0.1 ' ' 1"
      ]
     },
     "metadata": {},
     "output_type": "display_data"
    }
   ],
   "source": [
    "summary(interactive_PrF, corr=F)"
   ]
  },
  {
   "cell_type": "markdown",
   "id": "3e08a4a7",
   "metadata": {},
   "source": [
    "When including both concreteness and predictaibility in the model, concreteness is still not a significant predictor not in the additive nore interactive model."
   ]
  },
  {
   "cell_type": "markdown",
   "id": "949c7124",
   "metadata": {},
   "source": [
    "# Exploratory Analyses on FFD\n",
    "## Context Effects"
   ]
  },
  {
   "cell_type": "markdown",
   "id": "b90645eb",
   "metadata": {},
   "source": [
    "Let's check if other context level characteristics influence FFD beyond predictability."
   ]
  },
  {
   "cell_type": "markdown",
   "id": "bd952b84",
   "metadata": {},
   "source": [
    "#### Plausibility"
   ]
  },
  {
   "cell_type": "code",
   "execution_count": 62,
   "id": "f0a24e97",
   "metadata": {},
   "outputs": [
    {
     "data": {
      "text/plain": [
       "Linear mixed model fit by REML. t-tests use Satterthwaite's method [\n",
       "lmerModLmerTest]\n",
       "Formula: ms ~ LogFreqZipf + PRECEDING_LogFreqZipf + Position + plausibility +  \n",
       "    Sim * ConcM + (1 | ID) + (1 | Subject)\n",
       "   Data: FFD\n",
       "\n",
       "REML criterion at convergence: 123065.4\n",
       "\n",
       "Scaled residuals: \n",
       "    Min      1Q  Median      3Q     Max \n",
       "-2.7393 -0.6512 -0.1527  0.4705  5.4687 \n",
       "\n",
       "Random effects:\n",
       " Groups   Name        Variance Std.Dev.\n",
       " ID       (Intercept)  138.0   11.75   \n",
       " Subject  (Intercept)  589.2   24.27   \n",
       " Residual             4231.6   65.05   \n",
       "Number of obs: 10966, groups:  ID, 400; Subject, 40\n",
       "\n",
       "Fixed effects:\n",
       "                      Estimate Std. Error       df t value Pr(>|t|)    \n",
       "(Intercept)           220.6475     3.9384  40.8780  56.025  < 2e-16 ***\n",
       "LogFreqZipf            -1.7846     0.8751 384.4751  -2.039 0.042109 *  \n",
       "PRECEDING_LogFreqZipf  -2.0868     0.8763 392.7678  -2.381 0.017720 *  \n",
       "Position                2.0785     0.8691 398.7497   2.391 0.017247 *  \n",
       "plausibility           -2.3917     1.0861 394.4734  -2.202 0.028240 *  \n",
       "Sim                    -4.0352     1.1018 395.9419  -3.662 0.000284 ***\n",
       "ConcM                  -2.5519     0.9078 390.7009  -2.811 0.005187 ** \n",
       "Sim:ConcM              -0.1842     0.9005 398.0704  -0.205 0.838038    \n",
       "---\n",
       "Signif. codes:  0 '***' 0.001 '**' 0.01 '*' 0.05 '.' 0.1 ' ' 1"
      ]
     },
     "metadata": {},
     "output_type": "display_data"
    }
   ],
   "source": [
    "interaction_FFD_withplausibility = lmer(ms ~ LogFreqZipf + PRECEDING_LogFreqZipf + Position + plausibility +\n",
    "                                                Sim*ConcM + (1|ID) + (1|Subject), data = FFD)\n",
    "summary(interaction_FFD_withplausibility, corr=F) "
   ]
  },
  {
   "cell_type": "markdown",
   "id": "9d2f3c17",
   "metadata": {},
   "source": [
    "#### Semantic Similarity with context of the sentence"
   ]
  },
  {
   "cell_type": "code",
   "execution_count": 64,
   "id": "26055e6e",
   "metadata": {},
   "outputs": [
    {
     "data": {
      "text/plain": [
       "Linear mixed model fit by REML. t-tests use Satterthwaite's method [\n",
       "lmerModLmerTest]\n",
       "Formula: ms ~ LogFreqZipf + PRECEDING_LogFreqZipf + Position + similarity +  \n",
       "    Sim * ConcM + (1 | ID) + (1 | Subject)\n",
       "   Data: FFD\n",
       "\n",
       "REML criterion at convergence: 123070.2\n",
       "\n",
       "Scaled residuals: \n",
       "    Min      1Q  Median      3Q     Max \n",
       "-2.7203 -0.6525 -0.1517  0.4674  5.4555 \n",
       "\n",
       "Random effects:\n",
       " Groups   Name        Variance Std.Dev.\n",
       " ID       (Intercept)  141.4   11.89   \n",
       " Subject  (Intercept)  588.9   24.27   \n",
       " Residual             4231.7   65.05   \n",
       "Number of obs: 10966, groups:  ID, 400; Subject, 40\n",
       "\n",
       "Fixed effects:\n",
       "                      Estimate Std. Error       df t value Pr(>|t|)    \n",
       "(Intercept)           220.6833     3.9385  40.9289  56.032  < 2e-16 ***\n",
       "LogFreqZipf            -1.8656     0.8883 385.4112  -2.100   0.0364 *  \n",
       "PRECEDING_LogFreqZipf  -2.1264     0.8830 392.6439  -2.408   0.0165 *  \n",
       "Position                2.1059     0.8768 398.1550   2.402   0.0168 *  \n",
       "similarity              0.1118     1.0671 398.7323   0.105   0.9166    \n",
       "Sim                    -5.4831     1.0684 394.7341  -5.132 4.51e-07 ***\n",
       "ConcM                  -2.0398     0.8847 390.6589  -2.306   0.0217 *  \n",
       "Sim:ConcM              -0.4243     0.9096 397.1113  -0.466   0.6411    \n",
       "---\n",
       "Signif. codes:  0 '***' 0.001 '**' 0.01 '*' 0.05 '.' 0.1 ' ' 1"
      ]
     },
     "metadata": {},
     "output_type": "display_data"
    }
   ],
   "source": [
    "interaction_FFD_withsimilarity = lmer(ms ~ LogFreqZipf + PRECEDING_LogFreqZipf + Position + similarity +\n",
    "                                                Sim*ConcM + (1|ID) + (1|Subject), data = FFD)\n",
    "summary(interaction_FFD_withsimilarity, corr=F) "
   ]
  },
  {
   "cell_type": "code",
   "execution_count": 66,
   "id": "574ff61c",
   "metadata": {},
   "outputs": [
    {
     "data": {
      "text/html": [
       "<table>\n",
       "<thead><tr><th scope=col>Term</th><th scope=col>VIF</th><th scope=col>SE_factor</th></tr></thead>\n",
       "<tbody>\n",
       "\t<tr><td>LogFreqZipf          </td><td>1.066754             </td><td>1.032838             </td></tr>\n",
       "\t<tr><td>PRECEDING_LogFreqZipf</td><td>1.044632             </td><td>1.022072             </td></tr>\n",
       "\t<tr><td>Position             </td><td>1.021987             </td><td>1.010934             </td></tr>\n",
       "\t<tr><td>similarity           </td><td>1.501135             </td><td>1.225208             </td></tr>\n",
       "\t<tr><td>Sim                  </td><td>1.514119             </td><td>1.230496             </td></tr>\n",
       "\t<tr><td>ConcM                </td><td>1.046329             </td><td>1.022902             </td></tr>\n",
       "\t<tr><td>Sim:ConcM            </td><td>1.086175             </td><td>1.042197             </td></tr>\n",
       "</tbody>\n",
       "</table>\n"
      ],
      "text/latex": [
       "\\begin{tabular}{r|lll}\n",
       " Term & VIF & SE\\_factor\\\\\n",
       "\\hline\n",
       "\t LogFreqZipf           & 1.066754              & 1.032838             \\\\\n",
       "\t PRECEDING\\_LogFreqZipf & 1.044632                & 1.022072               \\\\\n",
       "\t Position              & 1.021987              & 1.010934             \\\\\n",
       "\t similarity            & 1.501135              & 1.225208             \\\\\n",
       "\t Sim                   & 1.514119              & 1.230496             \\\\\n",
       "\t ConcM                 & 1.046329              & 1.022902             \\\\\n",
       "\t Sim:ConcM             & 1.086175              & 1.042197             \\\\\n",
       "\\end{tabular}\n"
      ],
      "text/markdown": [
       "\n",
       "| Term | VIF | SE_factor |\n",
       "|---|---|---|\n",
       "| LogFreqZipf           | 1.066754              | 1.032838              |\n",
       "| PRECEDING_LogFreqZipf | 1.044632              | 1.022072              |\n",
       "| Position              | 1.021987              | 1.010934              |\n",
       "| similarity            | 1.501135              | 1.225208              |\n",
       "| Sim                   | 1.514119              | 1.230496              |\n",
       "| ConcM                 | 1.046329              | 1.022902              |\n",
       "| Sim:ConcM             | 1.086175              | 1.042197              |\n",
       "\n"
      ],
      "text/plain": [
       "  Term                  VIF      SE_factor\n",
       "1 LogFreqZipf           1.066754 1.032838 \n",
       "2 PRECEDING_LogFreqZipf 1.044632 1.022072 \n",
       "3 Position              1.021987 1.010934 \n",
       "4 similarity            1.501135 1.225208 \n",
       "5 Sim                   1.514119 1.230496 \n",
       "6 ConcM                 1.046329 1.022902 \n",
       "7 Sim:ConcM             1.086175 1.042197 "
      ]
     },
     "metadata": {},
     "output_type": "display_data"
    }
   ],
   "source": [
    "check_collinearity(interaction_FFD_withsimilarity)"
   ]
  },
  {
   "cell_type": "markdown",
   "id": "4e5225f0",
   "metadata": {},
   "source": [
    "## Single-Word (semantic) effects\n",
    "### Alternatives to Concreteness\n",
    "\n",
    "#### Sensorimotor Strength"
   ]
  },
  {
   "cell_type": "code",
   "execution_count": 68,
   "id": "aa2db319",
   "metadata": {
    "scrolled": true
   },
   "outputs": [
    {
     "name": "stderr",
     "output_type": "stream",
     "text": [
      "refitting model(s) with ML (instead of REML)\n"
     ]
    },
    {
     "data": {
      "text/html": [
       "<table>\n",
       "<thead><tr><th></th><th scope=col>npar</th><th scope=col>AIC</th><th scope=col>BIC</th><th scope=col>logLik</th><th scope=col>deviance</th><th scope=col>Chisq</th><th scope=col>Df</th><th scope=col>Pr(&gt;Chisq)</th></tr></thead>\n",
       "<tbody>\n",
       "\t<tr><th scope=row>lmeBasicFFD</th><td>7         </td><td>123147.1  </td><td>123198.3  </td><td>-61566.57 </td><td>123133.1  </td><td>      NA  </td><td>NA        </td><td>        NA</td></tr>\n",
       "\t<tr><th scope=row>lmeSMFFD</th><td>8         </td><td>123145.9  </td><td>123204.3  </td><td>-61564.93 </td><td>123129.9  </td><td>3.270434  </td><td> 1        </td><td>0.07053898</td></tr>\n",
       "</tbody>\n",
       "</table>\n"
      ],
      "text/latex": [
       "\\begin{tabular}{r|llllllll}\n",
       "  & npar & AIC & BIC & logLik & deviance & Chisq & Df & Pr(>Chisq)\\\\\n",
       "\\hline\n",
       "\tlmeBasicFFD & 7          & 123147.1   & 123198.3   & -61566.57  & 123133.1   &       NA   & NA         &         NA\\\\\n",
       "\tlmeSMFFD & 8          & 123145.9   & 123204.3   & -61564.93  & 123129.9   & 3.270434   &  1         & 0.07053898\\\\\n",
       "\\end{tabular}\n"
      ],
      "text/markdown": [
       "\n",
       "| <!--/--> | npar | AIC | BIC | logLik | deviance | Chisq | Df | Pr(>Chisq) |\n",
       "|---|---|---|---|---|---|---|---|---|\n",
       "| lmeBasicFFD | 7          | 123147.1   | 123198.3   | -61566.57  | 123133.1   |       NA   | NA         |         NA |\n",
       "| lmeSMFFD | 8          | 123145.9   | 123204.3   | -61564.93  | 123129.9   | 3.270434   |  1         | 0.07053898 |\n",
       "\n"
      ],
      "text/plain": [
       "            npar AIC      BIC      logLik    deviance Chisq    Df Pr(>Chisq)\n",
       "lmeBasicFFD 7    123147.1 123198.3 -61566.57 123133.1       NA NA         NA\n",
       "lmeSMFFD    8    123145.9 123204.3 -61564.93 123129.9 3.270434  1 0.07053898"
      ]
     },
     "metadata": {},
     "output_type": "display_data"
    }
   ],
   "source": [
    "lmeSMFFD = lmer(ms ~ LogFreqZipf + PRECEDING_LogFreqZipf + Position + mink3_SM + (1|ID) + (1|Subject), data = FFD)\n",
    "anova(lmeBasicFFD, lmeSMFFD)"
   ]
  },
  {
   "cell_type": "markdown",
   "id": "68520075",
   "metadata": {},
   "source": [
    "Marginal influence of sensorimotr strength on FFD."
   ]
  },
  {
   "cell_type": "code",
   "execution_count": 80,
   "id": "3b366087",
   "metadata": {},
   "outputs": [
    {
     "data": {
      "text/plain": [
       "Linear mixed model fit by REML. t-tests use Satterthwaite's method [\n",
       "lmerModLmerTest]\n",
       "Formula: ms ~ LogFreqZipf + PRECEDING_LogFreqZipf + Position + mink3_SM *  \n",
       "    Sim + (1 | ID) + (1 | Subject)\n",
       "   Data: FFD\n",
       "\n",
       "REML criterion at convergence: 123076.5\n",
       "\n",
       "Scaled residuals: \n",
       "    Min      1Q  Median      3Q     Max \n",
       "-2.7188 -0.6502 -0.1528  0.4689  5.4624 \n",
       "\n",
       "Random effects:\n",
       " Groups   Name        Variance Std.Dev.\n",
       " ID       (Intercept)  143.9   12.00   \n",
       " Subject  (Intercept)  589.7   24.28   \n",
       " Residual             4231.7   65.05   \n",
       "Number of obs: 10966, groups:  ID, 400; Subject, 40\n",
       "\n",
       "Fixed effects:\n",
       "                      Estimate Std. Error       df t value Pr(>|t|)    \n",
       "(Intercept)           220.7036     3.9422  40.9745  55.984  < 2e-16 ***\n",
       "LogFreqZipf            -1.7815     0.8871 385.5637  -2.008  0.04532 *  \n",
       "PRECEDING_LogFreqZipf  -2.3707     0.8747 393.4544  -2.710  0.00702 ** \n",
       "Position                2.0951     0.8787 399.5344   2.384  0.01758 *  \n",
       "mink3_SM               -0.9299     0.9008 395.4211  -1.032  0.30258    \n",
       "Sim                    -5.6343     0.9100 396.8408  -6.191 1.49e-09 ***\n",
       "mink3_SM:Sim           -0.4434     0.9776 408.4012  -0.454  0.65038    \n",
       "---\n",
       "Signif. codes:  0 '***' 0.001 '**' 0.01 '*' 0.05 '.' 0.1 ' ' 1"
      ]
     },
     "metadata": {},
     "output_type": "display_data"
    }
   ],
   "source": [
    "summary(lmer(ms ~ LogFreqZipf + PRECEDING_LogFreqZipf + Position + mink3_SM*Sim + (1|ID) + (1|Subject), data = FFD), corr=F)"
   ]
  },
  {
   "cell_type": "markdown",
   "id": "4ec59a21",
   "metadata": {},
   "source": [
    "#### Semantic Diversity \n",
    "\n",
    "We need are uploading a subset of the data, as we did not have semantic Diversity scores for 4 of the 400 stimuli."
   ]
  },
  {
   "cell_type": "code",
   "execution_count": 75,
   "id": "485e9677",
   "metadata": {},
   "outputs": [],
   "source": [
    "FFD2 <- read.csv('C:/Users/fm02/OwnCloud/EOS_EyeTrackingDataCollection/Data_Results/data_forR/norm_ffd_41_withSemDAoA.csv')"
   ]
  },
  {
   "cell_type": "code",
   "execution_count": 76,
   "id": "0d63b1e3",
   "metadata": {},
   "outputs": [],
   "source": [
    "FFD2 <- FFD2[FFD2$ms != 0, ]"
   ]
  },
  {
   "cell_type": "code",
   "execution_count": 77,
   "id": "d121435b",
   "metadata": {},
   "outputs": [
    {
     "data": {
      "text/html": [
       "<ol class=list-inline>\n",
       "\t<li>'ms'</li>\n",
       "\t<li>'trialnr'</li>\n",
       "\t<li>'time_before_ff'</li>\n",
       "\t<li>'regressed'</li>\n",
       "\t<li>'n_tot_fix'</li>\n",
       "\t<li>'n_prior_fix'</li>\n",
       "\t<li>'Word'</li>\n",
       "\t<li>'ID'</li>\n",
       "\t<li>'ConcM'</li>\n",
       "\t<li>'LEN'</li>\n",
       "\t<li>'UN2_F'</li>\n",
       "\t<li>'UN3_F'</li>\n",
       "\t<li>'Orth'</li>\n",
       "\t<li>'OLD20'</li>\n",
       "\t<li>'FreqCount'</li>\n",
       "\t<li>'LogFreqZipf'</li>\n",
       "\t<li>'V_MeanSum'</li>\n",
       "\t<li>'A_MeanSum'</li>\n",
       "\t<li>'mink3_SM'</li>\n",
       "\t<li>'BLP_rt'</li>\n",
       "\t<li>'BLP_accuracy'</li>\n",
       "\t<li>'similarity'</li>\n",
       "\t<li>'Position'</li>\n",
       "\t<li>'PRECEDING_Frequency'</li>\n",
       "\t<li>'PRECEDING_LogFreqZipf'</li>\n",
       "\t<li>'LENprec'</li>\n",
       "\t<li>'Predictability'</li>\n",
       "\t<li>'cloze'</li>\n",
       "\t<li>'plausibility'</li>\n",
       "\t<li>'Sim'</li>\n",
       "\t<li>'SemD'</li>\n",
       "\t<li>'AoA'</li>\n",
       "\t<li>'Subject'</li>\n",
       "\t<li>'Gender'</li>\n",
       "\t<li>'Age'</li>\n",
       "</ol>\n"
      ],
      "text/latex": [
       "\\begin{enumerate*}\n",
       "\\item 'ms'\n",
       "\\item 'trialnr'\n",
       "\\item 'time\\_before\\_ff'\n",
       "\\item 'regressed'\n",
       "\\item 'n\\_tot\\_fix'\n",
       "\\item 'n\\_prior\\_fix'\n",
       "\\item 'Word'\n",
       "\\item 'ID'\n",
       "\\item 'ConcM'\n",
       "\\item 'LEN'\n",
       "\\item 'UN2\\_F'\n",
       "\\item 'UN3\\_F'\n",
       "\\item 'Orth'\n",
       "\\item 'OLD20'\n",
       "\\item 'FreqCount'\n",
       "\\item 'LogFreqZipf'\n",
       "\\item 'V\\_MeanSum'\n",
       "\\item 'A\\_MeanSum'\n",
       "\\item 'mink3\\_SM'\n",
       "\\item 'BLP\\_rt'\n",
       "\\item 'BLP\\_accuracy'\n",
       "\\item 'similarity'\n",
       "\\item 'Position'\n",
       "\\item 'PRECEDING\\_Frequency'\n",
       "\\item 'PRECEDING\\_LogFreqZipf'\n",
       "\\item 'LENprec'\n",
       "\\item 'Predictability'\n",
       "\\item 'cloze'\n",
       "\\item 'plausibility'\n",
       "\\item 'Sim'\n",
       "\\item 'SemD'\n",
       "\\item 'AoA'\n",
       "\\item 'Subject'\n",
       "\\item 'Gender'\n",
       "\\item 'Age'\n",
       "\\end{enumerate*}\n"
      ],
      "text/markdown": [
       "1. 'ms'\n",
       "2. 'trialnr'\n",
       "3. 'time_before_ff'\n",
       "4. 'regressed'\n",
       "5. 'n_tot_fix'\n",
       "6. 'n_prior_fix'\n",
       "7. 'Word'\n",
       "8. 'ID'\n",
       "9. 'ConcM'\n",
       "10. 'LEN'\n",
       "11. 'UN2_F'\n",
       "12. 'UN3_F'\n",
       "13. 'Orth'\n",
       "14. 'OLD20'\n",
       "15. 'FreqCount'\n",
       "16. 'LogFreqZipf'\n",
       "17. 'V_MeanSum'\n",
       "18. 'A_MeanSum'\n",
       "19. 'mink3_SM'\n",
       "20. 'BLP_rt'\n",
       "21. 'BLP_accuracy'\n",
       "22. 'similarity'\n",
       "23. 'Position'\n",
       "24. 'PRECEDING_Frequency'\n",
       "25. 'PRECEDING_LogFreqZipf'\n",
       "26. 'LENprec'\n",
       "27. 'Predictability'\n",
       "28. 'cloze'\n",
       "29. 'plausibility'\n",
       "30. 'Sim'\n",
       "31. 'SemD'\n",
       "32. 'AoA'\n",
       "33. 'Subject'\n",
       "34. 'Gender'\n",
       "35. 'Age'\n",
       "\n",
       "\n"
      ],
      "text/plain": [
       " [1] \"ms\"                    \"trialnr\"               \"time_before_ff\"       \n",
       " [4] \"regressed\"             \"n_tot_fix\"             \"n_prior_fix\"          \n",
       " [7] \"Word\"                  \"ID\"                    \"ConcM\"                \n",
       "[10] \"LEN\"                   \"UN2_F\"                 \"UN3_F\"                \n",
       "[13] \"Orth\"                  \"OLD20\"                 \"FreqCount\"            \n",
       "[16] \"LogFreqZipf\"           \"V_MeanSum\"             \"A_MeanSum\"            \n",
       "[19] \"mink3_SM\"              \"BLP_rt\"                \"BLP_accuracy\"         \n",
       "[22] \"similarity\"            \"Position\"              \"PRECEDING_Frequency\"  \n",
       "[25] \"PRECEDING_LogFreqZipf\" \"LENprec\"               \"Predictability\"       \n",
       "[28] \"cloze\"                 \"plausibility\"          \"Sim\"                  \n",
       "[31] \"SemD\"                  \"AoA\"                   \"Subject\"              \n",
       "[34] \"Gender\"                \"Age\"                  "
      ]
     },
     "metadata": {},
     "output_type": "display_data"
    }
   ],
   "source": [
    "colnames(FFD2)"
   ]
  },
  {
   "cell_type": "code",
   "execution_count": 88,
   "id": "9eae6b6a",
   "metadata": {},
   "outputs": [],
   "source": [
    "lmeBasicFFD2 = lmer(ms ~ LogFreqZipf + PRECEDING_LogFreqZipf + Position + (1|ID) + (1|Subject), data = FFD2)"
   ]
  },
  {
   "cell_type": "code",
   "execution_count": 89,
   "id": "3dbd66ff",
   "metadata": {
    "scrolled": false
   },
   "outputs": [
    {
     "name": "stderr",
     "output_type": "stream",
     "text": [
      "refitting model(s) with ML (instead of REML)\n"
     ]
    },
    {
     "data": {
      "text/html": [
       "<table>\n",
       "<thead><tr><th></th><th scope=col>npar</th><th scope=col>AIC</th><th scope=col>BIC</th><th scope=col>logLik</th><th scope=col>deviance</th><th scope=col>Chisq</th><th scope=col>Df</th><th scope=col>Pr(&gt;Chisq)</th></tr></thead>\n",
       "<tbody>\n",
       "\t<tr><th scope=row>lmeBasicFFD2</th><td>7         </td><td>122201.1  </td><td>122252.2  </td><td>-61093.56 </td><td>122187.1  </td><td>      NA  </td><td>NA        </td><td>        NA</td></tr>\n",
       "\t<tr><th scope=row>lmeSemDFFD</th><td>8         </td><td>122199.7  </td><td>122258.1  </td><td>-61091.85 </td><td>122183.7  </td><td>3.425694  </td><td> 1        </td><td>0.06418925</td></tr>\n",
       "</tbody>\n",
       "</table>\n"
      ],
      "text/latex": [
       "\\begin{tabular}{r|llllllll}\n",
       "  & npar & AIC & BIC & logLik & deviance & Chisq & Df & Pr(>Chisq)\\\\\n",
       "\\hline\n",
       "\tlmeBasicFFD2 & 7          & 122201.1   & 122252.2   & -61093.56  & 122187.1   &       NA   & NA         &         NA\\\\\n",
       "\tlmeSemDFFD & 8          & 122199.7   & 122258.1   & -61091.85  & 122183.7   & 3.425694   &  1         & 0.06418925\\\\\n",
       "\\end{tabular}\n"
      ],
      "text/markdown": [
       "\n",
       "| <!--/--> | npar | AIC | BIC | logLik | deviance | Chisq | Df | Pr(>Chisq) |\n",
       "|---|---|---|---|---|---|---|---|---|\n",
       "| lmeBasicFFD2 | 7          | 122201.1   | 122252.2   | -61093.56  | 122187.1   |       NA   | NA         |         NA |\n",
       "| lmeSemDFFD | 8          | 122199.7   | 122258.1   | -61091.85  | 122183.7   | 3.425694   |  1         | 0.06418925 |\n",
       "\n"
      ],
      "text/plain": [
       "             npar AIC      BIC      logLik    deviance Chisq    Df Pr(>Chisq)\n",
       "lmeBasicFFD2 7    122201.1 122252.2 -61093.56 122187.1       NA NA         NA\n",
       "lmeSemDFFD   8    122199.7 122258.1 -61091.85 122183.7 3.425694  1 0.06418925"
      ]
     },
     "metadata": {},
     "output_type": "display_data"
    }
   ],
   "source": [
    "lmeSemDFFD = lmer(ms ~ LogFreqZipf + PRECEDING_LogFreqZipf + Position + SemD + (1|ID) + (1|Subject), data = FFD2)\n",
    "anova(lmeBasicFFD2, lmeSemDFFD)"
   ]
  },
  {
   "cell_type": "markdown",
   "id": "733e8dd2",
   "metadata": {},
   "source": [
    "Marginal influence of semantic diversity on FFD."
   ]
  },
  {
   "cell_type": "code",
   "execution_count": 92,
   "id": "53c26295",
   "metadata": {
    "scrolled": false
   },
   "outputs": [
    {
     "data": {
      "text/plain": [
       "Linear mixed model fit by REML. t-tests use Satterthwaite's method [\n",
       "lmerModLmerTest]\n",
       "Formula: ms ~ LogFreqZipf + PRECEDING_LogFreqZipf + Position + SemD *  \n",
       "    Sim + (1 | ID) + (1 | Subject)\n",
       "   Data: FFD2\n",
       "\n",
       "REML criterion at convergence: 122130.1\n",
       "\n",
       "Scaled residuals: \n",
       "    Min      1Q  Median      3Q     Max \n",
       "-2.7185 -0.6506 -0.1539  0.4678  5.4545 \n",
       "\n",
       "Random effects:\n",
       " Groups   Name        Variance Std.Dev.\n",
       " ID       (Intercept)  145.4   12.06   \n",
       " Subject  (Intercept)  591.3   24.32   \n",
       " Residual             4229.2   65.03   \n",
       "Number of obs: 10882, groups:  ID, 397; Subject, 40\n",
       "\n",
       "Fixed effects:\n",
       "                      Estimate Std. Error       df t value Pr(>|t|)    \n",
       "(Intercept)           220.6946     3.9463  40.9036  55.925  < 2e-16 ***\n",
       "LogFreqZipf            -2.1249     0.9782 387.7742  -2.172  0.03044 *  \n",
       "PRECEDING_LogFreqZipf  -2.2949     0.8802 390.2116  -2.607  0.00947 ** \n",
       "Position                2.0830     0.8831 396.1248   2.359  0.01883 *  \n",
       "SemD                    0.6482     0.9589 383.1490   0.676  0.49948    \n",
       "Sim                    -5.7839     0.9096 395.8901  -6.359 5.62e-10 ***\n",
       "SemD:Sim                0.9655     0.8729 387.1106   1.106  0.26936    \n",
       "---\n",
       "Signif. codes:  0 '***' 0.001 '**' 0.01 '*' 0.05 '.' 0.1 ' ' 1"
      ]
     },
     "metadata": {},
     "output_type": "display_data"
    }
   ],
   "source": [
    "summary(lmer(ms ~ LogFreqZipf + PRECEDING_LogFreqZipf + Position + SemD*Sim + (1|ID) + (1|Subject), data = FFD2), corr=F)"
   ]
  },
  {
   "cell_type": "markdown",
   "id": "b5504992",
   "metadata": {},
   "source": [
    "#### Age of Acquisition"
   ]
  },
  {
   "cell_type": "code",
   "execution_count": 93,
   "id": "5055037d",
   "metadata": {},
   "outputs": [
    {
     "name": "stderr",
     "output_type": "stream",
     "text": [
      "refitting model(s) with ML (instead of REML)\n"
     ]
    },
    {
     "data": {
      "text/html": [
       "<table>\n",
       "<thead><tr><th></th><th scope=col>npar</th><th scope=col>AIC</th><th scope=col>BIC</th><th scope=col>logLik</th><th scope=col>deviance</th><th scope=col>Chisq</th><th scope=col>Df</th><th scope=col>Pr(&gt;Chisq)</th></tr></thead>\n",
       "<tbody>\n",
       "\t<tr><th scope=row>lmeBasicFFD2</th><td>7         </td><td>122201.1  </td><td>122252.2  </td><td>-61093.56 </td><td>122187.1  </td><td>      NA  </td><td>NA        </td><td>        NA</td></tr>\n",
       "\t<tr><th scope=row>lmeAoAFFD</th><td>8         </td><td>122199.5  </td><td>122257.9  </td><td>-61091.75 </td><td>122183.5  </td><td>3.624936  </td><td> 1        </td><td>0.05691975</td></tr>\n",
       "</tbody>\n",
       "</table>\n"
      ],
      "text/latex": [
       "\\begin{tabular}{r|llllllll}\n",
       "  & npar & AIC & BIC & logLik & deviance & Chisq & Df & Pr(>Chisq)\\\\\n",
       "\\hline\n",
       "\tlmeBasicFFD2 & 7          & 122201.1   & 122252.2   & -61093.56  & 122187.1   &       NA   & NA         &         NA\\\\\n",
       "\tlmeAoAFFD & 8          & 122199.5   & 122257.9   & -61091.75  & 122183.5   & 3.624936   &  1         & 0.05691975\\\\\n",
       "\\end{tabular}\n"
      ],
      "text/markdown": [
       "\n",
       "| <!--/--> | npar | AIC | BIC | logLik | deviance | Chisq | Df | Pr(>Chisq) |\n",
       "|---|---|---|---|---|---|---|---|---|\n",
       "| lmeBasicFFD2 | 7          | 122201.1   | 122252.2   | -61093.56  | 122187.1   |       NA   | NA         |         NA |\n",
       "| lmeAoAFFD | 8          | 122199.5   | 122257.9   | -61091.75  | 122183.5   | 3.624936   |  1         | 0.05691975 |\n",
       "\n"
      ],
      "text/plain": [
       "             npar AIC      BIC      logLik    deviance Chisq    Df Pr(>Chisq)\n",
       "lmeBasicFFD2 7    122201.1 122252.2 -61093.56 122187.1       NA NA         NA\n",
       "lmeAoAFFD    8    122199.5 122257.9 -61091.75 122183.5 3.624936  1 0.05691975"
      ]
     },
     "metadata": {},
     "output_type": "display_data"
    }
   ],
   "source": [
    "lmeAoAFFD = lmer(ms ~ LogFreqZipf + PRECEDING_LogFreqZipf + Position + AoA + (1|ID) + (1|Subject), data = FFD2)\n",
    "anova(lmeBasicFFD2, lmeAoAFFD)"
   ]
  },
  {
   "cell_type": "markdown",
   "id": "5fbb12f5",
   "metadata": {},
   "source": [
    "Marginal influence of age of acquisition on FFD."
   ]
  },
  {
   "cell_type": "code",
   "execution_count": 94,
   "id": "2790dad9",
   "metadata": {},
   "outputs": [
    {
     "data": {
      "text/plain": [
       "Linear mixed model fit by REML. t-tests use Satterthwaite's method [\n",
       "lmerModLmerTest]\n",
       "Formula: ms ~ LogFreqZipf + PRECEDING_LogFreqZipf + Position + AoA * Sim +  \n",
       "    (1 | ID) + (1 | Subject)\n",
       "   Data: FFD2\n",
       "\n",
       "REML criterion at convergence: 122129.8\n",
       "\n",
       "Scaled residuals: \n",
       "    Min      1Q  Median      3Q     Max \n",
       "-2.7188 -0.6510 -0.1519  0.4691  5.4589 \n",
       "\n",
       "Random effects:\n",
       " Groups   Name        Variance Std.Dev.\n",
       " ID       (Intercept)  145.3   12.05   \n",
       " Subject  (Intercept)  591.0   24.31   \n",
       " Residual             4229.2   65.03   \n",
       "Number of obs: 10882, groups:  ID, 397; Subject, 40\n",
       "\n",
       "Fixed effects:\n",
       "                      Estimate Std. Error       df t value Pr(>|t|)    \n",
       "(Intercept)           220.6264     3.9466  40.9589  55.903  < 2e-16 ***\n",
       "LogFreqZipf            -1.5066     0.9477 381.5770  -1.590   0.1127    \n",
       "PRECEDING_LogFreqZipf  -2.2771     0.8831 390.4993  -2.579   0.0103 *  \n",
       "Position                2.2112     0.8921 396.2514   2.478   0.0136 *  \n",
       "AoA                     1.2990     0.9464 378.5683   1.373   0.1707    \n",
       "Sim                    -5.6643     0.9173 390.2420  -6.175 1.66e-09 ***\n",
       "AoA:Sim                 0.2780     0.9050 388.3729   0.307   0.7589    \n",
       "---\n",
       "Signif. codes:  0 '***' 0.001 '**' 0.01 '*' 0.05 '.' 0.1 ' ' 1"
      ]
     },
     "metadata": {},
     "output_type": "display_data"
    }
   ],
   "source": [
    "summary(lmer(ms ~ LogFreqZipf + PRECEDING_LogFreqZipf + Position + AoA*Sim + (1|ID) + (1|Subject), data = FFD2), corr=F)"
   ]
  },
  {
   "cell_type": "markdown",
   "id": "af6d8b00",
   "metadata": {},
   "source": [
    "Overall, it seems that concreteness was the better semantic predictor in our dataset."
   ]
  },
  {
   "cell_type": "markdown",
   "id": "0e864a88",
   "metadata": {},
   "source": [
    "### Other Possible covariates"
   ]
  },
  {
   "cell_type": "markdown",
   "id": "869fc7af",
   "metadata": {},
   "source": [
    "#### Valence"
   ]
  },
  {
   "cell_type": "code",
   "execution_count": 96,
   "id": "c9fb5d0b",
   "metadata": {
    "scrolled": false
   },
   "outputs": [
    {
     "data": {
      "text/plain": [
       "Linear mixed model fit by REML. t-tests use Satterthwaite's method [\n",
       "lmerModLmerTest]\n",
       "Formula: ms ~ V_MeanSum + LogFreqZipf + PRECEDING_LogFreqZipf + Position +  \n",
       "    plausibility + Sim * ConcM + +(1 | ID) + (1 | Subject)\n",
       "   Data: FFD\n",
       "\n",
       "REML criterion at convergence: 123063.2\n",
       "\n",
       "Scaled residuals: \n",
       "    Min      1Q  Median      3Q     Max \n",
       "-2.7409 -0.6501 -0.1514  0.4691  5.4700 \n",
       "\n",
       "Random effects:\n",
       " Groups   Name        Variance Std.Dev.\n",
       " ID       (Intercept)  138.4   11.76   \n",
       " Subject  (Intercept)  589.2   24.27   \n",
       " Residual             4231.6   65.05   \n",
       "Number of obs: 10966, groups:  ID, 400; Subject, 40\n",
       "\n",
       "Fixed effects:\n",
       "                      Estimate Std. Error       df t value Pr(>|t|)    \n",
       "(Intercept)           220.6463     3.9387  40.8844  56.020  < 2e-16 ***\n",
       "V_MeanSum               0.6421     0.9058 388.2320   0.709 0.478794    \n",
       "LogFreqZipf            -1.9742     0.9157 385.3195  -2.156 0.031699 *  \n",
       "PRECEDING_LogFreqZipf  -2.0979     0.8770 391.7139  -2.392 0.017227 *  \n",
       "Position                2.0920     0.8700 397.6909   2.405 0.016641 *  \n",
       "plausibility           -2.3184     1.0918 393.2815  -2.123 0.034337 *  \n",
       "Sim                    -4.0971     1.1060 394.2906  -3.704 0.000242 ***\n",
       "ConcM                  -2.5753     0.9090 389.8483  -2.833 0.004851 ** \n",
       "Sim:ConcM              -0.1937     0.9013 397.0703  -0.215 0.829944    \n",
       "---\n",
       "Signif. codes:  0 '***' 0.001 '**' 0.01 '*' 0.05 '.' 0.1 ' ' 1"
      ]
     },
     "metadata": {},
     "output_type": "display_data"
    }
   ],
   "source": [
    "lmeValenceFFD = lmer(ms ~ V_MeanSum + LogFreqZipf + PRECEDING_LogFreqZipf + Position + plausibility + Sim*ConcM + \n",
    "                     + (1|ID) + (1|Subject), data = FFD)\n",
    "summary(lmeValenceFFD, corr=F)"
   ]
  },
  {
   "cell_type": "markdown",
   "id": "2442471b",
   "metadata": {},
   "source": [
    "#### Arousal"
   ]
  },
  {
   "cell_type": "code",
   "execution_count": 97,
   "id": "ab9a44c6",
   "metadata": {
    "scrolled": false
   },
   "outputs": [
    {
     "data": {
      "text/plain": [
       "Linear mixed model fit by REML. t-tests use Satterthwaite's method [\n",
       "lmerModLmerTest]\n",
       "Formula: ms ~ A_MeanSum + LogFreqZipf + PRECEDING_LogFreqZipf + Position +  \n",
       "    plausibility + Sim * ConcM + +(1 | ID) + (1 | Subject)\n",
       "   Data: FFD\n",
       "\n",
       "REML criterion at convergence: 123062.5\n",
       "\n",
       "Scaled residuals: \n",
       "    Min      1Q  Median      3Q     Max \n",
       "-2.7482 -0.6511 -0.1534  0.4710  5.4651 \n",
       "\n",
       "Random effects:\n",
       " Groups   Name        Variance Std.Dev.\n",
       " ID       (Intercept)  137.9   11.74   \n",
       " Subject  (Intercept)  589.1   24.27   \n",
       " Residual             4231.6   65.05   \n",
       "Number of obs: 10966, groups:  ID, 400; Subject, 40\n",
       "\n",
       "Fixed effects:\n",
       "                      Estimate Std. Error       df t value Pr(>|t|)    \n",
       "(Intercept)           220.6552     3.9380  40.8770  56.032  < 2e-16 ***\n",
       "A_MeanSum              -0.9987     0.9015 394.1924  -1.108 0.268626    \n",
       "LogFreqZipf            -1.7291     0.8764 384.0195  -1.973 0.049225 *  \n",
       "PRECEDING_LogFreqZipf  -2.0697     0.8763 392.1118  -2.362 0.018668 *  \n",
       "Position                2.0885     0.8691 398.1222   2.403 0.016708 *  \n",
       "plausibility           -2.3374     1.0871 393.8835  -2.150 0.032145 *  \n",
       "Sim                    -4.0763     1.1022 395.5255  -3.698 0.000248 ***\n",
       "ConcM                  -2.8361     0.9432 390.8091  -3.007 0.002811 ** \n",
       "Sim:ConcM              -0.1878     0.9004 397.3053  -0.209 0.834922    \n",
       "---\n",
       "Signif. codes:  0 '***' 0.001 '**' 0.01 '*' 0.05 '.' 0.1 ' ' 1"
      ]
     },
     "metadata": {},
     "output_type": "display_data"
    }
   ],
   "source": [
    "lmeArousalFFD = lmer(ms ~ A_MeanSum + LogFreqZipf + PRECEDING_LogFreqZipf + Position + plausibility + Sim*ConcM +\n",
    "                     + (1|ID) + (1|Subject), data = FFD)\n",
    "summary(lmeArousalFFD, corr=F)"
   ]
  },
  {
   "cell_type": "markdown",
   "id": "c76a7430",
   "metadata": {},
   "source": [
    "Nor valence nor arousal are significant predictors of FFD.\n",
    "Importantly, the presence of a concreteness effect is still relevant when including either of the covariates."
   ]
  },
  {
   "cell_type": "markdown",
   "id": "eaf972e3",
   "metadata": {},
   "source": [
    "# Exploratory Analyses on GD\n",
    "\n",
    "Exploring whether we replicate Sheikh and Titone's (2013) relationship between valence/aroudal, frequency, and concreteness."
   ]
  },
  {
   "cell_type": "markdown",
   "id": "fac50eb2",
   "metadata": {},
   "source": [
    "#### Frequency * Concreteness * Arousal"
   ]
  },
  {
   "cell_type": "code",
   "execution_count": 73,
   "id": "3a6a1385",
   "metadata": {},
   "outputs": [
    {
     "data": {
      "text/plain": [
       "Linear mixed model fit by REML. t-tests use Satterthwaite's method [\n",
       "lmerModLmerTest]\n",
       "Formula: ms ~ LogFreqZipf * A_MeanSum * ConcM + LEN + PRECEDING_LogFreqZipf +  \n",
       "    Position + +Sim + (1 | ID) + (1 | Subject)\n",
       "   Data: GD\n",
       "\n",
       "REML criterion at convergence: 128942.5\n",
       "\n",
       "Scaled residuals: \n",
       "    Min      1Q  Median      3Q     Max \n",
       "-2.5628 -0.6155 -0.1743  0.4034  9.9150 \n",
       "\n",
       "Random effects:\n",
       " Groups   Name        Variance Std.Dev.\n",
       " ID       (Intercept)  328.3   18.12   \n",
       " Subject  (Intercept)  967.9   31.11   \n",
       " Residual             7200.6   84.86   \n",
       "Number of obs: 10966, groups:  ID, 400; Subject, 40\n",
       "\n",
       "Fixed effects:\n",
       "                            Estimate Std. Error      df t value Pr(>|t|)    \n",
       "(Intercept)                  234.373      5.090  42.255  46.043  < 2e-16 ***\n",
       "LogFreqZipf                   -2.190      1.279 389.506  -1.712 0.087768 .  \n",
       "A_MeanSum                     -1.151      1.302 393.255  -0.884 0.377304    \n",
       "ConcM                         -1.936      1.383 395.760  -1.400 0.162390    \n",
       "LEN                            4.974      1.286 400.460   3.868 0.000128 ***\n",
       "PRECEDING_LogFreqZipf         -3.130      1.255 391.816  -2.495 0.013009 *  \n",
       "Position                       2.822      1.231 398.397   2.293 0.022387 *  \n",
       "Sim                           -9.181      1.270 396.955  -7.229 2.51e-12 ***\n",
       "LogFreqZipf:A_MeanSum          1.424      1.346 393.181   1.058 0.290603    \n",
       "LogFreqZipf:ConcM              2.226      1.333 393.530   1.670 0.095748 .  \n",
       "A_MeanSum:ConcM               -1.069      1.394 395.640  -0.766 0.443876    \n",
       "LogFreqZipf:A_MeanSum:ConcM    4.022      1.606 401.179   2.504 0.012659 *  \n",
       "---\n",
       "Signif. codes:  0 '***' 0.001 '**' 0.01 '*' 0.05 '.' 0.1 ' ' 1"
      ]
     },
     "metadata": {},
     "output_type": "display_data"
    }
   ],
   "source": [
    "interaction_sheikhtitone1GD = lmer(ms ~ LogFreqZipf*A_MeanSum*ConcM + LEN + PRECEDING_LogFreqZipf + Position +\n",
    "                               + Sim  + (1|ID) + (1|Subject), data = GD)\n",
    "summary(interaction_sheikhtitone1GD, corr=F)                               "
   ]
  },
  {
   "cell_type": "markdown",
   "id": "31e4bc5a",
   "metadata": {},
   "source": [
    "#### Frequency * Concreteness * Valence"
   ]
  },
  {
   "cell_type": "code",
   "execution_count": 74,
   "id": "e97b0a61",
   "metadata": {},
   "outputs": [
    {
     "data": {
      "text/plain": [
       "Linear mixed model fit by REML. t-tests use Satterthwaite's method [\n",
       "lmerModLmerTest]\n",
       "Formula: ms ~ LogFreqZipf * V_MeanSum * ConcM + LEN + PRECEDING_LogFreqZipf +  \n",
       "    Position + +Sim + (1 | ID) + (1 | Subject)\n",
       "   Data: GD\n",
       "\n",
       "REML criterion at convergence: 128942.5\n",
       "\n",
       "Scaled residuals: \n",
       "    Min      1Q  Median      3Q     Max \n",
       "-2.5892 -0.6148 -0.1743  0.4019  9.9327 \n",
       "\n",
       "Random effects:\n",
       " Groups   Name        Variance Std.Dev.\n",
       " ID       (Intercept)  327.8   18.11   \n",
       " Subject  (Intercept)  968.0   31.11   \n",
       " Residual             7200.5   84.86   \n",
       "Number of obs: 10966, groups:  ID, 400; Subject, 40\n",
       "\n",
       "Fixed effects:\n",
       "                            Estimate Std. Error      df t value Pr(>|t|)    \n",
       "(Intercept)                  234.102      5.088  42.167  46.013  < 2e-16 ***\n",
       "LogFreqZipf                   -3.449      1.321 389.650  -2.610  0.00941 ** \n",
       "V_MeanSum                      2.989      1.405 401.503   2.128  0.03397 *  \n",
       "ConcM                         -1.078      1.374 398.164  -0.785  0.43313    \n",
       "LEN                            5.101      1.285 399.912   3.969 8.56e-05 ***\n",
       "PRECEDING_LogFreqZipf         -3.110      1.251 392.682  -2.487  0.01330 *  \n",
       "Position                       2.734      1.232 397.622   2.218  0.02711 *  \n",
       "Sim                           -9.172      1.268 397.068  -7.236 2.41e-12 ***\n",
       "LogFreqZipf:V_MeanSum          1.425      1.247 388.349   1.143  0.25384    \n",
       "LogFreqZipf:ConcM              1.050      1.377 395.296   0.762  0.44627    \n",
       "V_MeanSum:ConcM                2.153      1.527 400.623   1.410  0.15936    \n",
       "LogFreqZipf:V_MeanSum:ConcM   -1.261      1.333 389.638  -0.946  0.34461    \n",
       "---\n",
       "Signif. codes:  0 '***' 0.001 '**' 0.01 '*' 0.05 '.' 0.1 ' ' 1"
      ]
     },
     "metadata": {},
     "output_type": "display_data"
    }
   ],
   "source": [
    "interaction_sheikhtitone2GD = lmer(ms ~ LogFreqZipf*V_MeanSum*ConcM + LEN + PRECEDING_LogFreqZipf + Position +\n",
    "                               + Sim  + (1|ID) + (1|Subject), data = GD)\n",
    "summary(interaction_sheikhtitone2GD, corr=F)       "
   ]
  },
  {
   "cell_type": "markdown",
   "id": "9bff5195",
   "metadata": {},
   "source": [
    "We do observe a frequency * arousal * concreteness interaction"
   ]
  },
  {
   "cell_type": "code",
   "execution_count": null,
   "id": "3a19e49e",
   "metadata": {},
   "outputs": [],
   "source": []
  }
 ],
 "metadata": {
  "kernelspec": {
   "display_name": "R",
   "language": "R",
   "name": "ir"
  },
  "language_info": {
   "codemirror_mode": "r",
   "file_extension": ".r",
   "mimetype": "text/x-r-source",
   "name": "R",
   "pygments_lexer": "r",
   "version": "3.6.1"
  }
 },
 "nbformat": 4,
 "nbformat_minor": 5
}
