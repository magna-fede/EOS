{
 "cells": [
  {
   "cell_type": "markdown",
   "id": "76faf8d4",
   "metadata": {},
   "source": [
    "In this notebook are described the steps to analyse data in the <strong>An Eye on Semantics</strong> paper."
   ]
  },
  {
   "cell_type": "markdown",
   "id": "78f20861",
   "metadata": {},
   "source": [
    "Let's start by importing the packages we will need."
   ]
  },
  {
   "cell_type": "code",
   "execution_count": 1,
   "id": "3d11c61b",
   "metadata": {},
   "outputs": [
    {
     "name": "stderr",
     "output_type": "stream",
     "text": [
      "Warning message:\n",
      "\"package 'readxl' was built under R version 3.6.3\"Warning message:\n",
      "\"package 'lme4' was built under R version 3.6.2\"Loading required package: Matrix\n",
      "Warning message:\n",
      "\"package 'lmerTest' was built under R version 3.6.3\"\n",
      "Attaching package: 'lmerTest'\n",
      "\n",
      "The following object is masked from 'package:lme4':\n",
      "\n",
      "    lmer\n",
      "\n",
      "The following object is masked from 'package:stats':\n",
      "\n",
      "    step\n",
      "\n",
      "Warning message:\n",
      "\"package 'languageR' was built under R version 3.6.3\"Warning message:\n",
      "\"package 'BayesFactor' was built under R version 3.6.3\"Loading required package: coda\n",
      "Warning message:\n",
      "\"package 'coda' was built under R version 3.6.3\"************\n",
      "Welcome to BayesFactor 0.9.12-4.2. If you have questions, please contact Richard Morey (richarddmorey@gmail.com).\n",
      "\n",
      "Type BFManual() to open the manual.\n",
      "************\n",
      "Warning message:\n",
      "\"package 'ggeffects' was built under R version 3.6.2\"Warning message:\n",
      "\"package 'ggplot2' was built under R version 3.6.2\"Warning message:\n",
      "\"package 'performance' was built under R version 3.6.2\""
     ]
    }
   ],
   "source": [
    "library(readxl)\n",
    "library(lme4)\n",
    "library(lmerTest)\n",
    "library(languageR)\n",
    "library(lattice)\n",
    "library(BayesFactor)\n",
    "library(ggeffects)\n",
    "library(ggplot2)\n",
    "library(performance)"
   ]
  },
  {
   "cell_type": "code",
   "execution_count": 2,
   "id": "7b8fdcf6",
   "metadata": {
    "scrolled": true
   },
   "outputs": [
    {
     "data": {
      "text/plain": [
       "               _                           \n",
       "platform       x86_64-w64-mingw32          \n",
       "arch           x86_64                      \n",
       "os             mingw32                     \n",
       "system         x86_64, mingw32             \n",
       "status                                     \n",
       "major          3                           \n",
       "minor          6.1                         \n",
       "year           2019                        \n",
       "month          07                          \n",
       "day            05                          \n",
       "svn rev        76782                       \n",
       "language       R                           \n",
       "version.string R version 3.6.1 (2019-07-05)\n",
       "nickname       Action of the Toes          "
      ]
     },
     "metadata": {},
     "output_type": "display_data"
    }
   ],
   "source": [
    "R.version"
   ]
  },
  {
   "cell_type": "code",
   "execution_count": 3,
   "id": "3c1dfa3c",
   "metadata": {},
   "outputs": [
    {
     "data": {
      "text/plain": [
       "\n",
       "Lüdecke D (2021). _sjPlot: Data Visualization for Statistics in Social\n",
       "Science_. R package version 2.8.10, <URL:\n",
       "https://CRAN.R-project.org/package=sjPlot>.\n",
       "\n",
       "A BibTeX entry for LaTeX users is\n",
       "\n",
       "  @Manual{,\n",
       "    title = {sjPlot: Data Visualization for Statistics in Social Science},\n",
       "    author = {Daniel Lüdecke},\n",
       "    year = {2021},\n",
       "    note = {R package version 2.8.10},\n",
       "    url = {https://CRAN.R-project.org/package=sjPlot},\n",
       "  }\n"
      ]
     },
     "metadata": {},
     "output_type": "display_data"
    }
   ],
   "source": [
    "citation('sjPlot')"
   ]
  },
  {
   "cell_type": "markdown",
   "id": "a1f64a1b",
   "metadata": {},
   "source": [
    "# First Fixation Duration"
   ]
  },
  {
   "cell_type": "markdown",
   "id": "5e4d6261",
   "metadata": {},
   "source": [
    "Import the dataset"
   ]
  },
  {
   "cell_type": "code",
   "execution_count": 4,
   "id": "f45e9ebc",
   "metadata": {},
   "outputs": [],
   "source": [
    "FFD2 <- read.csv('C:/Users/fm02/OwnCloud/EOS_EyeTrackingDataCollection/Data_Results/data_forR/norm_ffd_41.csv')"
   ]
  },
  {
   "cell_type": "markdown",
   "id": "9f8fe4c6",
   "metadata": {},
   "source": [
    "Consider only values greater than 0, in the preprocessing step we already selected only fixations 80-600ms long."
   ]
  },
  {
   "cell_type": "code",
   "execution_count": 5,
   "id": "f7e1f191",
   "metadata": {},
   "outputs": [],
   "source": [
    "FFD2 <- FFD2[FFD2$ms != 0, ]"
   ]
  },
  {
   "cell_type": "code",
   "execution_count": 6,
   "id": "b6b9d724",
   "metadata": {},
   "outputs": [
    {
     "data": {
      "text/html": [
       "<ol class=list-inline>\n",
       "\t<li>'ms'</li>\n",
       "\t<li>'trialnr'</li>\n",
       "\t<li>'time_before_ff'</li>\n",
       "\t<li>'regressed'</li>\n",
       "\t<li>'n_tot_fix'</li>\n",
       "\t<li>'n_prior_fix'</li>\n",
       "\t<li>'Word'</li>\n",
       "\t<li>'ID'</li>\n",
       "\t<li>'ConcM'</li>\n",
       "\t<li>'LEN'</li>\n",
       "\t<li>'UN2_F'</li>\n",
       "\t<li>'UN3_F'</li>\n",
       "\t<li>'Orth'</li>\n",
       "\t<li>'OLD20'</li>\n",
       "\t<li>'FreqCount'</li>\n",
       "\t<li>'LogFreqZipf'</li>\n",
       "\t<li>'V_MeanSum'</li>\n",
       "\t<li>'A_MeanSum'</li>\n",
       "\t<li>'mink3_SM'</li>\n",
       "\t<li>'BLP_rt'</li>\n",
       "\t<li>'BLP_accuracy'</li>\n",
       "\t<li>'similarity'</li>\n",
       "\t<li>'Position'</li>\n",
       "\t<li>'PRECEDING_Frequency'</li>\n",
       "\t<li>'PRECEDING_LogFreqZipf'</li>\n",
       "\t<li>'LENprec'</li>\n",
       "\t<li>'Predictability'</li>\n",
       "\t<li>'cloze'</li>\n",
       "\t<li>'plausibility'</li>\n",
       "\t<li>'Sim'</li>\n",
       "\t<li>'Subject'</li>\n",
       "\t<li>'Gender'</li>\n",
       "\t<li>'Age'</li>\n",
       "</ol>\n"
      ],
      "text/latex": [
       "\\begin{enumerate*}\n",
       "\\item 'ms'\n",
       "\\item 'trialnr'\n",
       "\\item 'time\\_before\\_ff'\n",
       "\\item 'regressed'\n",
       "\\item 'n\\_tot\\_fix'\n",
       "\\item 'n\\_prior\\_fix'\n",
       "\\item 'Word'\n",
       "\\item 'ID'\n",
       "\\item 'ConcM'\n",
       "\\item 'LEN'\n",
       "\\item 'UN2\\_F'\n",
       "\\item 'UN3\\_F'\n",
       "\\item 'Orth'\n",
       "\\item 'OLD20'\n",
       "\\item 'FreqCount'\n",
       "\\item 'LogFreqZipf'\n",
       "\\item 'V\\_MeanSum'\n",
       "\\item 'A\\_MeanSum'\n",
       "\\item 'mink3\\_SM'\n",
       "\\item 'BLP\\_rt'\n",
       "\\item 'BLP\\_accuracy'\n",
       "\\item 'similarity'\n",
       "\\item 'Position'\n",
       "\\item 'PRECEDING\\_Frequency'\n",
       "\\item 'PRECEDING\\_LogFreqZipf'\n",
       "\\item 'LENprec'\n",
       "\\item 'Predictability'\n",
       "\\item 'cloze'\n",
       "\\item 'plausibility'\n",
       "\\item 'Sim'\n",
       "\\item 'Subject'\n",
       "\\item 'Gender'\n",
       "\\item 'Age'\n",
       "\\end{enumerate*}\n"
      ],
      "text/markdown": [
       "1. 'ms'\n",
       "2. 'trialnr'\n",
       "3. 'time_before_ff'\n",
       "4. 'regressed'\n",
       "5. 'n_tot_fix'\n",
       "6. 'n_prior_fix'\n",
       "7. 'Word'\n",
       "8. 'ID'\n",
       "9. 'ConcM'\n",
       "10. 'LEN'\n",
       "11. 'UN2_F'\n",
       "12. 'UN3_F'\n",
       "13. 'Orth'\n",
       "14. 'OLD20'\n",
       "15. 'FreqCount'\n",
       "16. 'LogFreqZipf'\n",
       "17. 'V_MeanSum'\n",
       "18. 'A_MeanSum'\n",
       "19. 'mink3_SM'\n",
       "20. 'BLP_rt'\n",
       "21. 'BLP_accuracy'\n",
       "22. 'similarity'\n",
       "23. 'Position'\n",
       "24. 'PRECEDING_Frequency'\n",
       "25. 'PRECEDING_LogFreqZipf'\n",
       "26. 'LENprec'\n",
       "27. 'Predictability'\n",
       "28. 'cloze'\n",
       "29. 'plausibility'\n",
       "30. 'Sim'\n",
       "31. 'Subject'\n",
       "32. 'Gender'\n",
       "33. 'Age'\n",
       "\n",
       "\n"
      ],
      "text/plain": [
       " [1] \"ms\"                    \"trialnr\"               \"time_before_ff\"       \n",
       " [4] \"regressed\"             \"n_tot_fix\"             \"n_prior_fix\"          \n",
       " [7] \"Word\"                  \"ID\"                    \"ConcM\"                \n",
       "[10] \"LEN\"                   \"UN2_F\"                 \"UN3_F\"                \n",
       "[13] \"Orth\"                  \"OLD20\"                 \"FreqCount\"            \n",
       "[16] \"LogFreqZipf\"           \"V_MeanSum\"             \"A_MeanSum\"            \n",
       "[19] \"mink3_SM\"              \"BLP_rt\"                \"BLP_accuracy\"         \n",
       "[22] \"similarity\"            \"Position\"              \"PRECEDING_Frequency\"  \n",
       "[25] \"PRECEDING_LogFreqZipf\" \"LENprec\"               \"Predictability\"       \n",
       "[28] \"cloze\"                 \"plausibility\"          \"Sim\"                  \n",
       "[31] \"Subject\"               \"Gender\"                \"Age\"                  "
      ]
     },
     "metadata": {},
     "output_type": "display_data"
    }
   ],
   "source": [
    "colnames(FFD2)"
   ]
  },
  {
   "cell_type": "markdown",
   "id": "7a89226f",
   "metadata": {},
   "source": [
    "Check which factors affect fixation durations, among those that are already established in the literature (excluding effects of interest).\n"
   ]
  },
  {
   "cell_type": "code",
   "execution_count": 7,
   "id": "d177f300",
   "metadata": {},
   "outputs": [
    {
     "data": {
      "text/plain": [
       "Linear mixed model fit by REML. t-tests use Satterthwaite's method [\n",
       "lmerModLmerTest]\n",
       "Formula: ms ~ trialnr + (1 | ID) + (1 | Subject)\n",
       "   Data: FFD2\n",
       "\n",
       "REML criterion at convergence: 123159.5\n",
       "\n",
       "Scaled residuals: \n",
       "    Min      1Q  Median      3Q     Max \n",
       "-2.7101 -0.6535 -0.1552  0.4681  5.5307 \n",
       "\n",
       "Random effects:\n",
       " Groups   Name        Variance Std.Dev.\n",
       " ID       (Intercept)  191.9   13.85   \n",
       " Subject  (Intercept)  589.7   24.28   \n",
       " Residual             4232.0   65.05   \n",
       "Number of obs: 10966, groups:  ID, 400; Subject, 40\n",
       "\n",
       "Fixed effects:\n",
       "             Estimate Std. Error        df t value Pr(>|t|)    \n",
       "(Intercept) 2.198e+02  4.100e+00 4.791e+01  53.623   <2e-16 ***\n",
       "trialnr     4.262e-03  5.446e-03 1.079e+04   0.783    0.434    \n",
       "---\n",
       "Signif. codes:  0 '***' 0.001 '**' 0.01 '*' 0.05 '.' 0.1 ' ' 1\n",
       "\n",
       "Correlation of Fixed Effects:\n",
       "        (Intr)\n",
       "trialnr -0.264"
      ]
     },
     "metadata": {},
     "output_type": "display_data"
    }
   ],
   "source": [
    "trialsFFD2 = lmer(ms ~ trialnr + (1|ID) + (1|Subject), data = FFD2)\n",
    "summary(trialsFFD2)\n",
    "# trial order does not influence FFD"
   ]
  },
  {
   "cell_type": "code",
   "execution_count": 8,
   "id": "41159ece",
   "metadata": {},
   "outputs": [
    {
     "data": {
      "text/plain": [
       "Linear mixed model fit by REML. t-tests use Satterthwaite's method [\n",
       "lmerModLmerTest]\n",
       "Formula: ms ~ LogFreqZipf + (1 | ID) + (1 | Subject)\n",
       "   Data: FFD2\n",
       "\n",
       "REML criterion at convergence: 123138.5\n",
       "\n",
       "Scaled residuals: \n",
       "    Min      1Q  Median      3Q     Max \n",
       "-2.6646 -0.6547 -0.1581  0.4670  5.4828 \n",
       "\n",
       "Random effects:\n",
       " Groups   Name        Variance Std.Dev.\n",
       " ID       (Intercept)  183.5   13.55   \n",
       " Subject  (Intercept)  589.9   24.29   \n",
       " Residual             4231.6   65.05   \n",
       "Number of obs: 10966, groups:  ID, 400; Subject, 40\n",
       "\n",
       "Fixed effects:\n",
       "            Estimate Std. Error       df t value Pr(>|t|)    \n",
       "(Intercept) 220.6507     3.9523  41.3582  55.828  < 2e-16 ***\n",
       "LogFreqZipf  -3.1182     0.9196 392.2594  -3.391 0.000768 ***\n",
       "---\n",
       "Signif. codes:  0 '***' 0.001 '**' 0.01 '*' 0.05 '.' 0.1 ' ' 1\n",
       "\n",
       "Correlation of Fixed Effects:\n",
       "            (Intr)\n",
       "LogFreqZipf 0.003 "
      ]
     },
     "metadata": {},
     "output_type": "display_data"
    }
   ],
   "source": [
    "freqFFD2 = lmer(ms ~ LogFreqZipf + (1|ID) + (1|Subject), data = FFD2)\n",
    "summary(freqFFD2)\n",
    "# Zipf does influence FFD"
   ]
  },
  {
   "cell_type": "code",
   "execution_count": 9,
   "id": "08335ea4",
   "metadata": {},
   "outputs": [
    {
     "data": {
      "text/plain": [
       "Linear mixed model fit by REML. t-tests use Satterthwaite's method [\n",
       "lmerModLmerTest]\n",
       "Formula: ms ~ LEN + (1 | ID) + (1 | Subject)\n",
       "   Data: FFD2\n",
       "\n",
       "REML criterion at convergence: 123148.8\n",
       "\n",
       "Scaled residuals: \n",
       "    Min      1Q  Median      3Q     Max \n",
       "-2.6963 -0.6528 -0.1549  0.4677  5.5385 \n",
       "\n",
       "Random effects:\n",
       " Groups   Name        Variance Std.Dev.\n",
       " ID       (Intercept)  191.9   13.85   \n",
       " Subject  (Intercept)  589.6   24.28   \n",
       " Residual             4231.8   65.05   \n",
       "Number of obs: 10966, groups:  ID, 400; Subject, 40\n",
       "\n",
       "Fixed effects:\n",
       "            Estimate Std. Error       df t value Pr(>|t|)    \n",
       "(Intercept) 220.6371     3.9544  41.4754  55.795   <2e-16 ***\n",
       "LEN           0.9759     0.9404 406.9997   1.038      0.3    \n",
       "---\n",
       "Signif. codes:  0 '***' 0.001 '**' 0.01 '*' 0.05 '.' 0.1 ' ' 1\n",
       "\n",
       "Correlation of Fixed Effects:\n",
       "    (Intr)\n",
       "LEN -0.010"
      ]
     },
     "metadata": {},
     "output_type": "display_data"
    }
   ],
   "source": [
    "LENFFD2 = lmer(ms ~ LEN + (1|ID) + (1|Subject), data = FFD2)\n",
    "summary(LENFFD2)\n",
    "# length does not influence FFD"
   ]
  },
  {
   "cell_type": "code",
   "execution_count": 10,
   "id": "a81109cf",
   "metadata": {},
   "outputs": [
    {
     "data": {
      "text/plain": [
       "Linear mixed model fit by REML. t-tests use Satterthwaite's method [\n",
       "lmerModLmerTest]\n",
       "Formula: ms ~ PRECEDING_LogFreqZipf + (1 | ID) + (1 | Subject)\n",
       "   Data: FFD2\n",
       "\n",
       "REML criterion at convergence: 123143.6\n",
       "\n",
       "Scaled residuals: \n",
       "    Min      1Q  Median      3Q     Max \n",
       "-2.6810 -0.6548 -0.1528  0.4681  5.5097 \n",
       "\n",
       "Random effects:\n",
       " Groups   Name        Variance Std.Dev.\n",
       " ID       (Intercept)  187.6   13.70   \n",
       " Subject  (Intercept)  590.0   24.29   \n",
       " Residual             4231.7   65.05   \n",
       "Number of obs: 10966, groups:  ID, 400; Subject, 40\n",
       "\n",
       "Fixed effects:\n",
       "                      Estimate Std. Error       df t value Pr(>|t|)    \n",
       "(Intercept)           220.6791     3.9540  41.4077  55.811   <2e-16 ***\n",
       "PRECEDING_LogFreqZipf  -2.3384     0.9288 398.3154  -2.518   0.0122 *  \n",
       "---\n",
       "Signif. codes:  0 '***' 0.001 '**' 0.01 '*' 0.05 '.' 0.1 ' ' 1\n",
       "\n",
       "Correlation of Fixed Effects:\n",
       "            (Intr)\n",
       "PRECEDING_L 0.000 "
      ]
     },
     "metadata": {},
     "output_type": "display_data"
    }
   ],
   "source": [
    "precFFD2 = lmer(ms ~ PRECEDING_LogFreqZipf + (1|ID) + (1|Subject), data = FFD2)\n",
    "summary(precFFD2)\n",
    "# Zipf of the preceding word does influence FFD"
   ]
  },
  {
   "cell_type": "code",
   "execution_count": 11,
   "id": "a467b99c",
   "metadata": {},
   "outputs": [
    {
     "data": {
      "text/plain": [
       "Linear mixed model fit by REML. t-tests use Satterthwaite's method [\n",
       "lmerModLmerTest]\n",
       "Formula: ms ~ Position + (1 | ID) + (1 | Subject)\n",
       "   Data: FFD2\n",
       "\n",
       "REML criterion at convergence: 123144.3\n",
       "\n",
       "Scaled residuals: \n",
       "    Min      1Q  Median      3Q     Max \n",
       "-2.7246 -0.6551 -0.1553  0.4659  5.5544 \n",
       "\n",
       "Random effects:\n",
       " Groups   Name        Variance Std.Dev.\n",
       " ID       (Intercept)  188.1   13.71   \n",
       " Subject  (Intercept)  589.7   24.28   \n",
       " Residual             4231.8   65.05   \n",
       "Number of obs: 10966, groups:  ID, 400; Subject, 40\n",
       "\n",
       "Fixed effects:\n",
       "            Estimate Std. Error       df t value Pr(>|t|)    \n",
       "(Intercept) 220.6930     3.9531  41.4168  55.827   <2e-16 ***\n",
       "Position      2.2157     0.9326 402.9945   2.376    0.018 *  \n",
       "---\n",
       "Signif. codes:  0 '***' 0.001 '**' 0.01 '*' 0.05 '.' 0.1 ' ' 1\n",
       "\n",
       "Correlation of Fixed Effects:\n",
       "         (Intr)\n",
       "Position 0.001 "
      ]
     },
     "metadata": {},
     "output_type": "display_data"
    }
   ],
   "source": [
    "posFFD2 = lmer(ms ~  Position + (1|ID) + (1|Subject), data = FFD2)\n",
    "summary(posFFD2)\n",
    "# position in the sentece does influence FFD"
   ]
  },
  {
   "cell_type": "code",
   "execution_count": 12,
   "id": "f7baed88",
   "metadata": {},
   "outputs": [
    {
     "data": {
      "text/plain": [
       "Linear mixed model fit by REML. t-tests use Satterthwaite's method [\n",
       "lmerModLmerTest]\n",
       "Formula: ms ~ time_before_ff + (1 | ID) + (1 | Subject)\n",
       "   Data: FFD2\n",
       "\n",
       "REML criterion at convergence: 123147.3\n",
       "\n",
       "Scaled residuals: \n",
       "    Min      1Q  Median      3Q     Max \n",
       "-2.6938 -0.6544 -0.1564  0.4654  5.5219 \n",
       "\n",
       "Random effects:\n",
       " Groups   Name        Variance Std.Dev.\n",
       " ID       (Intercept)  187.6   13.70   \n",
       " Subject  (Intercept)  589.8   24.29   \n",
       " Residual             4232.9   65.06   \n",
       "Number of obs: 10966, groups:  ID, 400; Subject, 40\n",
       "\n",
       "Fixed effects:\n",
       "                Estimate Std. Error        df t value Pr(>|t|)    \n",
       "(Intercept)     220.6859     3.9535   41.4120  55.821   <2e-16 ***\n",
       "time_before_ff    1.2105     0.6706 8804.2172   1.805   0.0711 .  \n",
       "---\n",
       "Signif. codes:  0 '***' 0.001 '**' 0.01 '*' 0.05 '.' 0.1 ' ' 1\n",
       "\n",
       "Correlation of Fixed Effects:\n",
       "            (Intr)\n",
       "time_bfr_ff 0.001 "
      ]
     },
     "metadata": {},
     "output_type": "display_data"
    }
   ],
   "source": [
    "tbFFD2 = lmer(ms ~  time_before_ff + (1|ID) + (1|Subject), data = FFD2)\n",
    "summary(tbFFD2)"
   ]
  },
  {
   "cell_type": "markdown",
   "id": "81758861",
   "metadata": {},
   "source": [
    "This is our <strong> basic model </strong> which will be used for model comparison, in order to check the influence of our predictors of interest <strong> concreteness </strong> and <strong> predictability </strong>"
   ]
  },
  {
   "cell_type": "code",
   "execution_count": 13,
   "id": "9cf956bd",
   "metadata": {},
   "outputs": [
    {
     "data": {
      "text/plain": [
       "Linear mixed model fit by REML. t-tests use Satterthwaite's method [\n",
       "lmerModLmerTest]\n",
       "Formula: ms ~ LogFreqZipf + PRECEDING_LogFreqZipf + Position + (1 | ID) +  \n",
       "    (1 | Subject)\n",
       "   Data: FFD2\n",
       "\n",
       "REML criterion at convergence: 123123.6\n",
       "\n",
       "Scaled residuals: \n",
       "    Min      1Q  Median      3Q     Max \n",
       "-2.6734 -0.6545 -0.1567  0.4712  5.4921 \n",
       "\n",
       "Random effects:\n",
       " Groups   Name        Variance Std.Dev.\n",
       " ID       (Intercept)  175.3   13.24   \n",
       " Subject  (Intercept)  589.8   24.29   \n",
       " Residual             4231.7   65.05   \n",
       "Number of obs: 10966, groups:  ID, 400; Subject, 40\n",
       "\n",
       "Fixed effects:\n",
       "                      Estimate Std. Error       df t value Pr(>|t|)    \n",
       "(Intercept)           220.6675     3.9495  41.2505  55.872  < 2e-16 ***\n",
       "LogFreqZipf            -2.9641     0.9109 389.9325  -3.254  0.00124 ** \n",
       "PRECEDING_LogFreqZipf  -2.1980     0.9152 396.6044  -2.402  0.01678 *  \n",
       "Position                2.3147     0.9158 401.8951   2.528  0.01187 *  \n",
       "---\n",
       "Signif. codes:  0 '***' 0.001 '**' 0.01 '*' 0.05 '.' 0.1 ' ' 1\n",
       "\n",
       "Correlation of Fixed Effects:\n",
       "            (Intr) LgFrqZ PRECED\n",
       "LogFreqZipf  0.003              \n",
       "PRECEDING_L  0.000 -0.075       \n",
       "Position     0.001 -0.003 -0.037"
      ]
     },
     "metadata": {},
     "output_type": "display_data"
    }
   ],
   "source": [
    "lmeBasic = lmer(ms ~ LogFreqZipf + PRECEDING_LogFreqZipf + Position + (1|ID) + (1|Subject), data = FFD2)\n",
    "summary(lmeBasic)"
   ]
  },
  {
   "cell_type": "markdown",
   "id": "c3ff548f",
   "metadata": {},
   "source": [
    "Let's test predictability influence."
   ]
  },
  {
   "cell_type": "code",
   "execution_count": 14,
   "id": "400c15da",
   "metadata": {},
   "outputs": [
    {
     "name": "stderr",
     "output_type": "stream",
     "text": [
      "refitting model(s) with ML (instead of REML)\n"
     ]
    },
    {
     "data": {
      "text/html": [
       "<table>\n",
       "<thead><tr><th></th><th scope=col>npar</th><th scope=col>AIC</th><th scope=col>BIC</th><th scope=col>logLik</th><th scope=col>deviance</th><th scope=col>Chisq</th><th scope=col>Df</th><th scope=col>Pr(&gt;Chisq)</th></tr></thead>\n",
       "<tbody>\n",
       "\t<tr><th scope=row>lmeBasic</th><td>7           </td><td>123147.1    </td><td>123198.3    </td><td>-61566.57   </td><td>123133.1    </td><td>      NA    </td><td>NA          </td><td>          NA</td></tr>\n",
       "\t<tr><th scope=row>lmeOnlySemSim</th><td>8           </td><td>123107.8    </td><td>123166.2    </td><td>-61545.89   </td><td>123091.8    </td><td>41.35329    </td><td> 1          </td><td>1.270576e-10</td></tr>\n",
       "</tbody>\n",
       "</table>\n"
      ],
      "text/latex": [
       "\\begin{tabular}{r|llllllll}\n",
       "  & npar & AIC & BIC & logLik & deviance & Chisq & Df & Pr(>Chisq)\\\\\n",
       "\\hline\n",
       "\tlmeBasic & 7            & 123147.1     & 123198.3     & -61566.57    & 123133.1     &       NA     & NA           &           NA\\\\\n",
       "\tlmeOnlySemSim & 8            & 123107.8     & 123166.2     & -61545.89    & 123091.8     & 41.35329     &  1           & 1.270576e-10\\\\\n",
       "\\end{tabular}\n"
      ],
      "text/markdown": [
       "\n",
       "| <!--/--> | npar | AIC | BIC | logLik | deviance | Chisq | Df | Pr(>Chisq) |\n",
       "|---|---|---|---|---|---|---|---|---|\n",
       "| lmeBasic | 7            | 123147.1     | 123198.3     | -61566.57    | 123133.1     |       NA     | NA           |           NA |\n",
       "| lmeOnlySemSim | 8            | 123107.8     | 123166.2     | -61545.89    | 123091.8     | 41.35329     |  1           | 1.270576e-10 |\n",
       "\n"
      ],
      "text/plain": [
       "              npar AIC      BIC      logLik    deviance Chisq    Df\n",
       "lmeBasic      7    123147.1 123198.3 -61566.57 123133.1       NA NA\n",
       "lmeOnlySemSim 8    123107.8 123166.2 -61545.89 123091.8 41.35329  1\n",
       "              Pr(>Chisq)  \n",
       "lmeBasic                NA\n",
       "lmeOnlySemSim 1.270576e-10"
      ]
     },
     "metadata": {},
     "output_type": "display_data"
    }
   ],
   "source": [
    "lmeOnlySemSim = lmer(ms ~ LogFreqZipf + PRECEDING_LogFreqZipf + Position +  Sim +\n",
    "                       (1|ID) + (1|Subject), data = FFD2)\n",
    "anova(lmeBasic, lmeOnlySemSim)\n"
   ]
  },
  {
   "cell_type": "markdown",
   "id": "d9bd95e9",
   "metadata": {},
   "source": [
    "Predictability has a significant influence on FFD."
   ]
  },
  {
   "cell_type": "markdown",
   "id": "1a08a2ca",
   "metadata": {},
   "source": [
    "Now we test whether concreteness influence FFD. "
   ]
  },
  {
   "cell_type": "code",
   "execution_count": 15,
   "id": "f68f7ff4",
   "metadata": {},
   "outputs": [
    {
     "name": "stderr",
     "output_type": "stream",
     "text": [
      "refitting model(s) with ML (instead of REML)\n"
     ]
    },
    {
     "data": {
      "text/html": [
       "<table>\n",
       "<thead><tr><th></th><th scope=col>npar</th><th scope=col>AIC</th><th scope=col>BIC</th><th scope=col>logLik</th><th scope=col>deviance</th><th scope=col>Chisq</th><th scope=col>Df</th><th scope=col>Pr(&gt;Chisq)</th></tr></thead>\n",
       "<tbody>\n",
       "\t<tr><th scope=row>lmeBasic</th><td>7          </td><td>123147.1   </td><td>123198.3   </td><td>-61566.57  </td><td>123133.1   </td><td>      NA   </td><td>NA         </td><td>         NA</td></tr>\n",
       "\t<tr><th scope=row>onlyConc</th><td>8          </td><td>123138.9   </td><td>123197.3   </td><td>-61561.44  </td><td>123122.9   </td><td>10.26058   </td><td> 1         </td><td>0.001359027</td></tr>\n",
       "</tbody>\n",
       "</table>\n"
      ],
      "text/latex": [
       "\\begin{tabular}{r|llllllll}\n",
       "  & npar & AIC & BIC & logLik & deviance & Chisq & Df & Pr(>Chisq)\\\\\n",
       "\\hline\n",
       "\tlmeBasic & 7           & 123147.1    & 123198.3    & -61566.57   & 123133.1    &       NA    & NA          &          NA\\\\\n",
       "\tonlyConc & 8           & 123138.9    & 123197.3    & -61561.44   & 123122.9    & 10.26058    &  1          & 0.001359027\\\\\n",
       "\\end{tabular}\n"
      ],
      "text/markdown": [
       "\n",
       "| <!--/--> | npar | AIC | BIC | logLik | deviance | Chisq | Df | Pr(>Chisq) |\n",
       "|---|---|---|---|---|---|---|---|---|\n",
       "| lmeBasic | 7           | 123147.1    | 123198.3    | -61566.57   | 123133.1    |       NA    | NA          |          NA |\n",
       "| onlyConc | 8           | 123138.9    | 123197.3    | -61561.44   | 123122.9    | 10.26058    |  1          | 0.001359027 |\n",
       "\n"
      ],
      "text/plain": [
       "         npar AIC      BIC      logLik    deviance Chisq    Df Pr(>Chisq) \n",
       "lmeBasic 7    123147.1 123198.3 -61566.57 123133.1       NA NA          NA\n",
       "onlyConc 8    123138.9 123197.3 -61561.44 123122.9 10.26058  1 0.001359027"
      ]
     },
     "metadata": {},
     "output_type": "display_data"
    }
   ],
   "source": [
    "onlyConc = lmer(ms ~ LogFreqZipf + PRECEDING_LogFreqZipf + Position + ConcM + (1|ID) + (1|Subject), data = FFD2)\n",
    "anova(lmeBasic, onlyConc)"
   ]
  },
  {
   "cell_type": "markdown",
   "id": "f65343f1",
   "metadata": {},
   "source": [
    "Concreteness has a significant influence on FFD."
   ]
  },
  {
   "cell_type": "markdown",
   "id": "378da2a3",
   "metadata": {},
   "source": [
    "Let's now check the joint influence of concreteness and predictability and test whether their effect is additive or interactive."
   ]
  },
  {
   "cell_type": "code",
   "execution_count": 16,
   "id": "710e6a34",
   "metadata": {},
   "outputs": [],
   "source": [
    "interaction_Conc.SemSim = lmer(ms ~ LogFreqZipf + PRECEDING_LogFreqZipf + Position + Sim*ConcM + (1|ID) + (1|Subject), data = FFD2)\n",
    "additive_Conc.SemSim = lmer(ms ~ LogFreqZipf + PRECEDING_LogFreqZipf + Position + Sim + ConcM + (1|ID) + (1|Subject), data = FFD2)"
   ]
  },
  {
   "cell_type": "code",
   "execution_count": 17,
   "id": "10a8c7e1",
   "metadata": {},
   "outputs": [
    {
     "data": {
      "text/plain": [
       "Linear mixed model fit by REML. t-tests use Satterthwaite's method [\n",
       "lmerModLmerTest]\n",
       "Formula: ms ~ LogFreqZipf + PRECEDING_LogFreqZipf + Position + Sim + ConcM +  \n",
       "    (1 | ID) + (1 | Subject)\n",
       "   Data: FFD2\n",
       "\n",
       "REML criterion at convergence: 123074\n",
       "\n",
       "Scaled residuals: \n",
       "    Min      1Q  Median      3Q     Max \n",
       "-2.7211 -0.6523 -0.1532  0.4674  5.4547 \n",
       "\n",
       "Random effects:\n",
       " Groups   Name        Variance Std.Dev.\n",
       " ID       (Intercept)  140.0   11.83   \n",
       " Subject  (Intercept)  588.8   24.27   \n",
       " Residual             4231.8   65.05   \n",
       "Number of obs: 10966, groups:  ID, 400; Subject, 40\n",
       "\n",
       "Fixed effects:\n",
       "                      Estimate Std. Error       df t value Pr(>|t|)    \n",
       "(Intercept)           220.6139     3.9350  40.7916  56.064  < 2e-16 ***\n",
       "LogFreqZipf            -1.8559     0.8758 385.8517  -2.119   0.0347 *  \n",
       "PRECEDING_LogFreqZipf  -2.1898     0.8701 393.2857  -2.517   0.0122 *  \n",
       "Position                2.1452     0.8662 399.9178   2.477   0.0137 *  \n",
       "Sim                    -5.4925     0.8940 399.3760  -6.144 1.95e-09 ***\n",
       "ConcM                  -2.0380     0.8797 392.9229  -2.317   0.0210 *  \n",
       "---\n",
       "Signif. codes:  0 '***' 0.001 '**' 0.01 '*' 0.05 '.' 0.1 ' ' 1"
      ]
     },
     "metadata": {},
     "output_type": "display_data"
    }
   ],
   "source": [
    "summary(additive_Conc.SemSim, corr=F)"
   ]
  },
  {
   "cell_type": "code",
   "execution_count": 18,
   "id": "696cdba6",
   "metadata": {},
   "outputs": [
    {
     "data": {
      "text/plain": [
       "Linear mixed model fit by REML. t-tests use Satterthwaite's method [\n",
       "lmerModLmerTest]\n",
       "Formula: ms ~ LogFreqZipf + PRECEDING_LogFreqZipf + Position + Sim * ConcM +  \n",
       "    (1 | ID) + (1 | Subject)\n",
       "   Data: FFD2\n",
       "\n",
       "REML criterion at convergence: 123072.2\n",
       "\n",
       "Scaled residuals: \n",
       "    Min      1Q  Median      3Q     Max \n",
       "-2.7199 -0.6525 -0.1518  0.4675  5.4544 \n",
       "\n",
       "Random effects:\n",
       " Groups   Name        Variance Std.Dev.\n",
       " ID       (Intercept)  140.7   11.86   \n",
       " Subject  (Intercept)  588.9   24.27   \n",
       " Residual             4231.7   65.05   \n",
       "Number of obs: 10966, groups:  ID, 400; Subject, 40\n",
       "\n",
       "Fixed effects:\n",
       "                      Estimate Std. Error       df t value Pr(>|t|)    \n",
       "(Intercept)           220.6810     3.9382  40.9156  56.036  < 2e-16 ***\n",
       "LogFreqZipf            -1.8787     0.8782 385.2791  -2.139   0.0330 *  \n",
       "PRECEDING_LogFreqZipf  -2.1323     0.8801 393.3182  -2.423   0.0159 *  \n",
       "Position                2.0990     0.8731 399.3809   2.404   0.0167 *  \n",
       "Sim                    -5.4243     0.9073 393.1576  -5.978 5.06e-09 ***\n",
       "ConcM                  -2.0324     0.8808 391.8138  -2.308   0.0215 *  \n",
       "Sim:ConcM              -0.4102     0.8989 398.6744  -0.456   0.6484    \n",
       "---\n",
       "Signif. codes:  0 '***' 0.001 '**' 0.01 '*' 0.05 '.' 0.1 ' ' 1"
      ]
     },
     "metadata": {},
     "output_type": "display_data"
    }
   ],
   "source": [
    "summary(interaction_Conc.SemSim, corr=F) "
   ]
  },
  {
   "cell_type": "code",
   "execution_count": 19,
   "id": "a56ed113",
   "metadata": {},
   "outputs": [
    {
     "name": "stderr",
     "output_type": "stream",
     "text": [
      "refitting model(s) with ML (instead of REML)\n"
     ]
    },
    {
     "data": {
      "text/html": [
       "<table>\n",
       "<thead><tr><th></th><th scope=col>npar</th><th scope=col>AIC</th><th scope=col>BIC</th><th scope=col>logLik</th><th scope=col>deviance</th><th scope=col>Chisq</th><th scope=col>Df</th><th scope=col>Pr(&gt;Chisq)</th></tr></thead>\n",
       "<tbody>\n",
       "\t<tr><th scope=row>additive_Conc.SemSim</th><td> 9       </td><td>123104.4 </td><td>123170.1 </td><td>-61543.19</td><td>123086.4 </td><td>       NA</td><td>NA       </td><td>       NA</td></tr>\n",
       "\t<tr><th scope=row>interaction_Conc.SemSim</th><td>10       </td><td>123106.2 </td><td>123179.2 </td><td>-61543.08</td><td>123086.2 </td><td>0.2094683</td><td> 1       </td><td>0.6471845</td></tr>\n",
       "</tbody>\n",
       "</table>\n"
      ],
      "text/latex": [
       "\\begin{tabular}{r|llllllll}\n",
       "  & npar & AIC & BIC & logLik & deviance & Chisq & Df & Pr(>Chisq)\\\\\n",
       "\\hline\n",
       "\tadditive\\_Conc.SemSim &  9        & 123104.4  & 123170.1  & -61543.19 & 123086.4  &        NA & NA        &        NA\\\\\n",
       "\tinteraction\\_Conc.SemSim & 10        & 123106.2  & 123179.2  & -61543.08 & 123086.2  & 0.2094683 &  1        & 0.6471845\\\\\n",
       "\\end{tabular}\n"
      ],
      "text/markdown": [
       "\n",
       "| <!--/--> | npar | AIC | BIC | logLik | deviance | Chisq | Df | Pr(>Chisq) |\n",
       "|---|---|---|---|---|---|---|---|---|\n",
       "| additive_Conc.SemSim |  9        | 123104.4  | 123170.1  | -61543.19 | 123086.4  |        NA | NA        |        NA |\n",
       "| interaction_Conc.SemSim | 10        | 123106.2  | 123179.2  | -61543.08 | 123086.2  | 0.2094683 |  1        | 0.6471845 |\n",
       "\n"
      ],
      "text/plain": [
       "                        npar AIC      BIC      logLik    deviance Chisq     Df\n",
       "additive_Conc.SemSim     9   123104.4 123170.1 -61543.19 123086.4        NA NA\n",
       "interaction_Conc.SemSim 10   123106.2 123179.2 -61543.08 123086.2 0.2094683  1\n",
       "                        Pr(>Chisq)\n",
       "additive_Conc.SemSim           NA \n",
       "interaction_Conc.SemSim 0.6471845 "
      ]
     },
     "metadata": {},
     "output_type": "display_data"
    }
   ],
   "source": [
    "anova(interaction_Conc.SemSim,additive_Conc.SemSim)"
   ]
  },
  {
   "cell_type": "markdown",
   "id": "33ad1d6f",
   "metadata": {},
   "source": [
    "We don't have evidence in suppoty of an interactive influence of predictability and concreteness on FFD.\n",
    "Let's visualize the confidence intervals of the estimates."
   ]
  },
  {
   "cell_type": "code",
   "execution_count": 20,
   "id": "6620c7f0",
   "metadata": {},
   "outputs": [
    {
     "data": {
      "image/png": "[encoded data removed]",
      "text/plain": [
       "plot without title"
      ]
     },
     "metadata": {},
     "output_type": "display_data"
    }
   ],
   "source": [
    "p <- sjPlot::plot_model(interaction_Conc.SemSim, , title = \"FFD\",\n",
    "                       axis.labels = c(\"Predictability*Concreteness\",\n",
    "                                       \"Concreteness\",\n",
    "                                       \"Predictability\",\n",
    "                                       \"Position\",\n",
    "                                       \"Preceding Frequency (Zipf)\",\n",
    "                                       \"Frequency (Zipf)\",\n",
    "                                       \"Intercept\"))\n",
    "p + sjPlot::font_size(labels.y = 15)"
   ]
  },
  {
   "cell_type": "code",
   "execution_count": 94,
   "id": "63b25879",
   "metadata": {},
   "outputs": [],
   "source": [
    "# options(repr.plot.width  = 6,\n",
    "#         repr.plot.height = 6)"
   ]
  },
  {
   "cell_type": "markdown",
   "id": "d1347116",
   "metadata": {},
   "source": [
    "In order to better characterise the relationship between predictability and concreteness, and to compare it with the established additive influence of predictability and frequency, let's plot the predicted values for the response."
   ]
  },
  {
   "cell_type": "code",
   "execution_count": 25,
   "id": "fbad9ecf",
   "metadata": {},
   "outputs": [
    {
     "name": "stderr",
     "output_type": "stream",
     "text": [
      "Scale for 'colour' is already present. Adding another scale for 'colour',\n",
      "which will replace the existing scale.\n"
     ]
    },
    {
     "data": {
      "image/png": "[encoded data removed]",
      "text/plain": [
       "plot without title"
      ]
     },
     "metadata": {},
     "output_type": "display_data"
    }
   ],
   "source": [
    "# plot both concreteness and Sim\n",
    "\n",
    "dfConcSim <- ggeffect(interaction_Conc.SemSim, terms = c(\"Sim\", \"ConcM\"));\n",
    "p <- plot(dfConcSim) +\n",
    "  labs(x=\"Predictability\", colour=\"Concreteness\", title = \"FFD\") +\n",
    "  scale_color_discrete(labels = c(\"-1 SD\", \"Mean\", \"+1 SD\"));\n",
    "p + sjPlot::font_size(labels.y = 15) + theme(text=element_text(size=20));\n",
    "\n"
   ]
  },
  {
   "cell_type": "code",
   "execution_count": 26,
   "id": "0f1e109f",
   "metadata": {},
   "outputs": [
    {
     "name": "stderr",
     "output_type": "stream",
     "text": [
      "Scale for 'colour' is already present. Adding another scale for 'colour',\n",
      "which will replace the existing scale.\n"
     ]
    },
    {
     "data": {
      "image/png": "[encoded data removed]",
      "text/plain": [
       "plot without title"
      ]
     },
     "metadata": {},
     "output_type": "display_data"
    }
   ],
   "source": [
    "dfConcSim <- ggeffect(interaction_Conc.SemSim, terms = c(\"Sim\", \"LogFreqZipf\"));\n",
    "p <- plot(dfConcSim) +\n",
    "  labs(x=\"Predictability\", colour=\"Frequency\", title = \"FFD\") +\n",
    "  scale_color_discrete(labels = c(\"-1 SD\", \"Mean\", \"+1 SD\"));\n",
    "p + sjPlot::font_size(labels.y = 15) + theme(text=element_text(size=20));\n"
   ]
  },
  {
   "cell_type": "code",
   "execution_count": null,
   "id": "b8f32401",
   "metadata": {},
   "outputs": [],
   "source": []
  }
 ],
 "metadata": {
  "kernelspec": {
   "display_name": "R",
   "language": "R",
   "name": "ir"
  },
  "language_info": {
   "codemirror_mode": "r",
   "file_extension": ".r",
   "mimetype": "text/x-r-source",
   "name": "R",
   "pygments_lexer": "r",
   "version": "3.6.1"
  }
 },
 "nbformat": 4,
 "nbformat_minor": 5
}
