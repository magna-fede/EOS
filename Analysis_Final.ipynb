{
 "cells": [
  {
   "cell_type": "code",
   "execution_count": 1,
   "id": "d4d320d5",
   "metadata": {
    "scrolled": true
   },
   "outputs": [
    {
     "data": {
      "text/plain": [
       "               _                           \n",
       "platform       x86_64-w64-mingw32          \n",
       "arch           x86_64                      \n",
       "os             mingw32                     \n",
       "system         x86_64, mingw32             \n",
       "status                                     \n",
       "major          3                           \n",
       "minor          6.1                         \n",
       "year           2019                        \n",
       "month          07                          \n",
       "day            05                          \n",
       "svn rev        76782                       \n",
       "language       R                           \n",
       "version.string R version 3.6.1 (2019-07-05)\n",
       "nickname       Action of the Toes          "
      ]
     },
     "metadata": {},
     "output_type": "display_data"
    }
   ],
   "source": [
    "R.version"
   ]
  },
  {
   "cell_type": "code",
   "execution_count": 2,
   "id": "acdef3bf",
   "metadata": {
    "scrolled": true
   },
   "outputs": [
    {
     "name": "stderr",
     "output_type": "stream",
     "text": [
      "Warning message:\n",
      "\"package 'readxl' was built under R version 3.6.3\"Warning message:\n",
      "\"package 'lme4' was built under R version 3.6.2\"Loading required package: Matrix\n",
      "Warning message:\n",
      "\"package 'lmerTest' was built under R version 3.6.3\"\n",
      "Attaching package: 'lmerTest'\n",
      "\n",
      "The following object is masked from 'package:lme4':\n",
      "\n",
      "    lmer\n",
      "\n",
      "The following object is masked from 'package:stats':\n",
      "\n",
      "    step\n",
      "\n",
      "Warning message:\n",
      "\"package 'languageR' was built under R version 3.6.3\"Warning message:\n",
      "\"package 'BayesFactor' was built under R version 3.6.3\"Loading required package: coda\n",
      "Warning message:\n",
      "\"package 'coda' was built under R version 3.6.3\"************\n",
      "Welcome to BayesFactor 0.9.12-4.2. If you have questions, please contact Richard Morey (richarddmorey@gmail.com).\n",
      "\n",
      "Type BFManual() to open the manual.\n",
      "************\n",
      "Warning message:\n",
      "\"package 'ggeffects' was built under R version 3.6.2\"Warning message:\n",
      "\"package 'ggplot2' was built under R version 3.6.2\"Warning message:\n",
      "\"package 'performance' was built under R version 3.6.2\""
     ]
    }
   ],
   "source": [
    "library(readxl)\n",
    "library(lme4)\n",
    "library(lmerTest)\n",
    "library(languageR)\n",
    "library(lattice)\n",
    "library(BayesFactor)\n",
    "library(ggeffects)\n",
    "library(ggplot2)\n",
    "library(performance)"
   ]
  },
  {
   "cell_type": "code",
   "execution_count": 3,
   "id": "0ea45312",
   "metadata": {
    "scrolled": false
   },
   "outputs": [
    {
     "name": "stderr",
     "output_type": "stream",
     "text": [
      "Warning message:\n",
      "\"package 'easystats' was built under R version 3.6.2\"# Attaching packages: easystats 0.6.0 (red = needs update)\n",
      "x bayestestR  0.13.0   x correlation 0.8.3 \n",
      "x datawizard  0.6.5    x effectsize  0.8.2 \n",
      "x insight     0.18.8   v modelbased  0.8.6 \n",
      "x parameters  0.20.1   x report      0.5.5 \n",
      "x see         0.7.4    \n",
      "Restart the R-Session and update packages in red with `easystats::easystats_update()`.\n",
      "\n"
     ]
    }
   ],
   "source": [
    "library(easystats)"
   ]
  },
  {
   "cell_type": "code",
   "execution_count": 4,
   "id": "2fcfce86",
   "metadata": {
    "scrolled": true
   },
   "outputs": [
    {
     "data": {
      "text/plain": [
       "\n",
       "To cite easystats in publications use:\n",
       "\n",
       "  Lüdecke, Patil, Ben-Shachar, Wiernik, & Makowski (2022). easystats:\n",
       "  Framework for Easy Statistical Modeling, Visualization, and\n",
       "  Reporting. CRAN. Available from\n",
       "  https://easystats.github.io/easystats/\n",
       "\n",
       "A BibTeX entry for LaTeX users is\n",
       "\n",
       "  @Article{,\n",
       "    title = {easystats: Framework for Easy Statistical Modeling, Visualization, and Reporting},\n",
       "    author = {Daniel Lüdecke and Mattan S. Ben-Shachar and Indrajeet Patil and Brenton M. Wiernik and Dominique Makowski},\n",
       "    journal = {CRAN},\n",
       "    year = {2022},\n",
       "    note = {R package},\n",
       "    url = {https://easystats.github.io/easystats/},\n",
       "  }\n"
      ]
     },
     "metadata": {},
     "output_type": "display_data"
    }
   ],
   "source": [
    "citation('easystats')"
   ]
  },
  {
   "cell_type": "code",
   "execution_count": 5,
   "id": "122717c5",
   "metadata": {
    "scrolled": true
   },
   "outputs": [
    {
     "data": {
      "text/plain": [
       "\n",
       "Lüdecke D (????). _sjPlot: Data Visualization for Statistics in Social\n",
       "Science_. R package version 2.8.12, <URL:\n",
       "https://CRAN.R-project.org/package=sjPlot>.\n",
       "\n",
       "A BibTeX entry for LaTeX users is\n",
       "\n",
       "  @Manual{,\n",
       "    title = {sjPlot: Data Visualization for Statistics in Social Science},\n",
       "    author = {Daniel Lüdecke},\n",
       "    note = {R package version 2.8.12},\n",
       "    url = {https://CRAN.R-project.org/package=sjPlot},\n",
       "  }\n"
      ]
     },
     "metadata": {},
     "output_type": "display_data"
    }
   ],
   "source": [
    "citation('sjPlot')"
   ]
  },
  {
   "cell_type": "markdown",
   "id": "151bc9cf",
   "metadata": {},
   "source": [
    "Upolad data. Select only word that received a fixation (ms>0). Selection of fixation (>80 and <600 ms was done in preprocessing)."
   ]
  },
  {
   "cell_type": "markdown",
   "id": "d09dd0b0",
   "metadata": {},
   "source": [
    "# First Fixation Duration Results"
   ]
  },
  {
   "cell_type": "markdown",
   "id": "90e9c2dc",
   "metadata": {},
   "source": [
    "## Additive effect of Concreteness and Predictability "
   ]
  },
  {
   "cell_type": "code",
   "execution_count": 6,
   "id": "b70484cc",
   "metadata": {},
   "outputs": [],
   "source": [
    "FFD <- read.csv('//cbsu/data/Imaging/hauk/users/fm02/EOS_repo/EOS_EyeTrackingDataCollection/Data_Results/data_forR/norm_ffd_41_final.csv')\n",
    "FFD <- FFD[FFD$ms != 0, ]\n"
   ]
  },
  {
   "cell_type": "code",
   "execution_count": 7,
   "id": "d0ae16fa",
   "metadata": {},
   "outputs": [],
   "source": [
    "basic_FFD = lmer(ms ~ LogFreqZipf + LEN + Position +\n",
    "                          + (LogFreqZipf + Position || Subject) +\n",
    "                          +(1|ID), data=FFD,\n",
    "                       control=lmerControl(optimizer=\"bobyqa\", optCtrl=list(maxfun=50000)))\n"
   ]
  },
  {
   "cell_type": "code",
   "execution_count": 8,
   "id": "38448a78",
   "metadata": {
    "scrolled": true
   },
   "outputs": [
    {
     "data": {
      "text/plain": [
       "Linear mixed model fit by REML. t-tests use Satterthwaite's method [\n",
       "lmerModLmerTest]\n",
       "Formula: ms ~ LogFreqZipf + LEN + Position + +(LogFreqZipf + Position ||  \n",
       "    Subject) + +(1 | ID)\n",
       "   Data: FFD\n",
       "Control: lmerControl(optimizer = \"bobyqa\", optCtrl = list(maxfun = 50000))\n",
       "\n",
       "REML criterion at convergence: 123113.4\n",
       "\n",
       "Scaled residuals: \n",
       "    Min      1Q  Median      3Q     Max \n",
       "-2.6423 -0.6485 -0.1568  0.4674  5.5091 \n",
       "\n",
       "Random effects:\n",
       " Groups    Name        Variance Std.Dev.\n",
       " ID        (Intercept)  179.543 13.399  \n",
       " Subject   Position       5.845  2.418  \n",
       " Subject.1 LogFreqZipf   15.661  3.957  \n",
       " Subject.2 (Intercept)  587.786 24.244  \n",
       " Residual              4210.137 64.886  \n",
       "Number of obs: 10966, groups:  ID, 400; Subject, 40\n",
       "\n",
       "Fixed effects:\n",
       "            Estimate Std. Error       df t value Pr(>|t|)    \n",
       "(Intercept) 220.6161     3.9444  41.3212  55.931   <2e-16 ***\n",
       "LogFreqZipf  -2.8477     1.1126  88.7244  -2.559   0.0122 *  \n",
       "LEN           0.8027     0.9245 406.0266   0.868   0.3858    \n",
       "Position      2.2839     0.9987 101.3830   2.287   0.0243 *  \n",
       "---\n",
       "Signif. codes:  0 '***' 0.001 '**' 0.01 '*' 0.05 '.' 0.1 ' ' 1\n",
       "\n",
       "Correlation of Fixed Effects:\n",
       "            (Intr) LgFrqZ LEN   \n",
       "LogFreqZipf  0.002              \n",
       "LEN         -0.010  0.051       \n",
       "Position     0.001 -0.004  0.001"
      ]
     },
     "metadata": {},
     "output_type": "display_data"
    }
   ],
   "source": [
    "summary(basic_FFD)"
   ]
  },
  {
   "cell_type": "code",
   "execution_count": 9,
   "id": "cf2a35be",
   "metadata": {},
   "outputs": [],
   "source": [
    "additive_FFD = lmer(ms ~ LogFreqZipf + Position + LEN + Sim + ConcM +\n",
    "                          + (LogFreqZipf + Position + Sim + ConcM || Subject) +\n",
    "                          +(1|ID), data=FFD,\n",
    "                       control=lmerControl(optimizer=\"bobyqa\", optCtrl=list(maxfun=50000)))\n"
   ]
  },
  {
   "cell_type": "code",
   "execution_count": 10,
   "id": "5afda68b",
   "metadata": {},
   "outputs": [
    {
     "data": {
      "text/html": [
       "FALSE"
      ],
      "text/latex": [
       "FALSE"
      ],
      "text/markdown": [
       "FALSE"
      ],
      "text/plain": [
       "[1] FALSE"
      ]
     },
     "metadata": {},
     "output_type": "display_data"
    }
   ],
   "source": [
    "check_singularity(additive_FFD)"
   ]
  },
  {
   "cell_type": "code",
   "execution_count": 11,
   "id": "c252f15f",
   "metadata": {
    "scrolled": true
   },
   "outputs": [
    {
     "data": {
      "text/plain": [
       "Linear mixed model fit by REML. t-tests use Satterthwaite's method [\n",
       "lmerModLmerTest]\n",
       "Formula: ms ~ LogFreqZipf + Position + LEN + Sim + ConcM + +(LogFreqZipf +  \n",
       "    Position + Sim + ConcM || Subject) + +(1 | ID)\n",
       "   Data: FFD\n",
       "Control: lmerControl(optimizer = \"bobyqa\", optCtrl = list(maxfun = 50000))\n",
       "\n",
       "REML criterion at convergence: 123060.3\n",
       "\n",
       "Scaled residuals: \n",
       "    Min      1Q  Median      3Q     Max \n",
       "-2.6469 -0.6470 -0.1558  0.4655  5.4722 \n",
       "\n",
       "Random effects:\n",
       " Groups    Name        Variance Std.Dev.\n",
       " ID        (Intercept)  145.082 12.045  \n",
       " Subject   ConcM          6.815  2.611  \n",
       " Subject.1 Sim            5.133  2.266  \n",
       " Subject.2 Position       5.525  2.350  \n",
       " Subject.3 LogFreqZipf   15.198  3.898  \n",
       " Subject.4 (Intercept)  587.873 24.246  \n",
       " Residual              4198.950 64.799  \n",
       "Number of obs: 10966, groups:  ID, 400; Subject, 40\n",
       "\n",
       "Fixed effects:\n",
       "            Estimate Std. Error       df t value Pr(>|t|)    \n",
       "(Intercept) 220.5780     3.9336  40.8657  56.075  < 2e-16 ***\n",
       "LogFreqZipf  -1.7792     1.0791  81.3988  -1.649   0.1030    \n",
       "Position      2.1166     0.9499  88.5599   2.228   0.0284 *  \n",
       "LEN           0.3451     0.9003 403.3567   0.383   0.7017    \n",
       "Sim          -5.3707     0.9708  93.8250  -5.532 2.85e-07 ***\n",
       "ConcM        -2.0827     0.9983  97.6285  -2.086   0.0396 *  \n",
       "---\n",
       "Signif. codes:  0 '***' 0.001 '**' 0.01 '*' 0.05 '.' 0.1 ' ' 1\n",
       "\n",
       "Correlation of Fixed Effects:\n",
       "            (Intr) LgFrqZ Positn LEN    Sim   \n",
       "LogFreqZipf  0.001                            \n",
       "Position     0.001 -0.009                     \n",
       "LEN         -0.010  0.048  0.000              \n",
       "Sim          0.002 -0.136  0.027 -0.040       \n",
       "ConcM        0.000 -0.006 -0.003  0.211 -0.138"
      ]
     },
     "metadata": {},
     "output_type": "display_data"
    }
   ],
   "source": [
    "summary(additive_FFD)"
   ]
  },
  {
   "cell_type": "code",
   "execution_count": 12,
   "id": "20bccfdb",
   "metadata": {
    "scrolled": true
   },
   "outputs": [
    {
     "name": "stdout",
     "output_type": "stream",
     "text": [
      "# Fixed Effects\n",
      "\n",
      "Parameter   | Coefficient |   SE |           95% CI | t(10953) |      p\n",
      "-----------------------------------------------------------------------\n",
      "(Intercept) |      220.58 | 3.93 | [212.87, 228.29] |    56.08 | < .001\n",
      "LogFreqZipf |       -1.78 | 1.08 | [ -3.89,   0.34] |    -1.65 | 0.099 \n",
      "Position    |        2.12 | 0.95 | [  0.25,   3.98] |     2.23 | 0.026 \n",
      "LEN         |        0.35 | 0.90 | [ -1.42,   2.11] |     0.38 | 0.701 \n",
      "Sim         |       -5.37 | 0.97 | [ -7.27,  -3.47] |    -5.53 | < .001\n",
      "ConcM       |       -2.08 | 1.00 | [ -4.04,  -0.13] |    -2.09 | 0.037 \n",
      "\n",
      "# Random Effects\n",
      "\n",
      "Parameter                 | Coefficient\n",
      "---------------------------------------\n",
      "SD (Intercept: ID)        |       12.04\n",
      "SD (Intercept: Subject)   |       24.25\n",
      "SD (ConcM: Subject)       |        2.61\n",
      "SD (Sim: Subject)         |        2.27\n",
      "SD (Position: Subject)    |        2.35\n",
      "SD (LogFreqZipf: Subject) |        3.90\n",
      "SD (Residual)             |       64.80\n"
     ]
    },
    {
     "name": "stderr",
     "output_type": "stream",
     "text": [
      "\n",
      "Uncertainty intervals (equal-tailed) and p-values (two-tailed) computed\n",
      "  using a Wald t-distribution approximation.\n"
     ]
    }
   ],
   "source": [
    "print(parameters(additive_FFD), p_digits=3)"
   ]
  },
  {
   "cell_type": "code",
   "execution_count": 13,
   "id": "ecdfcbb3",
   "metadata": {},
   "outputs": [],
   "source": [
    "model_a <- lmer(ms ~ LogFreqZipf + Position + LEN + Sim + ConcM +\n",
    "                + (LogFreqZipf + Position + Sim + ConcM || Subject) +\n",
    "                          +(1|ID), data = FFD, REML = FALSE)"
   ]
  },
  {
   "cell_type": "code",
   "execution_count": 14,
   "id": "1601ddf5",
   "metadata": {},
   "outputs": [],
   "source": [
    "model_b <- lmer(ms ~ LogFreqZipf + Position + LEN + Sim +\n",
    "                + (LogFreqZipf + Position + Sim || Subject) +\n",
    "                          +(1|ID), data = FFD, REML = FALSE)"
   ]
  },
  {
   "cell_type": "code",
   "execution_count": 15,
   "id": "9a3f4065",
   "metadata": {},
   "outputs": [
    {
     "data": {
      "text/html": [
       "<table>\n",
       "<thead><tr><th></th><th scope=col>npar</th><th scope=col>AIC</th><th scope=col>BIC</th><th scope=col>logLik</th><th scope=col>deviance</th><th scope=col>Chisq</th><th scope=col>Df</th><th scope=col>Pr(&gt;Chisq)</th></tr></thead>\n",
       "<tbody>\n",
       "\t<tr><th scope=row>model_b</th><td>11        </td><td>123104.4  </td><td>123184.7  </td><td>-61541.19 </td><td>123082.4  </td><td>      NA  </td><td>NA        </td><td>        NA</td></tr>\n",
       "\t<tr><th scope=row>model_a</th><td>13        </td><td>123099.7  </td><td>123194.7  </td><td>-61536.86 </td><td>123073.7  </td><td>8.649641  </td><td> 2        </td><td>0.01323593</td></tr>\n",
       "</tbody>\n",
       "</table>\n"
      ],
      "text/latex": [
       "\\begin{tabular}{r|llllllll}\n",
       "  & npar & AIC & BIC & logLik & deviance & Chisq & Df & Pr(>Chisq)\\\\\n",
       "\\hline\n",
       "\tmodel\\_b & 11         & 123104.4   & 123184.7   & -61541.19  & 123082.4   &       NA   & NA         &         NA\\\\\n",
       "\tmodel\\_a & 13         & 123099.7   & 123194.7   & -61536.86  & 123073.7   & 8.649641   &  2         & 0.01323593\\\\\n",
       "\\end{tabular}\n"
      ],
      "text/markdown": [
       "\n",
       "| <!--/--> | npar | AIC | BIC | logLik | deviance | Chisq | Df | Pr(>Chisq) |\n",
       "|---|---|---|---|---|---|---|---|---|\n",
       "| model_b | 11         | 123104.4   | 123184.7   | -61541.19  | 123082.4   |       NA   | NA         |         NA |\n",
       "| model_a | 13         | 123099.7   | 123194.7   | -61536.86  | 123073.7   | 8.649641   |  2         | 0.01323593 |\n",
       "\n"
      ],
      "text/plain": [
       "        npar AIC      BIC      logLik    deviance Chisq    Df Pr(>Chisq)\n",
       "model_b 11   123104.4 123184.7 -61541.19 123082.4       NA NA         NA\n",
       "model_a 13   123099.7 123194.7 -61536.86 123073.7 8.649641  2 0.01323593"
      ]
     },
     "metadata": {},
     "output_type": "display_data"
    }
   ],
   "source": [
    "anova(model_a, model_b, \"LRT\")"
   ]
  },
  {
   "cell_type": "markdown",
   "id": "3d74cf12",
   "metadata": {},
   "source": [
    "### Include plausibility"
   ]
  },
  {
   "cell_type": "code",
   "execution_count": 16,
   "id": "d576a5bd",
   "metadata": {},
   "outputs": [],
   "source": [
    "additive_plaus_FFD = lmer(ms ~ LogFreqZipf + Position + LEN + Sim + ConcM + plausibility + \n",
    "                          + (LogFreqZipf + Position + Sim + ConcM + plausibility || Subject) +\n",
    "                        +(1|ID), data=FFD,\n",
    "                        control=lmerControl(optimizer=\"bobyqa\", optCtrl=list(maxfun=50000)))\n"
   ]
  },
  {
   "cell_type": "code",
   "execution_count": 17,
   "id": "98c78645",
   "metadata": {
    "scrolled": true
   },
   "outputs": [
    {
     "data": {
      "text/plain": [
       "Linear mixed model fit by REML. t-tests use Satterthwaite's method [\n",
       "lmerModLmerTest]\n",
       "Formula: ms ~ LogFreqZipf + Position + LEN + Sim + ConcM + plausibility +  \n",
       "    +(LogFreqZipf + Position + Sim + ConcM + plausibility ||  \n",
       "        Subject) + +(1 | ID)\n",
       "   Data: FFD\n",
       "Control: lmerControl(optimizer = \"bobyqa\", optCtrl = list(maxfun = 50000))\n",
       "\n",
       "REML criterion at convergence: 123047\n",
       "\n",
       "Scaled residuals: \n",
       "    Min      1Q  Median      3Q     Max \n",
       "-2.6596 -0.6503 -0.1551  0.4676  5.4852 \n",
       "\n",
       "Random effects:\n",
       " Groups    Name         Variance Std.Dev.\n",
       " ID        (Intercept)   141.755 11.906  \n",
       " Subject   plausibility   11.672  3.416  \n",
       " Subject.1 ConcM           6.471  2.544  \n",
       " Subject.2 Sim             1.208  1.099  \n",
       " Subject.3 Position        5.529  2.351  \n",
       " Subject.4 LogFreqZipf    15.121  3.889  \n",
       " Subject.5 (Intercept)   588.660 24.262  \n",
       " Residual               4191.712 64.743  \n",
       "Number of obs: 10966, groups:  ID, 400; Subject, 40\n",
       "\n",
       "Fixed effects:\n",
       "             Estimate Std. Error       df t value Pr(>|t|)    \n",
       "(Intercept)  220.5747     3.9350  40.8195  56.055  < 2e-16 ***\n",
       "LogFreqZipf   -1.6814     1.0746  80.5578  -1.565 0.121581    \n",
       "Position       2.0757     0.9455  87.0148   2.195 0.030800 *  \n",
       "LEN            0.3910     0.8954 402.9143   0.437 0.662594    \n",
       "Sim           -3.8794     1.1161 142.3633  -3.476 0.000675 ***\n",
       "ConcM         -2.6283     1.0140 105.3066  -2.592 0.010895 *  \n",
       "plausibility  -2.5743     1.2145 124.2852  -2.120 0.036030 *  \n",
       "---\n",
       "Signif. codes:  0 '***' 0.001 '**' 0.01 '*' 0.05 '.' 0.1 ' ' 1\n",
       "\n",
       "Correlation of Fixed Effects:\n",
       "            (Intr) LgFrqZ Positn LEN    Sim    ConcM \n",
       "LogFreqZipf  0.001                                   \n",
       "Position     0.001 -0.009                            \n",
       "LEN         -0.011  0.049 -0.001                     \n",
       "Sim          0.002 -0.096  0.012 -0.017              \n",
       "ConcM        0.000 -0.014  0.002  0.200 -0.244       \n",
       "plausibilty  0.000 -0.034  0.019 -0.026 -0.515  0.197"
      ]
     },
     "metadata": {},
     "output_type": "display_data"
    }
   ],
   "source": [
    "summary(additive_plaus_FFD)"
   ]
  },
  {
   "cell_type": "code",
   "execution_count": 18,
   "id": "c5cd2e22",
   "metadata": {
    "scrolled": true
   },
   "outputs": [
    {
     "name": "stdout",
     "output_type": "stream",
     "text": [
      "# Fixed Effects\n",
      "\n",
      "Parameter    | Coefficient |   SE |           95% CI | t(10951) |        p\n",
      "--------------------------------------------------------------------------\n",
      "(Intercept)  |      220.57 | 3.93 | [212.86, 228.29] |    56.05 | < .001  \n",
      "LogFreqZipf  |       -1.68 | 1.07 | [ -3.79,   0.43] |    -1.56 | 0.12    \n",
      "Position     |        2.08 | 0.95 | [  0.22,   3.93] |     2.20 | 0.03    \n",
      "LEN          |        0.39 | 0.90 | [ -1.36,   2.15] |     0.44 | 0.66    \n",
      "Sim          |       -3.88 | 1.12 | [ -6.07,  -1.69] |    -3.48 | < .001  \n",
      "ConcM        |       -2.63 | 1.01 | [ -4.62,  -0.64] |    -2.59 | 9.55e-03\n",
      "plausibility |       -2.57 | 1.21 | [ -4.95,  -0.19] |    -2.12 | 0.03    \n",
      "\n",
      "# Random Effects\n",
      "\n",
      "Parameter                  | Coefficient\n",
      "----------------------------------------\n",
      "SD (Intercept: ID)         |       11.91\n",
      "SD (Intercept: Subject)    |       24.26\n",
      "SD (plausibility: Subject) |        3.42\n",
      "SD (ConcM: Subject)        |        2.54\n",
      "SD (Sim: Subject)          |        1.10\n",
      "SD (Position: Subject)     |        2.35\n",
      "SD (LogFreqZipf: Subject)  |        3.89\n",
      "SD (Residual)              |       64.74\n"
     ]
    },
    {
     "name": "stderr",
     "output_type": "stream",
     "text": [
      "\n",
      "Uncertainty intervals (equal-tailed) and p-values (two-tailed) computed\n",
      "  using a Wald t-distribution approximation.\n"
     ]
    }
   ],
   "source": [
    "print(parameters(additive_plaus_FFD), p_digits=2)"
   ]
  },
  {
   "cell_type": "code",
   "execution_count": 19,
   "id": "c5501fd5",
   "metadata": {},
   "outputs": [
    {
     "name": "stderr",
     "output_type": "stream",
     "text": [
      "refitting model(s) with ML (instead of REML)\n"
     ]
    },
    {
     "data": {
      "text/html": [
       "<table>\n",
       "<thead><tr><th></th><th scope=col>npar</th><th scope=col>AIC</th><th scope=col>BIC</th><th scope=col>logLik</th><th scope=col>deviance</th><th scope=col>Chisq</th><th scope=col>Df</th><th scope=col>Pr(&gt;Chisq)</th></tr></thead>\n",
       "<tbody>\n",
       "\t<tr><th scope=row>additive_FFD</th><td>13         </td><td>123099.7   </td><td>123194.7   </td><td>-61536.86  </td><td>123073.7   </td><td>     NA    </td><td>NA         </td><td>         NA</td></tr>\n",
       "\t<tr><th scope=row>additive_plaus_FFD</th><td>15         </td><td>123092.6   </td><td>123202.1   </td><td>-61531.28  </td><td>123062.6   </td><td>11.1769    </td><td> 2         </td><td>0.003740824</td></tr>\n",
       "</tbody>\n",
       "</table>\n"
      ],
      "text/latex": [
       "\\begin{tabular}{r|llllllll}\n",
       "  & npar & AIC & BIC & logLik & deviance & Chisq & Df & Pr(>Chisq)\\\\\n",
       "\\hline\n",
       "\tadditive\\_FFD & 13          & 123099.7    & 123194.7    & -61536.86   & 123073.7    &      NA     & NA          &          NA\\\\\n",
       "\tadditive\\_plaus\\_FFD & 15          & 123092.6    & 123202.1    & -61531.28   & 123062.6    & 11.1769     &  2          & 0.003740824\\\\\n",
       "\\end{tabular}\n"
      ],
      "text/markdown": [
       "\n",
       "| <!--/--> | npar | AIC | BIC | logLik | deviance | Chisq | Df | Pr(>Chisq) |\n",
       "|---|---|---|---|---|---|---|---|---|\n",
       "| additive_FFD | 13          | 123099.7    | 123194.7    | -61536.86   | 123073.7    |      NA     | NA          |          NA |\n",
       "| additive_plaus_FFD | 15          | 123092.6    | 123202.1    | -61531.28   | 123062.6    | 11.1769     |  2          | 0.003740824 |\n",
       "\n"
      ],
      "text/plain": [
       "                   npar AIC      BIC      logLik    deviance Chisq   Df\n",
       "additive_FFD       13   123099.7 123194.7 -61536.86 123073.7      NA NA\n",
       "additive_plaus_FFD 15   123092.6 123202.1 -61531.28 123062.6 11.1769  2\n",
       "                   Pr(>Chisq) \n",
       "additive_FFD                NA\n",
       "additive_plaus_FFD 0.003740824"
      ]
     },
     "metadata": {},
     "output_type": "display_data"
    }
   ],
   "source": [
    "anova(additive_FFD, additive_plaus_FFD, \"LRT\")"
   ]
  },
  {
   "cell_type": "markdown",
   "id": "053dd50b",
   "metadata": {},
   "source": [
    "## Interaction in FFD\n"
   ]
  },
  {
   "cell_type": "code",
   "execution_count": 20,
   "id": "3906d279",
   "metadata": {},
   "outputs": [
    {
     "name": "stderr",
     "output_type": "stream",
     "text": [
      "boundary (singular) fit: see ?isSingular\n"
     ]
    }
   ],
   "source": [
    "interactive_FFD = lmer(ms ~ LogFreqZipf + Position + LEN + Sim * ConcM +\n",
    "                          + (LogFreqZipf + Position + Sim * ConcM || Subject) +\n",
    "                          +(1|ID), data=FFD,\n",
    "                       control=lmerControl(optimizer=\"bobyqa\", optCtrl=list(maxfun=50000)))\n"
   ]
  },
  {
   "cell_type": "code",
   "execution_count": 21,
   "id": "71b2a31a",
   "metadata": {
    "scrolled": true
   },
   "outputs": [
    {
     "name": "stdout",
     "output_type": "stream",
     "text": [
      "# Fixed Effects\n",
      "\n",
      "Parameter   | Coefficient |   SE |           95% CI | t(10951) |      p\n",
      "-----------------------------------------------------------------------\n",
      "(Intercept) |      220.70 | 3.94 | [212.98, 228.41] |    56.06 | < .001\n",
      "LogFreqZipf |       -1.81 | 1.08 | [ -3.93,   0.30] |    -1.68 | 0.093 \n",
      "Position    |        2.04 | 0.96 | [  0.17,   3.91] |     2.14 | 0.033 \n",
      "LEN         |        0.32 | 0.90 | [ -1.45,   2.09] |     0.36 | 0.723 \n",
      "Sim         |       -5.26 | 0.98 | [ -7.18,  -3.33] |    -5.35 | < .001\n",
      "ConcM       |       -2.07 | 1.00 | [ -4.03,  -0.11] |    -2.07 | 0.038 \n",
      "Sim * ConcM |       -0.71 | 0.90 | [ -2.47,   1.05] |    -0.79 | 0.429 \n",
      "\n",
      "# Random Effects\n",
      "\n",
      "Parameter                 | Coefficient\n",
      "---------------------------------------\n",
      "SD (Intercept: ID)        |       12.06\n",
      "SD (Intercept: Subject)   |       24.25\n",
      "SD (Sim:ConcM: Subject)   |        0.00\n",
      "SD (ConcM: Subject)       |        2.61\n",
      "SD (Sim: Subject)         |        2.27\n",
      "SD (Position: Subject)    |        2.35\n",
      "SD (LogFreqZipf: Subject) |        3.90\n",
      "SD (Residual)             |       64.80\n"
     ]
    },
    {
     "name": "stderr",
     "output_type": "stream",
     "text": [
      "\n",
      "Uncertainty intervals (equal-tailed) and p-values (two-tailed) computed\n",
      "  using a Wald t-distribution approximation.\n"
     ]
    }
   ],
   "source": [
    "print(parameters(interactive_FFD), p_digits=3)"
   ]
  },
  {
   "cell_type": "code",
   "execution_count": 22,
   "id": "dc8f5de4",
   "metadata": {},
   "outputs": [
    {
     "data": {
      "text/html": [
       "TRUE"
      ],
      "text/latex": [
       "TRUE"
      ],
      "text/markdown": [
       "TRUE"
      ],
      "text/plain": [
       "[1] TRUE"
      ]
     },
     "metadata": {},
     "output_type": "display_data"
    }
   ],
   "source": [
    "check_singularity(interactive_FFD)"
   ]
  },
  {
   "cell_type": "markdown",
   "id": "254110ee",
   "metadata": {},
   "source": [
    "Random effect Predictability:Concreteness had variance=0 (likely because there is no interactive effect between Predictability and Concreteness).\n",
    "\n",
    "We remove it to avoid singularity."
   ]
  },
  {
   "cell_type": "code",
   "execution_count": 23,
   "id": "1ca9677f",
   "metadata": {},
   "outputs": [],
   "source": [
    "interactive_FFD = lmer(ms ~ LogFreqZipf + Position + LEN + Sim * ConcM +\n",
    "                          + (LogFreqZipf + Position + Sim + ConcM || Subject) +\n",
    "                          +(1|ID), data=FFD,\n",
    "                       control=lmerControl(optimizer=\"bobyqa\", optCtrl=list(maxfun=50000)))"
   ]
  },
  {
   "cell_type": "code",
   "execution_count": 24,
   "id": "1bf2bfe7",
   "metadata": {
    "scrolled": true
   },
   "outputs": [
    {
     "name": "stdout",
     "output_type": "stream",
     "text": [
      "# Fixed Effects\n",
      "\n",
      "Parameter   | Coefficient |   SE |           95% CI | t(10952) |      p\n",
      "-----------------------------------------------------------------------\n",
      "(Intercept) |      220.70 | 3.94 | [212.98, 228.41] |    56.06 | < .001\n",
      "LogFreqZipf |       -1.81 | 1.08 | [ -3.93,   0.30] |    -1.68 | 0.093 \n",
      "Position    |        2.04 | 0.96 | [  0.17,   3.91] |     2.14 | 0.033 \n",
      "LEN         |        0.32 | 0.90 | [ -1.45,   2.09] |     0.36 | 0.723 \n",
      "Sim         |       -5.26 | 0.98 | [ -7.18,  -3.33] |    -5.35 | < .001\n",
      "ConcM       |       -2.07 | 1.00 | [ -4.03,  -0.11] |    -2.07 | 0.038 \n",
      "Sim * ConcM |       -0.71 | 0.90 | [ -2.47,   1.05] |    -0.79 | 0.429 \n",
      "\n",
      "# Random Effects\n",
      "\n",
      "Parameter                 | Coefficient\n",
      "---------------------------------------\n",
      "SD (Intercept: ID)        |       12.06\n",
      "SD (Intercept: Subject)   |       24.25\n",
      "SD (ConcM: Subject)       |        2.61\n",
      "SD (Sim: Subject)         |        2.27\n",
      "SD (Position: Subject)    |        2.35\n",
      "SD (LogFreqZipf: Subject) |        3.90\n",
      "SD (Residual)             |       64.80\n"
     ]
    },
    {
     "name": "stderr",
     "output_type": "stream",
     "text": [
      "\n",
      "Uncertainty intervals (equal-tailed) and p-values (two-tailed) computed\n",
      "  using a Wald t-distribution approximation.\n"
     ]
    }
   ],
   "source": [
    "print(parameters(interactive_FFD), p_digits=3)"
   ]
  },
  {
   "cell_type": "markdown",
   "id": "f21f46af",
   "metadata": {},
   "source": [
    "### Include plausibility"
   ]
  },
  {
   "cell_type": "code",
   "execution_count": 25,
   "id": "f8a96697",
   "metadata": {},
   "outputs": [],
   "source": [
    "interactive_plaus_FFD = lmer(ms ~ LogFreqZipf +  Position + LEN + Sim * ConcM + plausibility + \n",
    "                          + (LogFreqZipf + Position + Sim + ConcM + plausibility || Subject) +\n",
    "                        +(1|ID), data=FFD,\n",
    "                        control=lmerControl(optimizer=\"bobyqa\", optCtrl=list(maxfun=50000)))"
   ]
  },
  {
   "cell_type": "code",
   "execution_count": 26,
   "id": "d70dcaba",
   "metadata": {
    "scrolled": false
   },
   "outputs": [
    {
     "name": "stdout",
     "output_type": "stream",
     "text": [
      "# Fixed Effects\n",
      "\n",
      "Parameter    | Coefficient |   SE |           95% CI | t(10950) |      p\n",
      "------------------------------------------------------------------------\n",
      "(Intercept)  |      220.65 | 3.94 | [212.93, 228.37] |    56.03 | < .001\n",
      "LogFreqZipf  |       -1.71 | 1.08 | [ -3.82,   0.40] |    -1.59 | 0.11  \n",
      "Position     |        2.03 | 0.95 | [  0.16,   3.89] |     2.13 | 0.03  \n",
      "LEN          |        0.37 | 0.90 | [ -1.39,   2.13] |     0.42 | 0.68  \n",
      "Sim          |       -3.84 | 1.12 | [ -6.04,  -1.65] |    -3.43 | < .001\n",
      "ConcM        |       -2.61 | 1.02 | [ -4.60,  -0.61] |    -2.56 | 0.01  \n",
      "plausibility |       -2.51 | 1.22 | [ -4.90,  -0.11] |    -2.05 | 0.04  \n",
      "Sim * ConcM  |       -0.47 | 0.90 | [ -2.23,   1.29] |    -0.52 | 0.60  \n",
      "\n",
      "# Random Effects\n",
      "\n",
      "Parameter                  | Coefficient\n",
      "----------------------------------------\n",
      "SD (Intercept: ID)         |       11.93\n",
      "SD (Intercept: Subject)    |       24.26\n",
      "SD (plausibility: Subject) |        3.42\n",
      "SD (ConcM: Subject)        |        2.54\n",
      "SD (Sim: Subject)          |        1.11\n",
      "SD (Position: Subject)     |        2.35\n",
      "SD (LogFreqZipf: Subject)  |        3.89\n",
      "SD (Residual)              |       64.74\n"
     ]
    },
    {
     "name": "stderr",
     "output_type": "stream",
     "text": [
      "\n",
      "Uncertainty intervals (equal-tailed) and p-values (two-tailed) computed\n",
      "  using a Wald t-distribution approximation.\n"
     ]
    }
   ],
   "source": [
    "print(parameters(interactive_plaus_FFD), p_digits=2)"
   ]
  },
  {
   "cell_type": "code",
   "execution_count": 27,
   "id": "5f90b94c",
   "metadata": {},
   "outputs": [
    {
     "name": "stderr",
     "output_type": "stream",
     "text": [
      "refitting model(s) with ML (instead of REML)\n"
     ]
    },
    {
     "data": {
      "text/html": [
       "<table>\n",
       "<thead><tr><th></th><th scope=col>npar</th><th scope=col>AIC</th><th scope=col>BIC</th><th scope=col>logLik</th><th scope=col>deviance</th><th scope=col>Chisq</th><th scope=col>Df</th><th scope=col>Pr(&gt;Chisq)</th></tr></thead>\n",
       "<tbody>\n",
       "\t<tr><th scope=row>interactive_FFD</th><td>14         </td><td>123101.1   </td><td>123203.3   </td><td>-61536.55  </td><td>123073.1   </td><td>      NA   </td><td>NA         </td><td>         NA</td></tr>\n",
       "\t<tr><th scope=row>interactive_plaus_FFD</th><td>16         </td><td>123094.3   </td><td>123211.1   </td><td>-61531.14  </td><td>123062.3   </td><td>10.82227   </td><td> 2         </td><td>0.004466577</td></tr>\n",
       "</tbody>\n",
       "</table>\n"
      ],
      "text/latex": [
       "\\begin{tabular}{r|llllllll}\n",
       "  & npar & AIC & BIC & logLik & deviance & Chisq & Df & Pr(>Chisq)\\\\\n",
       "\\hline\n",
       "\tinteractive\\_FFD & 14          & 123101.1    & 123203.3    & -61536.55   & 123073.1    &       NA    & NA          &          NA\\\\\n",
       "\tinteractive\\_plaus\\_FFD & 16          & 123094.3    & 123211.1    & -61531.14   & 123062.3    & 10.82227    &  2          & 0.004466577\\\\\n",
       "\\end{tabular}\n"
      ],
      "text/markdown": [
       "\n",
       "| <!--/--> | npar | AIC | BIC | logLik | deviance | Chisq | Df | Pr(>Chisq) |\n",
       "|---|---|---|---|---|---|---|---|---|\n",
       "| interactive_FFD | 14          | 123101.1    | 123203.3    | -61536.55   | 123073.1    |       NA    | NA          |          NA |\n",
       "| interactive_plaus_FFD | 16          | 123094.3    | 123211.1    | -61531.14   | 123062.3    | 10.82227    |  2          | 0.004466577 |\n",
       "\n"
      ],
      "text/plain": [
       "                      npar AIC      BIC      logLik    deviance Chisq    Df\n",
       "interactive_FFD       14   123101.1 123203.3 -61536.55 123073.1       NA NA\n",
       "interactive_plaus_FFD 16   123094.3 123211.1 -61531.14 123062.3 10.82227  2\n",
       "                      Pr(>Chisq) \n",
       "interactive_FFD                NA\n",
       "interactive_plaus_FFD 0.004466577"
      ]
     },
     "metadata": {},
     "output_type": "display_data"
    }
   ],
   "source": [
    "anova(interactive_FFD, interactive_plaus_FFD)"
   ]
  },
  {
   "cell_type": "markdown",
   "id": "b7670562",
   "metadata": {},
   "source": [
    "The above shows that adding plausibility (and plausibility:subject random slope) as a predictor significantly improved fit (p<0.01)."
   ]
  },
  {
   "cell_type": "code",
   "execution_count": 28,
   "id": "ca4cbfba",
   "metadata": {},
   "outputs": [],
   "source": [
    "sjPlot::tab_model(interactive_FFD, pred.labels = c('Intercept',\n",
    "                                                    'Frequency (Zipf)',\n",
    "                                                    'Position',\n",
    "                                                    'Length',\n",
    "                                                    'Predictability',\n",
    "                                                    'Concreteness',\n",
    "                                                    'Predictability*Concreteness'))"
   ]
  },
  {
   "cell_type": "code",
   "execution_count": 29,
   "id": "8377504b",
   "metadata": {},
   "outputs": [
    {
     "data": {
      "image/png": "[encoded data removed]",
      "text/plain": [
       "plot without title"
      ]
     },
     "metadata": {},
     "output_type": "display_data"
    }
   ],
   "source": [
    "sjPlot::plot_model(interactive_FFD, axis.labels = c('Predictability*Concreteness',\n",
    "                                                            'Concreteness',\n",
    "                                                            'Predictability',\n",
    "                                                            'Length',\n",
    "                                                            'Position',\n",
    "                                                            'Frequency (Zipf)',\n",
    "                                                            'Intercept'\n",
    "                                                           ))"
   ]
  },
  {
   "cell_type": "code",
   "execution_count": 30,
   "id": "88dc26f8",
   "metadata": {
    "scrolled": false
   },
   "outputs": [
    {
     "name": "stderr",
     "output_type": "stream",
     "text": [
      "Scale for colour is already present.\n",
      "Adding another scale for colour, which will replace the existing scale."
     ]
    },
    {
     "data": {
      "image/png": "[encoded data removed]",
      "text/plain": [
       "plot without title"
      ]
     },
     "metadata": {},
     "output_type": "display_data"
    }
   ],
   "source": [
    "dfConcSim <- ggeffect(interactive_FFD, terms = c(\"Sim\", \"ConcM\"))\n",
    "plot(dfConcSim) +\n",
    "  labs(x=\"Predictability\",\n",
    "       colour=\"Concreteness\",\n",
    "       title = \"Predictability * Concreteness\") +\n",
    "  scale_color_discrete(labels = c(\"-1 SD\", \"Mean\", \"+1 SD\")) +\n",
    "  theme_ggeffects(base_size = 20, base_family = \"\")\n"
   ]
  },
  {
   "cell_type": "code",
   "execution_count": 31,
   "id": "d8e7869f",
   "metadata": {
    "scrolled": false
   },
   "outputs": [
    {
     "name": "stderr",
     "output_type": "stream",
     "text": [
      "Scale for colour is already present.\n",
      "Adding another scale for colour, which will replace the existing scale."
     ]
    },
    {
     "data": {
      "image/png": "[encoded data removed]",
      "text/plain": [
       "plot without title"
      ]
     },
     "metadata": {},
     "output_type": "display_data"
    }
   ],
   "source": [
    "dfFreqSim <- ggeffect(interactive_FFD, terms = c(\"Sim\", \"LogFreqZipf\"))\n",
    "plot(dfFreqSim) +\n",
    "  labs(x=\"Predictability\",\n",
    "       colour=\"Frequency\",\n",
    "       title = \"Predictability * Frequency\") +\n",
    "  scale_color_discrete(labels = c(\"-1 SD\", \"Mean\", \"+1 SD\")) +\n",
    "  theme_ggeffects(base_size = 20, base_family = \"\")"
   ]
  },
  {
   "cell_type": "code",
   "execution_count": 32,
   "id": "dbc49bc1",
   "metadata": {},
   "outputs": [],
   "source": [
    "sjPlot::tab_model(interactive_plaus_FFD, pred.labels = c('Intercept',\n",
    "                                                    'Frequency (Zipf)',\n",
    "                                                    'Position',\n",
    "                                                    'Lenght',\n",
    "                                                    'Predictability',\n",
    "                                                    'Concreteness',\n",
    "                                                    'Plausibility',\n",
    "                                                    'Predictability*Concreteness'))"
   ]
  },
  {
   "cell_type": "markdown",
   "id": "ff903cfa",
   "metadata": {},
   "source": [
    "# Exploratory analysis in FFD"
   ]
  },
  {
   "cell_type": "markdown",
   "id": "e51d1acd",
   "metadata": {},
   "source": [
    "## Age effects"
   ]
  },
  {
   "cell_type": "code",
   "execution_count": 33,
   "id": "c0156eb8",
   "metadata": {},
   "outputs": [
    {
     "name": "stderr",
     "output_type": "stream",
     "text": [
      "boundary (singular) fit: see ?isSingular\n"
     ]
    }
   ],
   "source": [
    "additive_plaus_FFD_age = lmer(ms ~ LogFreqZipf + Position + LEN + Sim + ConcM + plausibility + Age +\n",
    "                          + (LogFreqZipf + Position + Sim + ConcM + plausibility + Age || Subject) +\n",
    "                        +(1|ID), data=FFD,\n",
    "                        control=lmerControl(optimizer=\"bobyqa\", optCtrl=list(maxfun=50000)))"
   ]
  },
  {
   "cell_type": "code",
   "execution_count": 34,
   "id": "37990cc9",
   "metadata": {},
   "outputs": [
    {
     "data": {
      "text/html": [
       "TRUE"
      ],
      "text/latex": [
       "TRUE"
      ],
      "text/markdown": [
       "TRUE"
      ],
      "text/plain": [
       "[1] TRUE"
      ]
     },
     "metadata": {},
     "output_type": "display_data"
    }
   ],
   "source": [
    "check_singularity(additive_plaus_FFD_age)"
   ]
  },
  {
   "cell_type": "code",
   "execution_count": 35,
   "id": "3e0c9a0b",
   "metadata": {
    "scrolled": false
   },
   "outputs": [
    {
     "name": "stdout",
     "output_type": "stream",
     "text": [
      "# Fixed Effects\n",
      "\n",
      "Parameter    | Coefficient |    SE |           95% CI | t(10949) |        p\n",
      "---------------------------------------------------------------------------\n",
      "(Intercept)  |      207.63 | 11.86 | [184.38, 230.89] |    17.50 | < .001  \n",
      "LogFreqZipf  |       -1.68 |  1.07 | [ -3.79,   0.43] |    -1.56 | 0.12    \n",
      "Position     |        2.08 |  0.95 | [  0.22,   3.93] |     2.20 | 0.03    \n",
      "LEN          |        0.39 |  0.90 | [ -1.36,   2.15] |     0.44 | 0.66    \n",
      "Sim          |       -3.88 |  1.12 | [ -6.07,  -1.69] |    -3.48 | < .001  \n",
      "ConcM        |       -2.63 |  1.01 | [ -4.62,  -0.64] |    -2.59 | 9.54e-03\n",
      "plausibility |       -2.57 |  1.21 | [ -4.95,  -0.19] |    -2.12 | 0.03    \n",
      "Age          |        0.45 |  0.39 | [ -0.32,   1.22] |     1.16 | 0.25    \n",
      "\n",
      "# Random Effects\n",
      "\n",
      "Parameter                  | Coefficient\n",
      "----------------------------------------\n",
      "SD (Intercept: ID)         |       11.91\n",
      "SD (Intercept: Subject)    |       24.16\n",
      "SD (Age: Subject)          |        0.00\n",
      "SD (plausibility: Subject) |        3.42\n",
      "SD (ConcM: Subject)        |        2.54\n",
      "SD (Sim: Subject)          |        1.10\n",
      "SD (Position: Subject)     |        2.35\n",
      "SD (LogFreqZipf: Subject)  |        3.89\n",
      "SD (Residual)              |       64.74\n"
     ]
    },
    {
     "name": "stderr",
     "output_type": "stream",
     "text": [
      "\n",
      "Uncertainty intervals (equal-tailed) and p-values (two-tailed) computed\n",
      "  using a Wald t-distribution approximation.\n"
     ]
    }
   ],
   "source": [
    "print(parameters(additive_plaus_FFD_age, p_digits=2))"
   ]
  },
  {
   "cell_type": "markdown",
   "id": "d456f03b",
   "metadata": {},
   "source": [
    "Age does not seem to affect FFD (also, variance of the random effect Age:Subjects is very close to zero.)"
   ]
  },
  {
   "cell_type": "markdown",
   "id": "b036ae18",
   "metadata": {},
   "source": [
    "## Single-word semantic effects"
   ]
  },
  {
   "cell_type": "markdown",
   "id": "11b28467",
   "metadata": {},
   "source": [
    "### Sensorimotor Strength\n",
    "\n",
    "Test whether sensorimotor strength is a better predictor than concreteness."
   ]
  },
  {
   "cell_type": "code",
   "execution_count": 36,
   "id": "62ad919e",
   "metadata": {},
   "outputs": [],
   "source": [
    "additive_sm_FFD = lmer(ms ~ LogFreqZipf + Position + LEN + Sim + mink3_SM + plausibility +\n",
    "                          + (LogFreqZipf + Position + Sim + mink3_SM + plausibility || Subject) +\n",
    "                        +(1|ID), data=FFD,\n",
    "                        control=lmerControl(optimizer=\"bobyqa\", optCtrl=list(maxfun=50000)))"
   ]
  },
  {
   "cell_type": "code",
   "execution_count": 37,
   "id": "5d85a1cb",
   "metadata": {
    "scrolled": false
   },
   "outputs": [
    {
     "data": {
      "text/plain": [
       "Linear mixed model fit by REML. t-tests use Satterthwaite's method [\n",
       "lmerModLmerTest]\n",
       "Formula: ms ~ LogFreqZipf + Position + LEN + Sim + mink3_SM + plausibility +  \n",
       "    +(LogFreqZipf + Position + Sim + mink3_SM + plausibility ||  \n",
       "        Subject) + +(1 | ID)\n",
       "   Data: FFD\n",
       "Control: lmerControl(optimizer = \"bobyqa\", optCtrl = list(maxfun = 50000))\n",
       "\n",
       "REML criterion at convergence: 123056.1\n",
       "\n",
       "Scaled residuals: \n",
       "    Min      1Q  Median      3Q     Max \n",
       "-2.6528 -0.6490 -0.1593  0.4720  5.5196 \n",
       "\n",
       "Random effects:\n",
       " Groups    Name         Variance Std.Dev.\n",
       " ID        (Intercept)   146.870 12.119  \n",
       " Subject   plausibility   11.866  3.445  \n",
       " Subject.1 mink3_SM        2.701  1.643  \n",
       " Subject.2 Sim             1.151  1.073  \n",
       " Subject.3 Position        5.683  2.384  \n",
       " Subject.4 LogFreqZipf    15.263  3.907  \n",
       " Subject.5 (Intercept)   588.335 24.256  \n",
       " Residual               4195.195 64.770  \n",
       "Number of obs: 10966, groups:  ID, 400; Subject, 40\n",
       "\n",
       "Fixed effects:\n",
       "             Estimate Std. Error       df t value Pr(>|t|)    \n",
       "(Intercept)  220.5598     3.9356  40.8896  56.042  < 2e-16 ***\n",
       "LogFreqZipf   -1.5966     1.0876  83.0701  -1.468 0.145867    \n",
       "Position       2.0728     0.9545  88.8112   2.172 0.032556 *  \n",
       "LEN            0.9935     0.8816 403.2766   1.127 0.260450    \n",
       "Sim           -4.4073     1.1138 143.4266  -3.957 0.000119 ***\n",
       "mink3_SM      -1.1686     0.9426 109.1553  -1.240 0.217701    \n",
       "plausibility  -2.0982     1.2159 124.2962  -1.726 0.086905 .  \n",
       "---\n",
       "Signif. codes:  0 '***' 0.001 '**' 0.01 '*' 0.05 '.' 0.1 ' ' 1\n",
       "\n",
       "Correlation of Fixed Effects:\n",
       "            (Intr) LgFrqZ Positn LEN    Sim    mn3_SM\n",
       "LogFreqZipf  0.001                                   \n",
       "Position     0.001 -0.010                            \n",
       "LEN         -0.011  0.055 -0.001                     \n",
       "Sim          0.002 -0.078  0.011  0.047              \n",
       "mink3_SM     0.001 -0.093  0.005 -0.021 -0.219       \n",
       "plausibilty  0.000 -0.048  0.019 -0.080 -0.507  0.172"
      ]
     },
     "metadata": {},
     "output_type": "display_data"
    }
   ],
   "source": [
    "summary(additive_sm_FFD)"
   ]
  },
  {
   "cell_type": "markdown",
   "id": "ca5d3943",
   "metadata": {},
   "source": [
    "Sensorimotor strength does not seem to predict FFD."
   ]
  },
  {
   "cell_type": "markdown",
   "id": "84dc6565",
   "metadata": {},
   "source": [
    "### Semantic Diversity\n",
    "\n",
    "Test whether semantic diversity is a better predictor than concreteness."
   ]
  },
  {
   "cell_type": "code",
   "execution_count": 38,
   "id": "bf8c7234",
   "metadata": {},
   "outputs": [],
   "source": [
    "FFD_semd <- read.csv('//cbsu/data/Imaging/hauk/users/fm02/EOS_repo/EOS_EyeTrackingDataCollection/Data_Results/data_forR/norm_ffd_41_withSemDAoA.csv')\n",
    "FFD_semd <- FFD_semd[FFD_semd$ms != 0, ]"
   ]
  },
  {
   "cell_type": "code",
   "execution_count": 39,
   "id": "d5bf5109",
   "metadata": {},
   "outputs": [],
   "source": [
    "additive_sd_FFD = lmer(ms ~ LogFreqZipf + Position + LEN + Sim + SemD + plausibility +\n",
    "                          + (LogFreqZipf + Position + Sim + SemD + plausibility || Subject) +\n",
    "                        +(1|ID), data=FFD_semd,\n",
    "                        control=lmerControl(optimizer=\"bobyqa\", optCtrl=list(maxfun=50000)))"
   ]
  },
  {
   "cell_type": "code",
   "execution_count": 40,
   "id": "fa7b7640",
   "metadata": {},
   "outputs": [
    {
     "name": "stderr",
     "output_type": "stream",
     "text": [
      "boundary (singular) fit: see ?isSingular\n"
     ]
    }
   ],
   "source": [
    "additive_aoa_FFD = lmer(ms ~ LogFreqZipf + Position + LEN + Sim + AoA + plausibility +\n",
    "                          + (LogFreqZipf + Position + Sim + AoA + plausibility || Subject) +\n",
    "                        +(1|ID), data=FFD_semd,\n",
    "                        control=lmerControl(optimizer=\"bobyqa\", optCtrl=list(maxfun=50000)))"
   ]
  },
  {
   "cell_type": "code",
   "execution_count": 41,
   "id": "fdd823e8",
   "metadata": {
    "scrolled": false
   },
   "outputs": [
    {
     "name": "stdout",
     "output_type": "stream",
     "text": [
      "# Fixed Effects\n",
      "\n",
      "Parameter    | Coefficient |   SE |           95% CI | t(10867) |      p\n",
      "------------------------------------------------------------------------\n",
      "(Intercept)  |      220.54 | 3.94 | [212.81, 228.26] |    55.96 | < .001\n",
      "LogFreqZipf  |       -2.23 | 1.18 | [ -4.53,   0.08] |    -1.89 | 0.06  \n",
      "Position     |        2.12 | 0.95 | [  0.26,   3.98] |     2.23 | 0.03  \n",
      "LEN          |        0.90 | 0.89 | [ -0.85,   2.65] |     1.00 | 0.32  \n",
      "Sim          |       -4.42 | 1.13 | [ -6.62,  -2.21] |    -3.92 | < .001\n",
      "SemD         |        1.11 | 1.02 | [ -0.89,   3.10] |     1.08 | 0.28  \n",
      "plausibility |       -2.08 | 1.21 | [ -4.47,   0.30] |    -1.72 | 0.09  \n",
      "\n",
      "# Random Effects\n",
      "\n",
      "Parameter                  | Coefficient\n",
      "----------------------------------------\n",
      "SD (Intercept: ID)         |       12.20\n",
      "SD (Intercept: Subject)    |       24.28\n",
      "SD (plausibility: Subject) |        3.38\n",
      "SD (SemD: Subject)         |        1.71\n",
      "SD (Sim: Subject)          |        1.07\n",
      "SD (Position: Subject)     |        2.21\n",
      "SD (LogFreqZipf: Subject)  |        4.12\n",
      "SD (Residual)              |       64.75\n"
     ]
    },
    {
     "name": "stderr",
     "output_type": "stream",
     "text": [
      "\n",
      "Uncertainty intervals (equal-tailed) and p-values (two-tailed) computed\n",
      "  using a Wald t-distribution approximation.\n"
     ]
    }
   ],
   "source": [
    "print(parameters(additive_sd_FFD,  p_digits = 2))"
   ]
  },
  {
   "cell_type": "markdown",
   "id": "cf749367",
   "metadata": {},
   "source": [
    "### Age of Acquisition"
   ]
  },
  {
   "cell_type": "code",
   "execution_count": 42,
   "id": "5fc2eb5f",
   "metadata": {
    "scrolled": false
   },
   "outputs": [
    {
     "name": "stdout",
     "output_type": "stream",
     "text": [
      "# Fixed Effects\n",
      "\n",
      "Parameter    | Coefficient |   SE |           95% CI | t(10867) |      p\n",
      "------------------------------------------------------------------------\n",
      "(Intercept)  |      220.54 | 3.94 | [212.81, 228.26] |    55.99 | < .001\n",
      "LogFreqZipf  |       -1.10 | 1.16 | [ -3.37,   1.17] |    -0.95 | 0.342 \n",
      "Position     |        2.21 | 0.95 | [  0.35,   4.07] |     2.33 | 0.020 \n",
      "LEN          |        0.47 | 0.93 | [ -1.36,   2.29] |     0.50 | 0.615 \n",
      "Sim          |       -4.27 | 1.12 | [ -6.46,  -2.08] |    -3.82 | < .001\n",
      "AoA          |        1.94 | 1.03 | [ -0.08,   3.96] |     1.88 | 0.060 \n",
      "plausibility |       -2.41 | 1.23 | [ -4.82,   0.01] |    -1.95 | 0.051 \n",
      "\n",
      "# Random Effects\n",
      "\n",
      "Parameter                  | Coefficient\n",
      "----------------------------------------\n",
      "SD (Intercept: ID)         |       12.13\n",
      "SD (Intercept: Subject)    |       24.27\n",
      "SD (plausibility: Subject) |        3.41\n",
      "SD (AoA: Subject)          |        0.00\n",
      "SD (Sim: Subject)          |        1.16\n",
      "SD (Position: Subject)     |        2.22\n",
      "SD (LogFreqZipf: Subject)  |        4.08\n",
      "SD (Residual)              |       64.77\n"
     ]
    },
    {
     "name": "stderr",
     "output_type": "stream",
     "text": [
      "\n",
      "Uncertainty intervals (equal-tailed) and p-values (two-tailed) computed\n",
      "  using a Wald t-distribution approximation.\n"
     ]
    }
   ],
   "source": [
    "print(parameters(additive_aoa_FFD,  p_digits = 3))"
   ]
  },
  {
   "cell_type": "markdown",
   "id": "35b045a2",
   "metadata": {},
   "source": [
    "Model including Age of Acquisition is singular (random effect AoA:Subject variance is zero).\n",
    "\n",
    "AoA is a marginally significant predictor of FFD."
   ]
  },
  {
   "cell_type": "code",
   "execution_count": 43,
   "id": "f722737b",
   "metadata": {},
   "outputs": [
    {
     "name": "stderr",
     "output_type": "stream",
     "text": [
      "boundary (singular) fit: see ?isSingular\n"
     ]
    }
   ],
   "source": [
    "additive_v_FFD = lmer(ms ~ V_MeanSum + LogFreqZipf + Position + LEN + Sim + ConcM + plausibility +\n",
    "                          + (V_MeanSum + LogFreqZipf + Position + Sim +\n",
    "                             + ConcM + plausibility || Subject) +\n",
    "                        +(1|ID), data=FFD_semd,\n",
    "                        control=lmerControl(optimizer=\"bobyqa\", optCtrl=list(maxfun=50000)))"
   ]
  },
  {
   "cell_type": "code",
   "execution_count": 44,
   "id": "7c83a283",
   "metadata": {},
   "outputs": [
    {
     "name": "stderr",
     "output_type": "stream",
     "text": [
      "boundary (singular) fit: see ?isSingular\n"
     ]
    }
   ],
   "source": [
    "additive_a_FFD = lmer(ms ~ A_MeanSum + LogFreqZipf + Position + LEN + Sim + ConcM + plausibility +\n",
    "                          + (A_MeanSum + LogFreqZipf + Position + Sim +\n",
    "                             + ConcM + plausibility || Subject) +\n",
    "                        +(1|ID), data=FFD_semd,\n",
    "                        control=lmerControl(optimizer=\"bobyqa\", optCtrl=list(maxfun=50000)))"
   ]
  },
  {
   "cell_type": "code",
   "execution_count": 45,
   "id": "3c3b68f2",
   "metadata": {
    "scrolled": false
   },
   "outputs": [
    {
     "name": "stdout",
     "output_type": "stream",
     "text": [
      "# Fixed Effects\n",
      "\n",
      "Parameter    | Coefficient |   SE |           95% CI | t(10865) |      p\n",
      "------------------------------------------------------------------------\n",
      "(Intercept)  |      220.54 | 3.94 | [212.82, 228.27] |    55.97 | < .001\n",
      "V MeanSum    |        0.52 | 0.91 | [ -1.27,   2.32] |     0.57 | 0.567 \n",
      "LogFreqZipf  |       -1.84 | 1.13 | [ -4.05,   0.37] |    -1.63 | 0.103 \n",
      "Position     |        2.08 | 0.94 | [  0.23,   3.92] |     2.20 | 0.028 \n",
      "LEN          |        0.41 | 0.90 | [ -1.36,   2.19] |     0.46 | 0.649 \n",
      "Sim          |       -3.92 | 1.13 | [ -6.13,  -1.71] |    -3.47 | < .001\n",
      "ConcM        |       -2.65 | 1.01 | [ -4.63,  -0.66] |    -2.62 | 0.009 \n",
      "plausibility |       -2.57 | 1.23 | [ -4.97,  -0.16] |    -2.09 | 0.036 \n",
      "\n",
      "# Random Effects\n",
      "\n",
      "Parameter                  | Coefficient\n",
      "----------------------------------------\n",
      "SD (Intercept: ID)         |       12.00\n",
      "SD (Intercept: Subject)    |       24.29\n",
      "SD (plausibility: Subject) |        3.40\n",
      "SD (ConcM: Subject)        |        2.34\n",
      "SD (Sim: Subject)          |        1.08\n",
      "SD (Position: Subject)     |        2.19\n",
      "SD (LogFreqZipf: Subject)  |        4.06\n",
      "SD (V_MeanSum: Subject)    |        0.00\n",
      "SD (Residual)              |       64.73\n"
     ]
    },
    {
     "name": "stderr",
     "output_type": "stream",
     "text": [
      "\n",
      "Uncertainty intervals (equal-tailed) and p-values (two-tailed) computed\n",
      "  using a Wald t-distribution approximation.\n"
     ]
    }
   ],
   "source": [
    "print(parameters(additive_v_FFD), p_digits=3)"
   ]
  },
  {
   "cell_type": "code",
   "execution_count": 46,
   "id": "1c309b98",
   "metadata": {
    "scrolled": false
   },
   "outputs": [
    {
     "name": "stdout",
     "output_type": "stream",
     "text": [
      "# Fixed Effects\n",
      "\n",
      "Parameter    | Coefficient |   SE |           95% CI | t(10865) |      p\n",
      "------------------------------------------------------------------------\n",
      "(Intercept)  |      220.55 | 3.94 | [212.83, 228.28] |    55.98 | < .001\n",
      "A MeanSum    |       -0.98 | 0.91 | [ -2.77,   0.81] |    -1.07 | 0.284 \n",
      "LogFreqZipf  |       -1.63 | 1.10 | [ -3.78,   0.52] |    -1.49 | 0.137 \n",
      "Position     |        2.08 | 0.94 | [  0.23,   3.92] |     2.21 | 0.027 \n",
      "LEN          |        0.42 | 0.90 | [ -1.34,   2.19] |     0.47 | 0.639 \n",
      "Sim          |       -3.91 | 1.12 | [ -6.11,  -1.71] |    -3.48 | < .001\n",
      "ConcM        |       -2.90 | 1.04 | [ -4.94,  -0.85] |    -2.78 | 0.005 \n",
      "plausibility |       -2.57 | 1.22 | [ -4.96,  -0.17] |    -2.10 | 0.036 \n",
      "\n",
      "# Random Effects\n",
      "\n",
      "Parameter                  | Coefficient\n",
      "----------------------------------------\n",
      "SD (Intercept: ID)         |       11.97\n",
      "SD (Intercept: Subject)    |       24.29\n",
      "SD (plausibility: Subject) |        3.39\n",
      "SD (ConcM: Subject)        |        2.33\n",
      "SD (Sim: Subject)          |        1.07\n",
      "SD (Position: Subject)     |        2.19\n",
      "SD (LogFreqZipf: Subject)  |        4.07\n",
      "SD (A_MeanSum: Subject)    |    8.59e-07\n",
      "SD (Residual)              |       64.73\n"
     ]
    },
    {
     "name": "stderr",
     "output_type": "stream",
     "text": [
      "\n",
      "Uncertainty intervals (equal-tailed) and p-values (two-tailed) computed\n",
      "  using a Wald t-distribution approximation.\n"
     ]
    }
   ],
   "source": [
    "print(parameters(additive_a_FFD), p_digits=3)"
   ]
  },
  {
   "cell_type": "markdown",
   "id": "f7722e79",
   "metadata": {},
   "source": [
    "Models including Arousal or Valence were singular (random effect valence:Subject or arousal:Subject variance was zero).\n",
    "\n",
    "Valence and arousal were not significant predictors (concreteness effect survived)."
   ]
  },
  {
   "cell_type": "markdown",
   "id": "54d24e08",
   "metadata": {},
   "source": [
    "# Gaze Duration Results\n",
    "\n",
    "## Gaze Duration Additive Effects of Predictability and Concreteness"
   ]
  },
  {
   "cell_type": "code",
   "execution_count": 47,
   "id": "a14e6a95",
   "metadata": {},
   "outputs": [],
   "source": [
    "GD <- read.csv('//cbsu/data/Imaging/hauk/users/fm02/EOS_repo/EOS_EyeTrackingDataCollection/Data_Results/data_forR/norm_gd_41_final.csv') \n",
    "GD <- GD[GD$ms != 0, ]\n"
   ]
  },
  {
   "cell_type": "code",
   "execution_count": 48,
   "id": "4cdaeb77",
   "metadata": {},
   "outputs": [],
   "source": [
    "additive_GD = lmer(ms ~ LogFreqZipf + LEN + Position + Sim + ConcM +\n",
    "                   + (LogFreqZipf + LEN + Position + Sim + ConcM ||Subject) +\n",
    "                   + (1|ID), data = GD,\n",
    "                     control=lmerControl(optimizer=\"bobyqa\", optCtrl=list(maxfun=50000)))"
   ]
  },
  {
   "cell_type": "code",
   "execution_count": 49,
   "id": "7fa424ab",
   "metadata": {},
   "outputs": [],
   "source": [
    "interactive_GD = lmer(ms ~ LogFreqZipf + LEN + Position + Sim * ConcM \n",
    "                      + (LogFreqZipf + LEN + Position + Sim * ConcM||Subject) +\n",
    "                      + (1|ID), data = GD,\n",
    "                     control=lmerControl(optimizer=\"bobyqa\", optCtrl=list(maxfun=50000)))"
   ]
  },
  {
   "cell_type": "code",
   "execution_count": 50,
   "id": "47c2116c",
   "metadata": {},
   "outputs": [],
   "source": [
    "interactive_GD = lmer(ms ~ LogFreqZipf + LEN + Position + Sim * ConcM \n",
    "                      + (LogFreqZipf + LEN + Position + Sim + ConcM||Subject) +\n",
    "                      + (1|ID), data = GD,\n",
    "                     control=lmerControl(optimizer=\"bobyqa\", optCtrl=list(maxfun=50000)))"
   ]
  },
  {
   "cell_type": "markdown",
   "id": "1a97dea2",
   "metadata": {},
   "source": [
    "When comparing the additive and interactive model, we don't have evidence in support of an interactive influence of predictability and concreteness on GD."
   ]
  },
  {
   "cell_type": "code",
   "execution_count": 51,
   "id": "5127bb03",
   "metadata": {},
   "outputs": [
    {
     "name": "stdout",
     "output_type": "stream",
     "text": [
      "# Fixed Effects\n",
      "\n",
      "Parameter   | Coefficient |   SE |           95% CI | t(10952) |      p\n",
      "-----------------------------------------------------------------------\n",
      "(Intercept) |      234.89 | 5.04 | [225.00, 244.78] |    46.56 | < .001\n",
      "LogFreqZipf |       -3.07 | 1.47 | [ -5.94,  -0.19] |    -2.09 | 0.037 \n",
      "LEN         |        4.97 | 1.55 | [  1.92,   8.01] |     3.20 | 0.001 \n",
      "Position    |        2.49 | 1.29 | [ -0.04,   5.02] |     1.93 | 0.054 \n",
      "Sim         |       -8.75 | 1.44 | [-11.57,  -5.92] |    -6.06 | < .001\n",
      "ConcM       |       -1.23 | 1.45 | [ -4.07,   1.61] |    -0.85 | 0.397 \n",
      "\n",
      "# Random Effects\n",
      "\n",
      "Parameter                 | Coefficient\n",
      "---------------------------------------\n",
      "SD (Intercept: ID)        |       18.58\n",
      "SD (Intercept: Subject)   |       30.91\n",
      "SD (ConcM: Subject)       |        4.14\n",
      "SD (Sim: Subject)         |        4.14\n",
      "SD (Position: Subject)    |        2.21\n",
      "SD (LEN: Subject)         |        5.47\n",
      "SD (LogFreqZipf: Subject) |        4.76\n",
      "SD (Residual)             |       84.28\n"
     ]
    },
    {
     "name": "stderr",
     "output_type": "stream",
     "text": [
      "\n",
      "Uncertainty intervals (equal-tailed) and p-values (two-tailed) computed\n",
      "  using a Wald t-distribution approximation.\n"
     ]
    }
   ],
   "source": [
    "print(parameters(additive_GD), p_digits=3)"
   ]
  },
  {
   "cell_type": "code",
   "execution_count": 52,
   "id": "3bfe4421",
   "metadata": {},
   "outputs": [
    {
     "name": "stdout",
     "output_type": "stream",
     "text": [
      "# Fixed Effects\n",
      "\n",
      "Parameter   | Coefficient |   SE |           95% CI | t(10951) |      p\n",
      "-----------------------------------------------------------------------\n",
      "(Intercept) |      234.99 | 5.05 | [225.10, 244.89] |    46.54 | < .001\n",
      "LogFreqZipf |       -3.10 | 1.47 | [ -5.98,  -0.21] |    -2.11 | 0.035 \n",
      "LEN         |        4.94 | 1.55 | [  1.90,   7.99] |     3.18 | 0.001 \n",
      "Position    |        2.42 | 1.30 | [ -0.13,   4.97] |     1.86 | 0.062 \n",
      "Sim         |       -8.64 | 1.46 | [-11.50,  -5.78] |    -5.92 | < .001\n",
      "ConcM       |       -1.22 | 1.45 | [ -4.06,   1.63] |    -0.84 | 0.402 \n",
      "Sim * ConcM |       -0.64 | 1.28 | [ -3.14,   1.86] |    -0.50 | 0.615 \n",
      "\n",
      "# Random Effects\n",
      "\n",
      "Parameter                 | Coefficient\n",
      "---------------------------------------\n",
      "SD (Intercept: ID)        |       18.62\n",
      "SD (Intercept: Subject)   |       30.91\n",
      "SD (ConcM: Subject)       |        4.14\n",
      "SD (Sim: Subject)         |        4.14\n",
      "SD (Position: Subject)    |        2.21\n",
      "SD (LEN: Subject)         |        5.47\n",
      "SD (LogFreqZipf: Subject) |        4.76\n",
      "SD (Residual)             |       84.28\n"
     ]
    },
    {
     "name": "stderr",
     "output_type": "stream",
     "text": [
      "\n",
      "Uncertainty intervals (equal-tailed) and p-values (two-tailed) computed\n",
      "  using a Wald t-distribution approximation.\n"
     ]
    }
   ],
   "source": [
    "print(parameters(interactive_GD), p_digits=3)"
   ]
  },
  {
   "cell_type": "code",
   "execution_count": 53,
   "id": "1f4f4ffa",
   "metadata": {},
   "outputs": [
    {
     "data": {
      "text/plain": [
       "Linear mixed model fit by REML. t-tests use Satterthwaite's method [\n",
       "lmerModLmerTest]\n",
       "Formula: ms ~ LogFreqZipf + LEN + Position + Sim + ConcM + +(LogFreqZipf +  \n",
       "    LEN + Position + Sim + ConcM || Subject) + +(1 | ID)\n",
       "   Data: GD\n",
       "Control: lmerControl(optimizer = \"bobyqa\", optCtrl = list(maxfun = 50000))\n",
       "\n",
       "REML criterion at convergence: 128926.5\n",
       "\n",
       "Scaled residuals: \n",
       "    Min      1Q  Median      3Q     Max \n",
       "-2.6196 -0.6142 -0.1820  0.3933  9.9354 \n",
       "\n",
       "Random effects:\n",
       " Groups    Name        Variance Std.Dev.\n",
       " ID        (Intercept)  345.223 18.580  \n",
       " Subject   ConcM         17.164  4.143  \n",
       " Subject.1 Sim           17.129  4.139  \n",
       " Subject.2 Position       4.887  2.211  \n",
       " Subject.3 LEN           29.894  5.468  \n",
       " Subject.4 LogFreqZipf   22.656  4.760  \n",
       " Subject.5 (Intercept)  955.219 30.907  \n",
       " Residual              7103.873 84.284  \n",
       "Number of obs: 10966, groups:  ID, 400; Subject, 40\n",
       "\n",
       "Fixed effects:\n",
       "            Estimate Std. Error      df t value Pr(>|t|)    \n",
       "(Intercept)  234.888      5.044  41.822  46.564  < 2e-16 ***\n",
       "LogFreqZipf   -3.066      1.468 104.634  -2.089  0.03918 *  \n",
       "LEN            4.966      1.552  95.205   3.200  0.00187 ** \n",
       "Position       2.489      1.290 131.339   1.929  0.05587 .  \n",
       "Sim           -8.746      1.442 112.296  -6.064 1.83e-08 ***\n",
       "ConcM         -1.230      1.451 112.826  -0.848  0.39850    \n",
       "---\n",
       "Signif. codes:  0 '***' 0.001 '**' 0.01 '*' 0.05 '.' 0.1 ' ' 1\n",
       "\n",
       "Correlation of Fixed Effects:\n",
       "            (Intr) LgFrqZ LEN    Positn Sim   \n",
       "LogFreqZipf  0.001                            \n",
       "LEN         -0.008  0.042                     \n",
       "Position     0.001 -0.009  0.000              \n",
       "Sim          0.002 -0.137 -0.031  0.027       \n",
       "ConcM        0.000 -0.006  0.171 -0.003 -0.130"
      ]
     },
     "metadata": {},
     "output_type": "display_data"
    }
   ],
   "source": [
    "summary(additive_GD)"
   ]
  },
  {
   "cell_type": "code",
   "execution_count": 54,
   "id": "4c5abbe8",
   "metadata": {},
   "outputs": [],
   "source": [
    "sjPlot::tab_model(interactive_GD, pred.labels = c('Intercept',\n",
    "                                                    'Frequency (Zipf)',\n",
    "                                                    'Length',\n",
    "                                                    'Position',\n",
    "                                                    'Predictability',\n",
    "                                                    'Concreteness',\n",
    "                                                    'Predictability*Concreteness'))"
   ]
  },
  {
   "cell_type": "markdown",
   "id": "8c223176",
   "metadata": {},
   "source": [
    "## Exploratory Analysis on GD\n",
    "\n",
    "### Replication of Frequency x Valence/Arousal x Concreteness"
   ]
  },
  {
   "cell_type": "code",
   "execution_count": 55,
   "id": "76767bef",
   "metadata": {},
   "outputs": [
    {
     "name": "stderr",
     "output_type": "stream",
     "text": [
      "boundary (singular) fit: see ?isSingular\n"
     ]
    }
   ],
   "source": [
    "st_fvc = lmer(ms ~ LogFreqZipf*V_MeanSum*ConcM + LEN + Position + Sim +\n",
    "                 + (LogFreqZipf+ V_MeanSum+ ConcM + LEN + Position + Sim ||Subject) +\n",
    "                      + (1|ID), data = GD,\n",
    "                     control=lmerControl(optimizer=\"bobyqa\", optCtrl=list(maxfun=50000)))"
   ]
  },
  {
   "cell_type": "code",
   "execution_count": 56,
   "id": "db061107",
   "metadata": {
    "scrolled": true
   },
   "outputs": [
    {
     "data": {
      "text/plain": [
       "Linear mixed model fit by REML. t-tests use Satterthwaite's method [\n",
       "lmerModLmerTest]\n",
       "Formula: ms ~ LogFreqZipf * V_MeanSum * ConcM + LEN + Position + Sim +  \n",
       "    +(LogFreqZipf + V_MeanSum + ConcM + LEN + Position + Sim ||  \n",
       "        Subject) + +(1 | ID)\n",
       "   Data: GD\n",
       "Control: lmerControl(optimizer = \"bobyqa\", optCtrl = list(maxfun = 50000))\n",
       "\n",
       "REML criterion at convergence: 128904.5\n",
       "\n",
       "Scaled residuals: \n",
       "    Min      1Q  Median      3Q     Max \n",
       "-2.6226 -0.6125 -0.1807  0.3946  9.9399 \n",
       "\n",
       "Random effects:\n",
       " Groups    Name        Variance Std.Dev.\n",
       " ID        (Intercept)  338.07  18.387  \n",
       " Subject   Sim           17.22   4.150  \n",
       " Subject.1 Position       4.89   2.211  \n",
       " Subject.2 LEN           30.12   5.488  \n",
       " Subject.3 ConcM         17.27   4.156  \n",
       " Subject.4 V_MeanSum      0.00   0.000  \n",
       " Subject.5 LogFreqZipf   22.50   4.743  \n",
       " Subject.6 (Intercept)  955.33  30.908  \n",
       " Residual              7103.53  84.282  \n",
       "Number of obs: 10966, groups:  ID, 400; Subject, 40\n",
       "\n",
       "Fixed effects:\n",
       "                            Estimate Std. Error       df t value Pr(>|t|)    \n",
       "(Intercept)                 234.1465     5.0586  42.2829  46.287  < 2e-16 ***\n",
       "LogFreqZipf                  -3.5304     1.5276 119.1704  -2.311  0.02255 *  \n",
       "V_MeanSum                     3.1263     1.4129 402.2275   2.213  0.02748 *  \n",
       "ConcM                        -1.2421     1.5278 131.3893  -0.813  0.41767    \n",
       "LEN                           5.0266     1.5578  95.5374   3.227  0.00172 ** \n",
       "Position                      2.6434     1.2890 130.2418   2.051  0.04229 *  \n",
       "Sim                          -8.8806     1.4377 110.6330  -6.177 1.11e-08 ***\n",
       "LogFreqZipf:V_MeanSum         1.3993     1.2547 389.7063   1.115  0.26542    \n",
       "LogFreqZipf:ConcM             0.7081     1.3818 396.1902   0.512  0.60862    \n",
       "V_MeanSum:ConcM               2.6518     1.5262 401.2023   1.737  0.08307 .  \n",
       "LogFreqZipf:V_MeanSum:ConcM  -1.1588     1.3399 391.2030  -0.865  0.38768    \n",
       "---\n",
       "Signif. codes:  0 '***' 0.001 '**' 0.01 '*' 0.05 '.' 0.1 ' ' 1\n",
       "\n",
       "Correlation of Fixed Effects:\n",
       "            (Intr) LgFrqZ V_MnSm ConcM  LEN    Positn Sim    LgFZ:V_MS LFZ:CM\n",
       "LogFreqZipf -0.004                                                           \n",
       "V_MeanSum   -0.013 -0.259                                                    \n",
       "ConcM       -0.001  0.049 -0.143                                             \n",
       "LEN         -0.011  0.064 -0.049  0.175                                      \n",
       "Position     0.002 -0.005  0.008  0.020  0.004                               \n",
       "Sim          0.004 -0.125 -0.031 -0.117 -0.032  0.027                        \n",
       "LgFrqZ:V_MS -0.074  0.064  0.074 -0.005  0.015 -0.032 -0.014                 \n",
       "LgFrqZpf:CM -0.004  0.120 -0.124  0.163  0.096  0.064 -0.015 -0.054          \n",
       "V_MnSm:CncM -0.023 -0.085  0.403 -0.200 -0.004 -0.022 -0.018  0.070    -0.325\n",
       "LFZ:V_MS:CM -0.002 -0.053  0.111 -0.261  0.000 -0.069 -0.017  0.140    -0.089\n",
       "            V_MS:C\n",
       "LogFreqZipf       \n",
       "V_MeanSum         \n",
       "ConcM             \n",
       "LEN               \n",
       "Position          \n",
       "Sim               \n",
       "LgFrqZ:V_MS       \n",
       "LgFrqZpf:CM       \n",
       "V_MnSm:CncM       \n",
       "LFZ:V_MS:CM  0.223\n",
       "optimizer (bobyqa) convergence code: 0 (OK)\n",
       "boundary (singular) fit: see ?isSingular\n"
      ]
     },
     "metadata": {},
     "output_type": "display_data"
    }
   ],
   "source": [
    "summary(st_fvc)"
   ]
  },
  {
   "cell_type": "code",
   "execution_count": 57,
   "id": "cb78e290",
   "metadata": {},
   "outputs": [
    {
     "name": "stderr",
     "output_type": "stream",
     "text": [
      "boundary (singular) fit: see ?isSingular\n"
     ]
    }
   ],
   "source": [
    "st_fac = lmer(ms ~ LogFreqZipf*A_MeanSum*ConcM + LEN + Position + Sim +\n",
    "                 + (LogFreqZipf+A_MeanSum+ConcM + LEN + Position + Sim ||Subject) +\n",
    "                      + (1|ID), data = GD,\n",
    "                     control=lmerControl(optimizer=\"bobyqa\", optCtrl=list(maxfun=50000)))"
   ]
  },
  {
   "cell_type": "code",
   "execution_count": 58,
   "id": "5df52cbd",
   "metadata": {
    "scrolled": true
   },
   "outputs": [
    {
     "data": {
      "text/plain": [
       "Linear mixed model fit by REML. t-tests use Satterthwaite's method [\n",
       "lmerModLmerTest]\n",
       "Formula: ms ~ LogFreqZipf * A_MeanSum * ConcM + LEN + Position + Sim +  \n",
       "    +(LogFreqZipf + A_MeanSum + ConcM + LEN + Position + Sim ||  \n",
       "        Subject) + +(1 | ID)\n",
       "   Data: GD\n",
       "Control: lmerControl(optimizer = \"bobyqa\", optCtrl = list(maxfun = 50000))\n",
       "\n",
       "REML criterion at convergence: 128905.1\n",
       "\n",
       "Scaled residuals: \n",
       "    Min      1Q  Median      3Q     Max \n",
       "-2.5974 -0.6143 -0.1816  0.3934  9.9218 \n",
       "\n",
       "Random effects:\n",
       " Groups    Name        Variance Std.Dev.\n",
       " ID        (Intercept)  339.448 18.424  \n",
       " Subject   Sim           17.038  4.128  \n",
       " Subject.1 Position       4.843  2.201  \n",
       " Subject.2 LEN           29.706  5.450  \n",
       " Subject.3 ConcM         17.207  4.148  \n",
       " Subject.4 A_MeanSum      0.000  0.000  \n",
       " Subject.5 LogFreqZipf   22.551  4.749  \n",
       " Subject.6 (Intercept)  955.622 30.913  \n",
       " Residual              7103.930 84.285  \n",
       "Number of obs: 10966, groups:  ID, 400; Subject, 40\n",
       "\n",
       "Fixed effects:\n",
       "                            Estimate Std. Error       df t value Pr(>|t|)    \n",
       "(Intercept)                 234.5433     5.0621  42.3725  46.333  < 2e-16 ***\n",
       "LogFreqZipf                  -2.2176     1.4930 110.8944  -1.485  0.14030    \n",
       "A_MeanSum                    -1.2000     1.3107 394.2381  -0.916  0.36046    \n",
       "ConcM                        -1.9834     1.5407 134.8174  -1.287  0.20016    \n",
       "LEN                           4.9019     1.5560  96.4122   3.150  0.00217 ** \n",
       "Position                      2.7371     1.2879 130.4099   2.125  0.03545 *  \n",
       "Sim                          -8.8846     1.4390 111.5450  -6.174  1.1e-08 ***\n",
       "LogFreqZipf:A_MeanSum         1.3875     1.3551 394.3168   1.024  0.30651    \n",
       "LogFreqZipf:ConcM             1.9884     1.3404 394.5946   1.483  0.13876    \n",
       "A_MeanSum:ConcM              -0.7254     1.3929 396.8180  -0.521  0.60279    \n",
       "LogFreqZipf:A_MeanSum:ConcM   4.1549     1.6152 402.6592   2.572  0.01046 *  \n",
       "---\n",
       "Signif. codes:  0 '***' 0.001 '**' 0.01 '*' 0.05 '.' 0.1 ' ' 1\n",
       "\n",
       "Correlation of Fixed Effects:\n",
       "            (Intr) LgFrqZ A_MnSm ConcM  LEN    Positn Sim    LgFZ:A_MS LFZ:CM\n",
       "LogFreqZipf -0.003                                                           \n",
       "A_MeanSum    0.006 -0.049                                                    \n",
       "ConcM        0.012 -0.033  0.269                                             \n",
       "LEN         -0.009  0.043  0.026  0.181                                      \n",
       "Position    -0.002  0.004 -0.015 -0.007  0.003                               \n",
       "Sim          0.003 -0.137  0.016 -0.120 -0.031  0.024                        \n",
       "LgFrqZ:A_MS -0.014  0.000 -0.163 -0.039 -0.033  0.038 -0.059                 \n",
       "LgFrqZpf:CM -0.026  0.116 -0.008  0.069  0.091  0.067 -0.030  0.164          \n",
       "A_MnSm:CncM  0.082 -0.033  0.075  0.169  0.001 -0.018 -0.006 -0.016    -0.130\n",
       "LFZ:A_MS:CM -0.009  0.166 -0.034 -0.143 -0.048  0.037 -0.010  0.125     0.100\n",
       "            A_MS:C\n",
       "LogFreqZipf       \n",
       "A_MeanSum         \n",
       "ConcM             \n",
       "LEN               \n",
       "Position          \n",
       "Sim               \n",
       "LgFrqZ:A_MS       \n",
       "LgFrqZpf:CM       \n",
       "A_MnSm:CncM       \n",
       "LFZ:A_MS:CM -0.099\n",
       "optimizer (bobyqa) convergence code: 0 (OK)\n",
       "boundary (singular) fit: see ?isSingular\n"
      ]
     },
     "metadata": {},
     "output_type": "display_data"
    }
   ],
   "source": [
    "summary(st_fac)"
   ]
  },
  {
   "cell_type": "markdown",
   "id": "99d398b3",
   "metadata": {},
   "source": [
    "Model including the three-way interaction random effects did not converge.\n",
    "Also both Valence and Arousal random effect parameters have zero variance, dropping them to allow the model to converge.. "
   ]
  },
  {
   "cell_type": "code",
   "execution_count": 59,
   "id": "c6b5098e",
   "metadata": {},
   "outputs": [],
   "source": [
    "st_fvc = lmer(ms ~ LogFreqZipf*V_MeanSum*ConcM + LEN + Position + Sim +\n",
    "                 + (LogFreqZipf* ConcM + LEN + Position + Sim ||Subject) +\n",
    "                      + (1|ID), data = GD,\n",
    "                     control=lmerControl(optimizer=\"bobyqa\", optCtrl=list(maxfun=50000)))"
   ]
  },
  {
   "cell_type": "code",
   "execution_count": 60,
   "id": "811bc088",
   "metadata": {
    "scrolled": true
   },
   "outputs": [
    {
     "data": {
      "text/plain": [
       "Linear mixed model fit by REML. t-tests use Satterthwaite's method [\n",
       "lmerModLmerTest]\n",
       "Formula: ms ~ LogFreqZipf * V_MeanSum * ConcM + LEN + Position + Sim +  \n",
       "    +(LogFreqZipf * ConcM + LEN + Position + Sim || Subject) +      +(1 | ID)\n",
       "   Data: GD\n",
       "Control: lmerControl(optimizer = \"bobyqa\", optCtrl = list(maxfun = 50000))\n",
       "\n",
       "REML criterion at convergence: 128904.4\n",
       "\n",
       "Scaled residuals: \n",
       "    Min      1Q  Median      3Q     Max \n",
       "-2.6123 -0.6120 -0.1797  0.3929  9.9492 \n",
       "\n",
       "Random effects:\n",
       " Groups    Name              Variance Std.Dev.\n",
       " ID        (Intercept)        338.126 18.388  \n",
       " Subject   LogFreqZipf:ConcM    2.384  1.544  \n",
       " Subject.1 Sim                 17.260  4.155  \n",
       " Subject.2 Position             4.953  2.225  \n",
       " Subject.3 LEN                 30.154  5.491  \n",
       " Subject.4 ConcM               17.064  4.131  \n",
       " Subject.5 LogFreqZipf         22.602  4.754  \n",
       " Subject.6 (Intercept)        955.015 30.903  \n",
       " Residual                    7101.336 84.269  \n",
       "Number of obs: 10966, groups:  ID, 400; Subject, 40\n",
       "\n",
       "Fixed effects:\n",
       "                            Estimate Std. Error       df t value Pr(>|t|)    \n",
       "(Intercept)                 234.1479     5.0578  42.2831  46.294  < 2e-16 ***\n",
       "LogFreqZipf                  -3.5264     1.5285 118.8282  -2.307  0.02278 *  \n",
       "V_MeanSum                     3.1284     1.4129 402.2367   2.214  0.02738 *  \n",
       "ConcM                        -1.2469     1.5260 131.3065  -0.817  0.41537    \n",
       "LEN                           5.0207     1.5580  95.4973   3.222  0.00174 ** \n",
       "Position                      2.6442     1.2896 130.0184   2.050  0.04233 *  \n",
       "Sim                          -8.8818     1.4380 110.6084  -6.177 1.11e-08 ***\n",
       "LogFreqZipf:V_MeanSum         1.3976     1.2547 389.7821   1.114  0.26603    \n",
       "LogFreqZipf:ConcM             0.6938     1.4042 160.0326   0.494  0.62190    \n",
       "V_MeanSum:ConcM               2.6545     1.5262 401.2249   1.739  0.08276 .  \n",
       "LogFreqZipf:V_MeanSum:ConcM  -1.1622     1.3400 391.3163  -0.867  0.38631    \n",
       "---\n",
       "Signif. codes:  0 '***' 0.001 '**' 0.01 '*' 0.05 '.' 0.1 ' ' 1\n",
       "\n",
       "Correlation of Fixed Effects:\n",
       "            (Intr) LgFrqZ V_MnSm ConcM  LEN    Positn Sim    LgFZ:V_MS LFZ:CM\n",
       "LogFreqZipf -0.004                                                           \n",
       "V_MeanSum   -0.013 -0.259                                                    \n",
       "ConcM       -0.001  0.049 -0.143                                             \n",
       "LEN         -0.011  0.064 -0.049  0.175                                      \n",
       "Position     0.002 -0.005  0.008  0.020  0.004                               \n",
       "Sim          0.004 -0.125 -0.031 -0.117 -0.032  0.027                        \n",
       "LgFrqZ:V_MS -0.074  0.064  0.074 -0.005  0.015 -0.032 -0.014                 \n",
       "LgFrqZpf:CM -0.004  0.118 -0.122  0.160  0.094  0.063 -0.014 -0.053          \n",
       "V_MnSm:CncM -0.023 -0.085  0.403 -0.200 -0.004 -0.022 -0.018  0.070    -0.319\n",
       "LFZ:V_MS:CM -0.002 -0.053  0.111 -0.262  0.000 -0.069 -0.017  0.140    -0.087\n",
       "            V_MS:C\n",
       "LogFreqZipf       \n",
       "V_MeanSum         \n",
       "ConcM             \n",
       "LEN               \n",
       "Position          \n",
       "Sim               \n",
       "LgFrqZ:V_MS       \n",
       "LgFrqZpf:CM       \n",
       "V_MnSm:CncM       \n",
       "LFZ:V_MS:CM  0.223"
      ]
     },
     "metadata": {},
     "output_type": "display_data"
    }
   ],
   "source": [
    "summary(st_fvc)"
   ]
  },
  {
   "cell_type": "code",
   "execution_count": 61,
   "id": "3b34b05a",
   "metadata": {},
   "outputs": [],
   "source": [
    "st_fac = lmer(ms ~ LogFreqZipf*A_MeanSum*ConcM + LEN + Position + Sim +\n",
    "                 + (LogFreqZipf*ConcM + LEN + Position + Sim ||Subject) +\n",
    "                      + (1|ID), data = GD,\n",
    "                     control=lmerControl(optimizer=\"bobyqa\", optCtrl=list(maxfun=50000)))"
   ]
  },
  {
   "cell_type": "code",
   "execution_count": 62,
   "id": "d36ce2a4",
   "metadata": {
    "scrolled": true
   },
   "outputs": [
    {
     "data": {
      "text/plain": [
       "Linear mixed model fit by REML. t-tests use Satterthwaite's method [\n",
       "lmerModLmerTest]\n",
       "Formula: ms ~ LogFreqZipf * A_MeanSum * ConcM + LEN + Position + Sim +  \n",
       "    +(LogFreqZipf * ConcM + LEN + Position + Sim || Subject) +      +(1 | ID)\n",
       "   Data: GD\n",
       "Control: lmerControl(optimizer = \"bobyqa\", optCtrl = list(maxfun = 50000))\n",
       "\n",
       "REML criterion at convergence: 128905\n",
       "\n",
       "Scaled residuals: \n",
       "    Min      1Q  Median      3Q     Max \n",
       "-2.5880 -0.6123 -0.1805  0.3939  9.9304 \n",
       "\n",
       "Random effects:\n",
       " Groups    Name              Variance Std.Dev.\n",
       " ID        (Intercept)        339.536 18.427  \n",
       " Subject   LogFreqZipf:ConcM    2.168  1.472  \n",
       " Subject.1 Sim                 17.070  4.132  \n",
       " Subject.2 Position             4.898  2.213  \n",
       " Subject.3 LEN                 29.734  5.453  \n",
       " Subject.4 ConcM               17.015  4.125  \n",
       " Subject.5 LogFreqZipf         22.645  4.759  \n",
       " Subject.6 (Intercept)        955.329 30.908  \n",
       " Residual                    7101.919 84.273  \n",
       "Number of obs: 10966, groups:  ID, 400; Subject, 40\n",
       "\n",
       "Fixed effects:\n",
       "                            Estimate Std. Error       df t value Pr(>|t|)    \n",
       "(Intercept)                 234.5444     5.0614  42.3731  46.340  < 2e-16 ***\n",
       "LogFreqZipf                  -2.2139     1.4939 110.5995  -1.482   0.1412    \n",
       "A_MeanSum                    -1.1972     1.3107 394.2325  -0.913   0.3616    \n",
       "ConcM                        -1.9870     1.5391 134.7376  -1.291   0.1989    \n",
       "LEN                           4.8969     1.5562  96.3811   3.147   0.0022 ** \n",
       "Position                      2.7375     1.2885 130.2078   2.125   0.0355 *  \n",
       "Sim                          -8.8856     1.4393 111.5286  -6.174 1.11e-08 ***\n",
       "LogFreqZipf:A_MeanSum         1.3868     1.3552 394.3368   1.023   0.3068    \n",
       "LogFreqZipf:ConcM             1.9757     1.3615 149.1953   1.451   0.1488    \n",
       "A_MeanSum:ConcM              -0.7256     1.3930 396.8235  -0.521   0.6027    \n",
       "LogFreqZipf:A_MeanSum:ConcM   4.1530     1.6153 402.7076   2.571   0.0105 *  \n",
       "---\n",
       "Signif. codes:  0 '***' 0.001 '**' 0.01 '*' 0.05 '.' 0.1 ' ' 1\n",
       "\n",
       "Correlation of Fixed Effects:\n",
       "            (Intr) LgFrqZ A_MnSm ConcM  LEN    Positn Sim    LgFZ:A_MS LFZ:CM\n",
       "LogFreqZipf -0.003                                                           \n",
       "A_MeanSum    0.006 -0.049                                                    \n",
       "ConcM        0.012 -0.033  0.269                                             \n",
       "LEN         -0.009  0.043  0.026  0.182                                      \n",
       "Position    -0.002  0.004 -0.015 -0.007  0.003                               \n",
       "Sim          0.003 -0.137  0.016 -0.121 -0.031  0.024                        \n",
       "LgFrqZ:A_MS -0.014  0.000 -0.163 -0.039 -0.033  0.038 -0.059                 \n",
       "LgFrqZpf:CM -0.026  0.114 -0.008  0.068  0.090  0.066 -0.030  0.161          \n",
       "A_MnSm:CncM  0.082 -0.033  0.075  0.169  0.001 -0.018 -0.006 -0.016    -0.128\n",
       "LFZ:A_MS:CM -0.009  0.166 -0.034 -0.143 -0.048  0.037 -0.010  0.125     0.098\n",
       "            A_MS:C\n",
       "LogFreqZipf       \n",
       "A_MeanSum         \n",
       "ConcM             \n",
       "LEN               \n",
       "Position          \n",
       "Sim               \n",
       "LgFrqZ:A_MS       \n",
       "LgFrqZpf:CM       \n",
       "A_MnSm:CncM       \n",
       "LFZ:A_MS:CM -0.099"
      ]
     },
     "metadata": {},
     "output_type": "display_data"
    }
   ],
   "source": [
    "summary(st_fac)"
   ]
  },
  {
   "cell_type": "markdown",
   "id": "e40ad3c6",
   "metadata": {},
   "source": [
    "# Probability of fixating a Word"
   ]
  },
  {
   "cell_type": "code",
   "execution_count": 63,
   "id": "b5d8c266",
   "metadata": {
    "scrolled": true
   },
   "outputs": [
    {
     "name": "stdout",
     "output_type": "stream",
     "text": [
      "'data.frame':\t15676 obs. of  34 variables:\n",
      " $ ms                   : num  136 513 0 0 350 250 0 0 215 0 ...\n",
      " $ trialnr              : int  0 1 2 3 4 5 6 7 8 9 ...\n",
      " $ time_before_ff       : num  -0.808 1.764 NA NA -0.408 ...\n",
      " $ regressed            : num  0 0 NA NA 0 0 NA NA 0 NA ...\n",
      " $ n_tot_fix            : num  1.7582 -0.3687 -0.0142 -1.0776 0.3403 ...\n",
      " $ n_prior_fix          : num  0.366 2.11 NA NA 0.366 ...\n",
      " $ fixated              : Factor w/ 2 levels \"0\",\"1\": 2 2 1 1 2 2 1 1 2 1 ...\n",
      " $ Word                 : Factor w/ 400 levels \"absence\",\"accent\",..: 28 158 193 351 359 57 161 77 293 173 ...\n",
      " $ ID                   : int  127 257 292 450 458 156 260 176 392 272 ...\n",
      " $ ConcM                : num  -0.3092 -1.5128 0.0198 0.4701 -0.2486 ...\n",
      " $ LEN                  : num  1.396 -1.41 -0.475 0.461 -0.475 ...\n",
      " $ UN2_F                : num  0.24 -0.845 0.574 -0.903 1.315 ...\n",
      " $ UN3_F                : num  0.0533 -0.5937 1.1874 -0.2507 0.3635 ...\n",
      " $ Orth                 : num  -0.566 0.643 0.401 -0.566 2.819 ...\n",
      " $ OLD20                : num  0.915 -0.499 -0.499 -0.263 -1.913 ...\n",
      " $ FreqCount            : num  0.675 -0.615 -0.52 -0.466 1.5 ...\n",
      " $ LogFreqZipf          : num  1.034 -0.655 -0.31 -0.164 1.379 ...\n",
      " $ V_MeanSum            : num  1.2 -1.648 -1.707 0.399 0.74 ...\n",
      " $ A_MeanSum            : num  -0.0303 2.0101 0.8599 -1.2905 -0.9605 ...\n",
      " $ mink3_SM             : num  0.0627 -0.8207 1.4497 1.0955 0.2065 ...\n",
      " $ BLP_rt               : num  -0.16761 -0.00115 -0.23303 0.48542 -0.43208 ...\n",
      " $ BLP_accuracy         : num  0.49 0.149 0.49 0.149 0.49 ...\n",
      " $ similarity           : num  0.53 0.282 -0.57 -0.334 -0.789 ...\n",
      " $ Position             : num  -0.939 0.998 1.643 0.352 1.643 ...\n",
      " $ PRECEDING_Frequency  : num  -0.551 0.351 0.634 -0.68 0.634 ...\n",
      " $ PRECEDING_LogFreqZipf: num  0.337 0.951 1.029 -0.476 1.029 ...\n",
      " $ LENprec              : num  -0.601 -0.968 -1.335 -0.235 -1.335 ...\n",
      " $ Predictability       : num  -0.999 -0.999 -0.999 0.999 0.999 ...\n",
      " $ cloze                : num  1.313 -0.516 -0.419 -0.655 -0.79 ...\n",
      " $ plausibility         : num  0.626 0.615 0.968 0.19 -1.546 ...\n",
      " $ Sim                  : num  1.154 -0.508 -0.245 -0.845 -1.112 ...\n",
      " $ Subject              : int  0 0 0 0 0 0 0 0 0 0 ...\n",
      " $ Gender               : Factor w/ 3 levels \"M\",\"O\",\"W\": 3 3 3 3 3 3 3 3 3 3 ...\n",
      " $ Age                  : int  23 23 23 23 23 23 23 23 23 23 ...\n"
     ]
    }
   ],
   "source": [
    "PrF <- read.csv('//cbsu/data/Imaging/hauk/users/fm02/EOS_repo/EOS_EyeTrackingDataCollection/Data_Results/data_forR/norm_gd_41_final.csv')\n",
    "PrF$fixated = as.factor(PrF$fixated)\n",
    "str(PrF)"
   ]
  },
  {
   "cell_type": "code",
   "execution_count": 64,
   "id": "91250b9b",
   "metadata": {},
   "outputs": [
    {
     "name": "stderr",
     "output_type": "stream",
     "text": [
      "boundary (singular) fit: see ?isSingular\n"
     ]
    }
   ],
   "source": [
    "additive_PrF = glmer(fixated ~ LogFreqZipf + LEN + Position + Sim + ConcM +\n",
    "                     (LogFreqZipf + LEN + Sim + ConcM || Subject) +\n",
    "                     + (1|ID), family=binomial, data = PrF,\n",
    "                     control=glmerControl(optimizer=\"bobyqa\", optCtrl=list(maxfun=50000)))"
   ]
  },
  {
   "cell_type": "code",
   "execution_count": 65,
   "id": "29dd7499",
   "metadata": {
    "scrolled": true
   },
   "outputs": [
    {
     "data": {
      "text/plain": [
       "Generalized linear mixed model fit by maximum likelihood (Laplace\n",
       "  Approximation) [glmerMod]\n",
       " Family: binomial  ( logit )\n",
       "Formula: fixated ~ LogFreqZipf + LEN + Position + Sim + ConcM + (LogFreqZipf +  \n",
       "    LEN + Sim + ConcM || Subject) + +(1 | ID)\n",
       "   Data: PrF\n",
       "Control: glmerControl(optimizer = \"bobyqa\", optCtrl = list(maxfun = 50000))\n",
       "\n",
       "     AIC      BIC   logLik deviance df.resid \n",
       " 17284.5  17376.4  -8630.2  17260.5    15664 \n",
       "\n",
       "Scaled residuals: \n",
       "    Min      1Q  Median      3Q     Max \n",
       "-4.7565 -0.8564  0.4331  0.6393  2.0647 \n",
       "\n",
       "Random effects:\n",
       " Groups    Name        Variance Std.Dev.\n",
       " ID        (Intercept) 0.042673 0.20657 \n",
       " Subject   ConcM       0.006452 0.08033 \n",
       " Subject.1 Sim         0.000000 0.00000 \n",
       " Subject.2 LEN         0.014204 0.11918 \n",
       " Subject.3 LogFreqZipf 0.002943 0.05425 \n",
       " Subject.4 (Intercept) 0.621155 0.78813 \n",
       "Number of obs: 15676, groups:  ID, 400; Subject, 40\n",
       "\n",
       "Fixed effects:\n",
       "            Estimate Std. Error z value Pr(>|z|)    \n",
       "(Intercept)  0.99694    0.12668   7.870 3.55e-15 ***\n",
       "LogFreqZipf -0.05651    0.02382  -2.373 0.017658 *  \n",
       "LEN          0.35010    0.02951  11.862  < 2e-16 ***\n",
       "Position    -0.03840    0.02128  -1.804 0.071161 .  \n",
       "Sim         -0.08336    0.02202  -3.785 0.000154 ***\n",
       "ConcM       -0.01895    0.02601  -0.729 0.466157    \n",
       "---\n",
       "Signif. codes:  0 '***' 0.001 '**' 0.01 '*' 0.05 '.' 0.1 ' ' 1\n",
       "\n",
       "Correlation of Fixed Effects:\n",
       "            (Intr) LgFrqZ LEN    Positn Sim   \n",
       "LogFreqZipf -0.004                            \n",
       "LEN          0.017  0.036                     \n",
       "Position    -0.002  0.000 -0.002              \n",
       "Sim         -0.005 -0.169 -0.054  0.031       \n",
       "ConcM       -0.002 -0.014  0.153 -0.006 -0.150\n",
       "optimizer (bobyqa) convergence code: 0 (OK)\n",
       "boundary (singular) fit: see ?isSingular\n"
      ]
     },
     "metadata": {},
     "output_type": "display_data"
    }
   ],
   "source": [
    "summary(additive_PrF)"
   ]
  },
  {
   "cell_type": "markdown",
   "id": "a2c51a17",
   "metadata": {},
   "source": [
    "Predictability:Subject random effects variance is very close to zero, so we are removing that."
   ]
  },
  {
   "cell_type": "code",
   "execution_count": 66,
   "id": "969356a0",
   "metadata": {},
   "outputs": [],
   "source": [
    "additive_PrF = glmer(fixated ~ LogFreqZipf + LEN + Position + Sim + ConcM +\n",
    "                     (LogFreqZipf + LEN + ConcM || Subject) +\n",
    "                     + (1|ID), family=binomial, data = PrF,\n",
    "                     control=glmerControl(optimizer=\"bobyqa\", optCtrl=list(maxfun=50000)))"
   ]
  },
  {
   "cell_type": "code",
   "execution_count": 67,
   "id": "edf6cf51",
   "metadata": {
    "scrolled": true
   },
   "outputs": [
    {
     "data": {
      "text/plain": [
       "Generalized linear mixed model fit by maximum likelihood (Laplace\n",
       "  Approximation) [glmerMod]\n",
       " Family: binomial  ( logit )\n",
       "Formula: fixated ~ LogFreqZipf + LEN + Position + Sim + ConcM + (LogFreqZipf +  \n",
       "    LEN + ConcM || Subject) + +(1 | ID)\n",
       "   Data: PrF\n",
       "Control: glmerControl(optimizer = \"bobyqa\", optCtrl = list(maxfun = 50000))\n",
       "\n",
       "     AIC      BIC   logLik deviance df.resid \n",
       " 17282.5  17366.8  -8630.2  17260.5    15665 \n",
       "\n",
       "Scaled residuals: \n",
       "    Min      1Q  Median      3Q     Max \n",
       "-4.7565 -0.8564  0.4331  0.6393  2.0647 \n",
       "\n",
       "Random effects:\n",
       " Groups    Name        Variance Std.Dev.\n",
       " ID        (Intercept) 0.042673 0.20657 \n",
       " Subject   ConcM       0.006452 0.08033 \n",
       " Subject.1 LEN         0.014204 0.11918 \n",
       " Subject.2 LogFreqZipf 0.002943 0.05425 \n",
       " Subject.3 (Intercept) 0.621156 0.78813 \n",
       "Number of obs: 15676, groups:  ID, 400; Subject, 40\n",
       "\n",
       "Fixed effects:\n",
       "            Estimate Std. Error z value Pr(>|z|)    \n",
       "(Intercept)  0.99694    0.12668   7.870 3.56e-15 ***\n",
       "LogFreqZipf -0.05651    0.02382  -2.373 0.017658 *  \n",
       "LEN          0.35010    0.02951  11.862  < 2e-16 ***\n",
       "Position    -0.03840    0.02128  -1.804 0.071162 .  \n",
       "Sim         -0.08336    0.02202  -3.785 0.000154 ***\n",
       "ConcM       -0.01895    0.02601  -0.729 0.466168    \n",
       "---\n",
       "Signif. codes:  0 '***' 0.001 '**' 0.01 '*' 0.05 '.' 0.1 ' ' 1\n",
       "\n",
       "Correlation of Fixed Effects:\n",
       "            (Intr) LgFrqZ LEN    Positn Sim   \n",
       "LogFreqZipf -0.004                            \n",
       "LEN          0.017  0.036                     \n",
       "Position    -0.002  0.000 -0.002              \n",
       "Sim         -0.005 -0.169 -0.054  0.031       \n",
       "ConcM       -0.002 -0.014  0.153 -0.006 -0.150"
      ]
     },
     "metadata": {},
     "output_type": "display_data"
    }
   ],
   "source": [
    "summary(additive_PrF)"
   ]
  },
  {
   "cell_type": "code",
   "execution_count": 68,
   "id": "bde24057",
   "metadata": {
    "scrolled": true
   },
   "outputs": [
    {
     "name": "stdout",
     "output_type": "stream",
     "text": [
      "# Fixed Effects\n",
      "\n",
      "Parameter   | Log-Odds |   SE |         95% CI |     z |      p\n",
      "---------------------------------------------------------------\n",
      "(Intercept) |     1.00 | 0.13 | [ 0.75,  1.25] |  7.87 | < .001\n",
      "LogFreqZipf |    -0.06 | 0.02 | [-0.10, -0.01] | -2.37 | 0.018 \n",
      "LEN         |     0.35 | 0.03 | [ 0.29,  0.41] | 11.86 | < .001\n",
      "Position    |    -0.04 | 0.02 | [-0.08,  0.00] | -1.80 | 0.071 \n",
      "Sim         |    -0.08 | 0.02 | [-0.13, -0.04] | -3.79 | < .001\n",
      "ConcM       |    -0.02 | 0.03 | [-0.07,  0.03] | -0.73 | 0.466 \n",
      "\n",
      "# Random Effects\n",
      "\n",
      "Parameter                 | Coefficient\n",
      "---------------------------------------\n",
      "SD (Intercept: ID)        |        0.21\n",
      "SD (Intercept: Subject)   |        0.79\n",
      "SD (ConcM: Subject)       |        0.08\n",
      "SD (LEN: Subject)         |        0.12\n",
      "SD (LogFreqZipf: Subject) |        0.05\n"
     ]
    },
    {
     "name": "stderr",
     "output_type": "stream",
     "text": [
      "\n",
      "Uncertainty intervals (equal-tailed) and p-values (two-tailed) computed\n",
      "  using a Wald z-distribution approximation.\n",
      "\n",
      "The model has a log- or logit-link. Consider using `exponentiate =\n",
      "  TRUE` to interpret coefficients as ratios.\n"
     ]
    }
   ],
   "source": [
    "print(parameters(additive_PrF), p_digits=3)\n"
   ]
  },
  {
   "cell_type": "code",
   "execution_count": 69,
   "id": "ff7f9b13",
   "metadata": {},
   "outputs": [
    {
     "name": "stderr",
     "output_type": "stream",
     "text": [
      "boundary (singular) fit: see ?isSingular\n"
     ]
    }
   ],
   "source": [
    "interactive_PrF = glmer(fixated ~ LogFreqZipf + LEN + Position + Sim * ConcM +\n",
    "                     (LogFreqZipf + LEN + Sim * ConcM || Subject) +\n",
    "                     + (1|ID), family=binomial, data = PrF,\n",
    "                     control=glmerControl(optimizer=\"bobyqa\", optCtrl=list(maxfun=50000)))"
   ]
  },
  {
   "cell_type": "code",
   "execution_count": 70,
   "id": "52354213",
   "metadata": {
    "scrolled": true
   },
   "outputs": [
    {
     "data": {
      "text/plain": [
       "Generalized linear mixed model fit by maximum likelihood (Laplace\n",
       "  Approximation) [glmerMod]\n",
       " Family: binomial  ( logit )\n",
       "Formula: fixated ~ LogFreqZipf + LEN + Position + Sim * ConcM + (LogFreqZipf +  \n",
       "    LEN + Sim * ConcM || Subject) + +(1 | ID)\n",
       "   Data: PrF\n",
       "Control: glmerControl(optimizer = \"bobyqa\", optCtrl = list(maxfun = 50000))\n",
       "\n",
       "     AIC      BIC   logLik deviance df.resid \n",
       " 17288.4  17395.7  -8630.2  17260.4    15662 \n",
       "\n",
       "Scaled residuals: \n",
       "    Min      1Q  Median      3Q     Max \n",
       "-4.7510 -0.8561  0.4331  0.6393  2.0650 \n",
       "\n",
       "Random effects:\n",
       " Groups    Name        Variance  Std.Dev. \n",
       " ID        (Intercept) 4.264e-02 2.065e-01\n",
       " Subject   Sim:ConcM   8.131e-05 9.017e-03\n",
       " Subject.1 ConcM       6.425e-03 8.016e-02\n",
       " Subject.2 Sim         1.073e-14 1.036e-07\n",
       " Subject.3 LEN         1.421e-02 1.192e-01\n",
       " Subject.4 LogFreqZipf 2.941e-03 5.423e-02\n",
       " Subject.5 (Intercept) 6.212e-01 7.882e-01\n",
       "Number of obs: 15676, groups:  ID, 400; Subject, 40\n",
       "\n",
       "Fixed effects:\n",
       "             Estimate Std. Error z value Pr(>|z|)    \n",
       "(Intercept)  0.997691   0.126739   7.872 3.49e-15 ***\n",
       "LogFreqZipf -0.056722   0.023837  -2.380 0.017334 *  \n",
       "LEN          0.349945   0.029523  11.853  < 2e-16 ***\n",
       "Position    -0.038892   0.021417  -1.816 0.069377 .  \n",
       "Sim         -0.082380   0.022540  -3.655 0.000257 ***\n",
       "ConcM       -0.018678   0.026029  -0.718 0.473025    \n",
       "Sim:ConcM   -0.004499   0.022078  -0.204 0.838514    \n",
       "---\n",
       "Signif. codes:  0 '***' 0.001 '**' 0.01 '*' 0.05 '.' 0.1 ' ' 1\n",
       "\n",
       "Correlation of Fixed Effects:\n",
       "            (Intr) LgFrqZ LEN    Positn Sim    ConcM \n",
       "LogFreqZipf -0.005                                   \n",
       "LEN          0.017  0.037                            \n",
       "Position    -0.006  0.005  0.001                     \n",
       "Sim          0.001 -0.174 -0.058  0.006              \n",
       "ConcM       -0.001 -0.016  0.151 -0.011 -0.137       \n",
       "Sim:ConcM   -0.029  0.043  0.025  0.113 -0.212 -0.051\n",
       "optimizer (bobyqa) convergence code: 0 (OK)\n",
       "boundary (singular) fit: see ?isSingular\n"
      ]
     },
     "metadata": {},
     "output_type": "display_data"
    }
   ],
   "source": [
    "summary(interactive_PrF)"
   ]
  },
  {
   "cell_type": "markdown",
   "id": "f713f002",
   "metadata": {},
   "source": [
    "Predictability and Predictability:Subject random effects variances are very close to/zero, so we are removing those."
   ]
  },
  {
   "cell_type": "code",
   "execution_count": 71,
   "id": "7e50da47",
   "metadata": {},
   "outputs": [],
   "source": [
    "interactive_PrF = glmer(fixated ~ LogFreqZipf + LEN + Position + Sim * ConcM +\n",
    "                     (LogFreqZipf + LEN + ConcM || Subject) +\n",
    "                     + (1|ID), family=binomial, data = PrF,\n",
    "                     control=glmerControl(optimizer=\"bobyqa\", optCtrl=list(maxfun=50000)))"
   ]
  },
  {
   "cell_type": "code",
   "execution_count": 72,
   "id": "4d216e13",
   "metadata": {
    "scrolled": true
   },
   "outputs": [
    {
     "data": {
      "text/plain": [
       "Generalized linear mixed model fit by maximum likelihood (Laplace\n",
       "  Approximation) [glmerMod]\n",
       " Family: binomial  ( logit )\n",
       "Formula: fixated ~ LogFreqZipf + LEN + Position + Sim * ConcM + (LogFreqZipf +  \n",
       "    LEN + ConcM || Subject) + +(1 | ID)\n",
       "   Data: PrF\n",
       "Control: glmerControl(optimizer = \"bobyqa\", optCtrl = list(maxfun = 50000))\n",
       "\n",
       "     AIC      BIC   logLik deviance df.resid \n",
       " 17284.5  17376.4  -8630.2  17260.5    15664 \n",
       "\n",
       "Scaled residuals: \n",
       "    Min      1Q  Median      3Q     Max \n",
       "-4.7510 -0.8562  0.4331  0.6393  2.0650 \n",
       "\n",
       "Random effects:\n",
       " Groups    Name        Variance Std.Dev.\n",
       " ID        (Intercept) 0.042637 0.20649 \n",
       " Subject   ConcM       0.006432 0.08020 \n",
       " Subject.1 LEN         0.014206 0.11919 \n",
       " Subject.2 LogFreqZipf 0.002941 0.05423 \n",
       " Subject.3 (Intercept) 0.621138 0.78812 \n",
       "Number of obs: 15676, groups:  ID, 400; Subject, 40\n",
       "\n",
       "Fixed effects:\n",
       "             Estimate Std. Error z value Pr(>|z|)    \n",
       "(Intercept)  0.997674   0.126726   7.873 3.47e-15 ***\n",
       "LogFreqZipf -0.056720   0.023837  -2.380 0.017335 *  \n",
       "LEN          0.349941   0.029522  11.854  < 2e-16 ***\n",
       "Position    -0.038892   0.021416  -1.816 0.069369 .  \n",
       "Sim         -0.082389   0.022537  -3.656 0.000256 ***\n",
       "ConcM       -0.018687   0.026030  -0.718 0.472820    \n",
       "Sim:ConcM   -0.004462   0.021985  -0.203 0.839186    \n",
       "---\n",
       "Signif. codes:  0 '***' 0.001 '**' 0.01 '*' 0.05 '.' 0.1 ' ' 1\n",
       "\n",
       "Correlation of Fixed Effects:\n",
       "            (Intr) LgFrqZ LEN    Positn Sim    ConcM \n",
       "LogFreqZipf -0.005                                   \n",
       "LEN          0.017  0.037                            \n",
       "Position    -0.006  0.005  0.001                     \n",
       "Sim          0.001 -0.174 -0.058  0.006              \n",
       "ConcM       -0.001 -0.016  0.151 -0.011 -0.137       \n",
       "Sim:ConcM   -0.029  0.043  0.026  0.114 -0.212 -0.050"
      ]
     },
     "metadata": {},
     "output_type": "display_data"
    }
   ],
   "source": [
    "summary(interactive_PrF)"
   ]
  },
  {
   "cell_type": "code",
   "execution_count": 73,
   "id": "24ecfba5",
   "metadata": {},
   "outputs": [],
   "source": [
    "sjPlot::tab_model(interactive_PrF, pred.labels = c('Intercept',\n",
    "                                                    'Frequency (Zipf)',\n",
    "                                                    'Length',\n",
    "                                                    'Position',\n",
    "                                                    'Predictability',\n",
    "                                                    'Concreteness',\n",
    "                                                    'Predictability*Concreteness'))"
   ]
  },
  {
   "cell_type": "markdown",
   "id": "426c0dcb",
   "metadata": {},
   "source": [
    "# Exploratory Analyses on regressions"
   ]
  },
  {
   "cell_type": "code",
   "execution_count": 74,
   "id": "ae9587ff",
   "metadata": {},
   "outputs": [],
   "source": [
    "FFD3 <- read.csv('//cbsu/data/Imaging/hauk/users/fm02/EOS_repo/EOS_EyeTrackingDataCollection/Data_Results/data_forR/norm_ffd_41.csv')\n",
    "\n",
    "FFD3 <- FFD3[FFD3$ms != 0, ]\n",
    "FFD3 <- subset(FFD3, ms>80 & ms<600)\n"
   ]
  },
  {
   "cell_type": "code",
   "execution_count": 75,
   "id": "ff490666",
   "metadata": {},
   "outputs": [],
   "source": [
    "FFD3$regressed = as.factor(FFD3$regressed)"
   ]
  },
  {
   "cell_type": "code",
   "execution_count": 76,
   "id": "ead45879",
   "metadata": {},
   "outputs": [
    {
     "data": {
      "text/plain": [
       "\n",
       "   0    1 \n",
       "9540 1426 "
      ]
     },
     "metadata": {},
     "output_type": "display_data"
    }
   ],
   "source": [
    "table(FFD3$regressed)"
   ]
  },
  {
   "cell_type": "code",
   "execution_count": 77,
   "id": "fdbbb79d",
   "metadata": {},
   "outputs": [],
   "source": [
    "# rescale trialnr\n",
    "trialnr_scaled <- as.data.frame(scale(FFD3[,\"trialnr\"]))\n",
    "FFD3$trialnrscaled=unlist(trialnr_scaled)"
   ]
  },
  {
   "cell_type": "code",
   "execution_count": 78,
   "id": "7a4756a8",
   "metadata": {},
   "outputs": [],
   "source": [
    "reg_Basic = glmer(regressed ~ n_prior_fix + trialnrscaled + LENprec + Position +\n",
    "                  + (n_prior_fix + trialnrscaled + LENprec +Position || Subject) + \n",
    "                  + (1|ID) , family=binomial, data = FFD3,\n",
    "                     control=glmerControl(optimizer=\"bobyqa\", optCtrl=list(maxfun=50000)))"
   ]
  },
  {
   "cell_type": "markdown",
   "id": "8927471e",
   "metadata": {},
   "source": [
    "Remove postition to allow the model to converge."
   ]
  },
  {
   "cell_type": "code",
   "execution_count": 79,
   "id": "e0933872",
   "metadata": {},
   "outputs": [],
   "source": [
    "reg_Basic = glmer(regressed ~ n_prior_fix + trialnrscaled + LENprec + Position +\n",
    "                  + (n_prior_fix + trialnrscaled + LENprec || Subject) + \n",
    "                  + (1|ID) , family=binomial, data = FFD3,\n",
    "                     control=glmerControl(optimizer=\"bobyqa\", optCtrl=list(maxfun=50000)))"
   ]
  },
  {
   "cell_type": "code",
   "execution_count": 80,
   "id": "4ccf4fdd",
   "metadata": {
    "scrolled": true
   },
   "outputs": [
    {
     "data": {
      "text/plain": [
       "Generalized linear mixed model fit by maximum likelihood (Laplace\n",
       "  Approximation) [glmerMod]\n",
       " Family: binomial  ( logit )\n",
       "Formula: regressed ~ n_prior_fix + trialnrscaled + LENprec + Position +  \n",
       "    +(n_prior_fix + trialnrscaled + LENprec || Subject) + +(1 |      ID)\n",
       "   Data: FFD3\n",
       "Control: glmerControl(optimizer = \"bobyqa\", optCtrl = list(maxfun = 50000))\n",
       "\n",
       "     AIC      BIC   logLik deviance df.resid \n",
       "  7684.9   7757.9  -3832.5   7664.9    10956 \n",
       "\n",
       "Scaled residuals: \n",
       "    Min      1Q  Median      3Q     Max \n",
       "-1.4711 -0.4048 -0.2820 -0.1896  8.1702 \n",
       "\n",
       "Random effects:\n",
       " Groups    Name          Variance Std.Dev.\n",
       " ID        (Intercept)   0.23137  0.4810  \n",
       " Subject   LENprec       0.10956  0.3310  \n",
       " Subject.1 trialnrscaled 0.01701  0.1304  \n",
       " Subject.2 n_prior_fix   0.02638  0.1624  \n",
       " Subject.3 (Intercept)   0.73821  0.8592  \n",
       "Number of obs: 10966, groups:  ID, 400; Subject, 40\n",
       "\n",
       "Fixed effects:\n",
       "              Estimate Std. Error z value Pr(>|z|)    \n",
       "(Intercept)   -2.27133    0.14374 -15.801  < 2e-16 ***\n",
       "n_prior_fix   -0.26145    0.04782  -5.467 4.57e-08 ***\n",
       "trialnrscaled -0.11799    0.03801  -3.104  0.00191 ** \n",
       "LENprec       -0.16651    0.06824  -2.440  0.01469 *  \n",
       "Position       0.20840    0.04226   4.932 8.14e-07 ***\n",
       "---\n",
       "Signif. codes:  0 '***' 0.001 '**' 0.01 '*' 0.05 '.' 0.1 ' ' 1\n",
       "\n",
       "Correlation of Fixed Effects:\n",
       "            (Intr) n_prr_ trlnrs LENprc\n",
       "n_prior_fix  0.040                     \n",
       "trialnrscld  0.022  0.090              \n",
       "LENprec      0.014 -0.087 -0.014       \n",
       "Position    -0.027 -0.323 -0.047  0.076"
      ]
     },
     "metadata": {},
     "output_type": "display_data"
    }
   ],
   "source": [
    "summary(reg_Basic)"
   ]
  },
  {
   "cell_type": "code",
   "execution_count": 81,
   "id": "e0ff8cb2",
   "metadata": {},
   "outputs": [
    {
     "name": "stderr",
     "output_type": "stream",
     "text": [
      "boundary (singular) fit: see ?isSingular\n"
     ]
    },
    {
     "data": {
      "text/plain": [
       "Generalized linear mixed model fit by maximum likelihood (Laplace\n",
       "  Approximation) [glmerMod]\n",
       " Family: binomial  ( logit )\n",
       "Formula: regressed ~ n_prior_fix + trialnrscaled + LENprec + Position +  \n",
       "    Sim + ConcM + +(n_prior_fix + trialnrscaled + LENprec + Sim +  \n",
       "    ConcM || Subject) + +(1 | ID)\n",
       "   Data: FFD3\n",
       "Control: glmerControl(optimizer = \"bobyqa\", optCtrl = list(maxfun = 50000))\n",
       "\n",
       "     AIC      BIC   logLik deviance df.resid \n",
       "  7683.8   7786.1  -3827.9   7655.8    10952 \n",
       "\n",
       "Scaled residuals: \n",
       "    Min      1Q  Median      3Q     Max \n",
       "-1.4626 -0.4045 -0.2824 -0.1883  8.3242 \n",
       "\n",
       "Random effects:\n",
       " Groups    Name          Variance Std.Dev.\n",
       " ID        (Intercept)   0.21767  0.4665  \n",
       " Subject   ConcM         0.00000  0.0000  \n",
       " Subject.1 Sim           0.00000  0.0000  \n",
       " Subject.2 LENprec       0.11064  0.3326  \n",
       " Subject.3 trialnrscaled 0.01702  0.1305  \n",
       " Subject.4 n_prior_fix   0.02634  0.1623  \n",
       " Subject.5 (Intercept)   0.73713  0.8586  \n",
       "Number of obs: 10966, groups:  ID, 400; Subject, 40\n",
       "\n",
       "Fixed effects:\n",
       "              Estimate Std. Error z value Pr(>|z|)    \n",
       "(Intercept)   -2.27200    0.14355 -15.827  < 2e-16 ***\n",
       "n_prior_fix   -0.25390    0.04783  -5.309 1.10e-07 ***\n",
       "trialnrscaled -0.11775    0.03801  -3.098  0.00195 ** \n",
       "LENprec       -0.15753    0.06848  -2.300  0.02143 *  \n",
       "Position       0.20259    0.04184   4.842 1.29e-06 ***\n",
       "Sim           -0.10755    0.03926  -2.739  0.00615 ** \n",
       "ConcM          0.07132    0.03911   1.824  0.06819 .  \n",
       "---\n",
       "Signif. codes:  0 '***' 0.001 '**' 0.01 '*' 0.05 '.' 0.1 ' ' 1\n",
       "\n",
       "Correlation of Fixed Effects:\n",
       "            (Intr) n_prr_ trlnrs LENprc Positn Sim   \n",
       "n_prior_fix  0.040                                   \n",
       "trialnrscld  0.022  0.089                            \n",
       "LENprec      0.013 -0.083 -0.014                     \n",
       "Position    -0.027 -0.327 -0.046  0.074              \n",
       "Sim          0.019 -0.016  0.001 -0.006  0.031       \n",
       "ConcM       -0.005  0.048 -0.002  0.082 -0.029 -0.171\n",
       "optimizer (bobyqa) convergence code: 0 (OK)\n",
       "boundary (singular) fit: see ?isSingular\n"
      ]
     },
     "metadata": {},
     "output_type": "display_data"
    }
   ],
   "source": [
    "additive_PrReg = glmer(regressed ~ n_prior_fix + trialnrscaled + LENprec + Position + Sim + ConcM +\n",
    "                 + (n_prior_fix + trialnrscaled + LENprec + Sim + ConcM ||Subject) +\n",
    "                 + (1|ID), family=binomial, data = FFD3,\n",
    "                     control=glmerControl(optimizer=\"bobyqa\", optCtrl=list(maxfun=50000)))\n",
    "summary(additive_PrReg)"
   ]
  },
  {
   "cell_type": "markdown",
   "id": "6f461c1f",
   "metadata": {},
   "source": [
    "Unfortunately, both predictability and concreteness random effects have zero variance, so we exclude them from the model, to allow it to converge."
   ]
  },
  {
   "cell_type": "code",
   "execution_count": 82,
   "id": "44176a31",
   "metadata": {
    "scrolled": true
   },
   "outputs": [
    {
     "data": {
      "text/plain": [
       "Generalized linear mixed model fit by maximum likelihood (Laplace\n",
       "  Approximation) [glmerMod]\n",
       " Family: binomial  ( logit )\n",
       "Formula: regressed ~ n_prior_fix + trialnrscaled + LENprec + Position +  \n",
       "    Sim + ConcM + +(n_prior_fix + trialnrscaled + LENprec ||  \n",
       "    Subject) + +(1 | ID)\n",
       "   Data: FFD3\n",
       "Control: glmerControl(optimizer = \"bobyqa\", optCtrl = list(maxfun = 50000))\n",
       "\n",
       "     AIC      BIC   logLik deviance df.resid \n",
       "  7679.8   7767.5  -3827.9   7655.8    10954 \n",
       "\n",
       "Scaled residuals: \n",
       "    Min      1Q  Median      3Q     Max \n",
       "-1.4626 -0.4045 -0.2824 -0.1883  8.3242 \n",
       "\n",
       "Random effects:\n",
       " Groups    Name          Variance Std.Dev.\n",
       " ID        (Intercept)   0.21767  0.4665  \n",
       " Subject   LENprec       0.11064  0.3326  \n",
       " Subject.1 trialnrscaled 0.01702  0.1305  \n",
       " Subject.2 n_prior_fix   0.02634  0.1623  \n",
       " Subject.3 (Intercept)   0.73713  0.8586  \n",
       "Number of obs: 10966, groups:  ID, 400; Subject, 40\n",
       "\n",
       "Fixed effects:\n",
       "              Estimate Std. Error z value Pr(>|z|)    \n",
       "(Intercept)   -2.27200    0.14355 -15.828  < 2e-16 ***\n",
       "n_prior_fix   -0.25390    0.04783  -5.309 1.10e-07 ***\n",
       "trialnrscaled -0.11775    0.03801  -3.098  0.00195 ** \n",
       "LENprec       -0.15753    0.06848  -2.300  0.02143 *  \n",
       "Position       0.20259    0.04184   4.842 1.29e-06 ***\n",
       "Sim           -0.10755    0.03926  -2.739  0.00615 ** \n",
       "ConcM          0.07132    0.03911   1.824  0.06819 .  \n",
       "---\n",
       "Signif. codes:  0 '***' 0.001 '**' 0.01 '*' 0.05 '.' 0.1 ' ' 1\n",
       "\n",
       "Correlation of Fixed Effects:\n",
       "            (Intr) n_prr_ trlnrs LENprc Positn Sim   \n",
       "n_prior_fix  0.040                                   \n",
       "trialnrscld  0.022  0.089                            \n",
       "LENprec      0.013 -0.083 -0.014                     \n",
       "Position    -0.027 -0.327 -0.046  0.074              \n",
       "Sim          0.019 -0.016  0.001 -0.006  0.031       \n",
       "ConcM       -0.005  0.048 -0.002  0.082 -0.029 -0.171"
      ]
     },
     "metadata": {},
     "output_type": "display_data"
    }
   ],
   "source": [
    "additive_PrReg = glmer(regressed ~ n_prior_fix + trialnrscaled + LENprec + Position + Sim + ConcM +\n",
    "                 + (n_prior_fix + trialnrscaled + LENprec ||Subject) +\n",
    "                 + (1|ID), family=binomial, data = FFD3,\n",
    "                     control=glmerControl(optimizer=\"bobyqa\", optCtrl=list(maxfun=50000)))\n",
    "summary(additive_PrReg)"
   ]
  },
  {
   "cell_type": "code",
   "execution_count": 83,
   "id": "485a761c",
   "metadata": {},
   "outputs": [],
   "source": [
    "sjPlot::tab_model(additive_PrReg, pred.labels = c('Intercept',\n",
    "                                                  'N previous fixations',\n",
    "                                                  'Trial order',\n",
    "                                                  'Preceding Length',\n",
    "                                                  'Position',\n",
    "                                                  'Predictability',\n",
    "                                                  'Concreteness'))"
   ]
  },
  {
   "cell_type": "markdown",
   "id": "5b228845",
   "metadata": {},
   "source": [
    "## FFD Analysis for regressed vs non-regressed trials"
   ]
  },
  {
   "cell_type": "markdown",
   "id": "d496b2ec",
   "metadata": {},
   "source": [
    "### Not regressed"
   ]
  },
  {
   "cell_type": "code",
   "execution_count": 84,
   "id": "b0d7a0b9",
   "metadata": {},
   "outputs": [],
   "source": [
    "FFD2 <- read.csv('//cbsu/data/Imaging/hauk/users/fm02/EOS_repo/EOS_EyeTrackingDataCollection/Data_Results/data_forR/norm_ffd_41_final.csv')\n",
    "\n",
    "FFD2 <- FFD2[FFD2$ms != 0, ]\n",
    "\n",
    "# consider only words that were not regressed\n",
    "FFD2 <- FFD2[FFD2$regressed != 1, ]"
   ]
  },
  {
   "cell_type": "code",
   "execution_count": 85,
   "id": "0ee47a4a",
   "metadata": {},
   "outputs": [],
   "source": [
    "additive_not_reg = lmer(ms ~ LogFreqZipf + Position + Sim + ConcM +\n",
    "                        + (LogFreqZipf + Position + Sim + ConcM ||Subject) +\n",
    "                        + (1|ID), data = FFD2,\n",
    "                     control=lmerControl(optimizer=\"bobyqa\", optCtrl=list(maxfun=50000)))"
   ]
  },
  {
   "cell_type": "code",
   "execution_count": 86,
   "id": "ff304712",
   "metadata": {
    "scrolled": true
   },
   "outputs": [
    {
     "data": {
      "text/plain": [
       "Linear mixed model fit by REML. t-tests use Satterthwaite's method [\n",
       "lmerModLmerTest]\n",
       "Formula: \n",
       "ms ~ LogFreqZipf + Position + Sim + ConcM + +(LogFreqZipf + Position +  \n",
       "    Sim + ConcM || Subject) + +(1 | ID)\n",
       "   Data: FFD2\n",
       "Control: lmerControl(optimizer = \"bobyqa\", optCtrl = list(maxfun = 50000))\n",
       "\n",
       "REML criterion at convergence: 106772.3\n",
       "\n",
       "Scaled residuals: \n",
       "    Min      1Q  Median      3Q     Max \n",
       "-3.1879 -0.6391 -0.1468  0.4627  5.4897 \n",
       "\n",
       "Random effects:\n",
       " Groups    Name        Variance Std.Dev.\n",
       " ID        (Intercept)  171.369 13.091  \n",
       " Subject   ConcM          4.763  2.182  \n",
       " Subject.1 Sim            9.073  3.012  \n",
       " Subject.2 Position      13.309  3.648  \n",
       " Subject.3 LogFreqZipf   21.094  4.593  \n",
       " Subject.4 (Intercept)  709.667 26.640  \n",
       " Residual              4036.330 63.532  \n",
       "Number of obs: 9540, groups:  ID, 400; Subject, 40\n",
       "\n",
       "Fixed effects:\n",
       "            Estimate Std. Error      df t value Pr(>|t|)    \n",
       "(Intercept)  221.262      4.317  40.888  51.250  < 2e-16 ***\n",
       "LogFreqZipf   -2.223      1.198  76.736  -1.855   0.0674 .  \n",
       "Position       2.071      1.105  81.969   1.875   0.0644 .  \n",
       "Sim           -6.024      1.078  91.461  -5.588 2.35e-07 ***\n",
       "ConcM         -2.215      1.009 103.515  -2.195   0.0304 *  \n",
       "---\n",
       "Signif. codes:  0 '***' 0.001 '**' 0.01 '*' 0.05 '.' 0.1 ' ' 1\n",
       "\n",
       "Correlation of Fixed Effects:\n",
       "            (Intr) LgFrqZ Positn Sim   \n",
       "LogFreqZipf  0.002                     \n",
       "Position     0.003 -0.009              \n",
       "Sim          0.000 -0.125  0.026       \n",
       "ConcM        0.003 -0.018  0.002 -0.132"
      ]
     },
     "metadata": {},
     "output_type": "display_data"
    }
   ],
   "source": [
    "summary(additive_not_reg)"
   ]
  },
  {
   "cell_type": "markdown",
   "id": "56df521a",
   "metadata": {},
   "source": [
    "### Regressed"
   ]
  },
  {
   "cell_type": "code",
   "execution_count": 87,
   "id": "67344ff7",
   "metadata": {},
   "outputs": [],
   "source": [
    "FFD2 <- read.csv('//cbsu/data/Imaging/hauk/users/fm02/EOS_repo/EOS_EyeTrackingDataCollection/Data_Results/data_forR/norm_ffd_41_final.csv')\n",
    "# conside only words that were regressed\n",
    "FFD2 <- FFD2[FFD2$regressed == 1, ]\n",
    "\n",
    "FFD2 <- FFD2[FFD2$ms != 0, ]\n"
   ]
  },
  {
   "cell_type": "code",
   "execution_count": 88,
   "id": "71901be9",
   "metadata": {
    "scrolled": true
   },
   "outputs": [
    {
     "name": "stderr",
     "output_type": "stream",
     "text": [
      "boundary (singular) fit: see ?isSingular\n"
     ]
    },
    {
     "data": {
      "text/plain": [
       "Linear mixed model fit by REML. t-tests use Satterthwaite's method [\n",
       "lmerModLmerTest]\n",
       "Formula: ms ~ PRECEDING_LogFreqZipf + time_before_ff + plausibility +  \n",
       "    Sim + ConcM + +(PRECEDING_LogFreqZipf + time_before_ff +  \n",
       "    plausibility + Sim + ConcM || Subject) + (1 | ID)\n",
       "   Data: FFD2\n",
       "\n",
       "REML criterion at convergence: 16023.3\n",
       "\n",
       "Scaled residuals: \n",
       "    Min      1Q  Median      3Q     Max \n",
       "-2.6218 -0.6147 -0.1292  0.4641  4.7808 \n",
       "\n",
       "Random effects:\n",
       " Groups    Name                  Variance Std.Dev.\n",
       " ID        (Intercept)            135.65  11.647  \n",
       " Subject   ConcM                   18.32   4.280  \n",
       " Subject.1 Sim                      0.00   0.000  \n",
       " Subject.2 plausibility            49.51   7.037  \n",
       " Subject.3 time_before_ff          94.67   9.730  \n",
       " Subject.4 PRECEDING_LogFreqZipf   65.70   8.106  \n",
       " Subject.5 (Intercept)            429.02  20.713  \n",
       " Residual                        4065.75  63.763  \n",
       "Number of obs: 1426, groups:  ID, 377; Subject, 40\n",
       "\n",
       "Fixed effects:\n",
       "                      Estimate Std. Error      df t value Pr(>|t|)    \n",
       "(Intercept)            226.836      3.963  36.763  57.235  < 2e-16 ***\n",
       "PRECEDING_LogFreqZipf    6.317      2.468  28.068   2.559  0.01617 *  \n",
       "time_before_ff           5.299      2.590  24.577   2.046  0.05159 .  \n",
       "plausibility            -7.677      2.616  48.733  -2.934  0.00509 ** \n",
       "Sim                      2.491      2.412 272.438   1.033  0.30264    \n",
       "ConcM                   -2.551      2.090  28.643  -1.221  0.23207    \n",
       "---\n",
       "Signif. codes:  0 '***' 0.001 '**' 0.01 '*' 0.05 '.' 0.1 ' ' 1\n",
       "\n",
       "Correlation of Fixed Effects:\n",
       "            (Intr) PRECED tm_bf_ plsblt Sim   \n",
       "PRECEDING_L -0.035                            \n",
       "time_bfr_ff  0.045  0.039                     \n",
       "plausibilty  0.020 -0.044  0.032              \n",
       "Sim          0.029  0.023 -0.063 -0.528       \n",
       "ConcM       -0.014 -0.062  0.039  0.225 -0.275\n",
       "optimizer (nloptwrap) convergence code: 0 (OK)\n",
       "boundary (singular) fit: see ?isSingular\n"
      ]
     },
     "metadata": {},
     "output_type": "display_data"
    }
   ],
   "source": [
    "additive_reg = lmer(ms ~ PRECEDING_LogFreqZipf + time_before_ff + plausibility + Sim + ConcM +\n",
    "                    + (PRECEDING_LogFreqZipf + time_before_ff + plausibility + Sim + ConcM ||Subject)\n",
    "                    + (1|ID) , data = FFD2)\n",
    "summary(additive_reg)"
   ]
  },
  {
   "cell_type": "markdown",
   "id": "906f2e88",
   "metadata": {},
   "source": [
    "Also in this case, discrard predictability random slope as variance is very close to zero."
   ]
  },
  {
   "cell_type": "code",
   "execution_count": 89,
   "id": "d22ae25f",
   "metadata": {
    "scrolled": true
   },
   "outputs": [
    {
     "data": {
      "text/plain": [
       "Linear mixed model fit by REML. t-tests use Satterthwaite's method [\n",
       "lmerModLmerTest]\n",
       "Formula: ms ~ PRECEDING_LogFreqZipf + time_before_ff + plausibility +  \n",
       "    Sim + ConcM + +(PRECEDING_LogFreqZipf + time_before_ff +  \n",
       "    plausibility + ConcM || Subject) + (1 | ID)\n",
       "   Data: FFD2\n",
       "\n",
       "REML criterion at convergence: 16023.3\n",
       "\n",
       "Scaled residuals: \n",
       "    Min      1Q  Median      3Q     Max \n",
       "-2.6218 -0.6147 -0.1292  0.4641  4.7808 \n",
       "\n",
       "Random effects:\n",
       " Groups    Name                  Variance Std.Dev.\n",
       " ID        (Intercept)            135.65  11.647  \n",
       " Subject   ConcM                   18.32   4.280  \n",
       " Subject.1 plausibility            49.51   7.036  \n",
       " Subject.2 time_before_ff          94.67   9.730  \n",
       " Subject.3 PRECEDING_LogFreqZipf   65.70   8.106  \n",
       " Subject.4 (Intercept)            428.98  20.712  \n",
       " Residual                        4065.77  63.763  \n",
       "Number of obs: 1426, groups:  ID, 377; Subject, 40\n",
       "\n",
       "Fixed effects:\n",
       "                      Estimate Std. Error      df t value Pr(>|t|)    \n",
       "(Intercept)            226.835      3.963  36.767  57.237  < 2e-16 ***\n",
       "PRECEDING_LogFreqZipf    6.317      2.468  28.068   2.559  0.01617 *  \n",
       "time_before_ff           5.299      2.590  24.577   2.046  0.05159 .  \n",
       "plausibility            -7.677      2.616  48.734  -2.934  0.00509 ** \n",
       "Sim                      2.491      2.412 272.439   1.033  0.30264    \n",
       "ConcM                   -2.552      2.090  28.642  -1.221  0.23205    \n",
       "---\n",
       "Signif. codes:  0 '***' 0.001 '**' 0.01 '*' 0.05 '.' 0.1 ' ' 1\n",
       "\n",
       "Correlation of Fixed Effects:\n",
       "            (Intr) PRECED tm_bf_ plsblt Sim   \n",
       "PRECEDING_L -0.035                            \n",
       "time_bfr_ff  0.045  0.039                     \n",
       "plausibilty  0.020 -0.044  0.032              \n",
       "Sim          0.029  0.023 -0.063 -0.528       \n",
       "ConcM       -0.014 -0.062  0.039  0.225 -0.275"
      ]
     },
     "metadata": {},
     "output_type": "display_data"
    }
   ],
   "source": [
    "additive_reg = lmer(ms ~ PRECEDING_LogFreqZipf + time_before_ff + plausibility + Sim + ConcM +\n",
    "                    + (PRECEDING_LogFreqZipf + time_before_ff + plausibility +ConcM||Subject)\n",
    "                    + (1|ID) , data = FFD2)\n",
    "summary(additive_reg)"
   ]
  },
  {
   "cell_type": "markdown",
   "id": "b8d2cf6e",
   "metadata": {},
   "source": [
    "Regressed and not regressed trials seem to be sensitive to different aspects of word/context."
   ]
  },
  {
   "cell_type": "code",
   "execution_count": null,
   "id": "b64e2aa6",
   "metadata": {},
   "outputs": [],
   "source": []
  }
 ],
 "metadata": {
  "kernelspec": {
   "display_name": "R",
   "language": "R",
   "name": "ir"
  },
  "language_info": {
   "codemirror_mode": "r",
   "file_extension": ".r",
   "mimetype": "text/x-r-source",
   "name": "R",
   "pygments_lexer": "r",
   "version": "3.6.1"
  }
 },
 "nbformat": 4,
 "nbformat_minor": 5
}
